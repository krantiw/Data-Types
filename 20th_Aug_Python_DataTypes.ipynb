{
 "cells": [
  {
   "cell_type": "markdown",
   "id": "ba11c1dd-0fa2-4b91-835f-b4871b990bf6",
   "metadata": {},
   "source": [
    "1. Write a program to reverse a string."
   ]
  },
  {
   "cell_type": "code",
   "execution_count": 1,
   "id": "d00c7dc6-007b-4125-8aad-e59c82571c57",
   "metadata": {},
   "outputs": [],
   "source": [
    "txt = \"Lets learn Data Science\""
   ]
  },
  {
   "cell_type": "code",
   "execution_count": 2,
   "id": "7e41f7a3-9719-4033-8111-0601dd160412",
   "metadata": {},
   "outputs": [
    {
     "data": {
      "text/plain": [
       "'ecneicS ataD nrael steL'"
      ]
     },
     "execution_count": 2,
     "metadata": {},
     "output_type": "execute_result"
    }
   ],
   "source": [
    "txt[::-1]"
   ]
  },
  {
   "cell_type": "code",
   "execution_count": 4,
   "id": "f0e2dae3-8004-4b06-9878-d583f58d9372",
   "metadata": {},
   "outputs": [
    {
     "data": {
      "text/plain": [
       "'desrever siht teg steL'"
      ]
     },
     "execution_count": 4,
     "metadata": {},
     "output_type": "execute_result"
    }
   ],
   "source": [
    "def rev_string(txt):\n",
    "    return txt[::-1]\n",
    "\n",
    "rev_string(\"Lets get this reversed\")"
   ]
  },
  {
   "cell_type": "markdown",
   "id": "2bf30a3a-dd85-4209-9a17-c52aead99acc",
   "metadata": {},
   "source": [
    "2. Check if a string is a palindrome."
   ]
  },
  {
   "cell_type": "code",
   "execution_count": 8,
   "id": "126b0d26-7ec5-4267-914d-ebbcbb5cf4a3",
   "metadata": {},
   "outputs": [],
   "source": [
    "def IsPalindrome(txt1):\n",
    "    if txt1 == txt1[::-1]:\n",
    "        return \"Yes\",txt1 ,\"is Palindrome\"\n",
    "    else:\n",
    "        return \"NOOO\", txt1, \"ISNT Palindrome\""
   ]
  },
  {
   "cell_type": "code",
   "execution_count": 9,
   "id": "6ba8a507-a70c-483e-8dda-73bcd05fec4d",
   "metadata": {},
   "outputs": [
    {
     "data": {
      "text/plain": [
       "('Yes', 'LoovvvooL', 'is Palindrome')"
      ]
     },
     "execution_count": 9,
     "metadata": {},
     "output_type": "execute_result"
    }
   ],
   "source": [
    "IsPalindrome(\"LoovvvooL\")"
   ]
  },
  {
   "cell_type": "code",
   "execution_count": 10,
   "id": "0835b8f8-4c6a-45ac-839e-32a7e672f1ff",
   "metadata": {},
   "outputs": [
    {
     "data": {
      "text/plain": [
       "('NOOO', 'Leve', 'ISNT Palindrome')"
      ]
     },
     "execution_count": 10,
     "metadata": {},
     "output_type": "execute_result"
    }
   ],
   "source": [
    "IsPalindrome(\"Leve\")"
   ]
  },
  {
   "cell_type": "markdown",
   "id": "fda276fb-af50-4851-8cbe-2ec5dcffa8d7",
   "metadata": {},
   "source": [
    "3. Convert a string to uppercase."
   ]
  },
  {
   "cell_type": "code",
   "execution_count": 13,
   "id": "4971eb90-b06c-42de-b1e2-12a62e8616ce",
   "metadata": {},
   "outputs": [
    {
     "data": {
      "text/plain": [
       "'Lets learn Data Science'"
      ]
     },
     "execution_count": 13,
     "metadata": {},
     "output_type": "execute_result"
    }
   ],
   "source": [
    "txt"
   ]
  },
  {
   "cell_type": "code",
   "execution_count": 11,
   "id": "b4245696-44aa-4751-b284-0b8d4696a999",
   "metadata": {},
   "outputs": [
    {
     "data": {
      "text/plain": [
       "'LETS LEARN DATA SCIENCE'"
      ]
     },
     "execution_count": 11,
     "metadata": {},
     "output_type": "execute_result"
    }
   ],
   "source": [
    "txt.upper()"
   ]
  },
  {
   "cell_type": "markdown",
   "id": "0b0a7a98-60f4-4376-8001-1a5bfd25544e",
   "metadata": {},
   "source": [
    "4. Convert a string to lowercase."
   ]
  },
  {
   "cell_type": "code",
   "execution_count": 12,
   "id": "25ede210-8fa2-4185-9408-f1dd2b11fad7",
   "metadata": {},
   "outputs": [
    {
     "data": {
      "text/plain": [
       "'lets learn data science'"
      ]
     },
     "execution_count": 12,
     "metadata": {},
     "output_type": "execute_result"
    }
   ],
   "source": [
    "txt.lower()"
   ]
  },
  {
   "cell_type": "markdown",
   "id": "649fc8f7-ce3b-4332-86fe-8cbc90b717ea",
   "metadata": {},
   "source": [
    "5. Count the number of vowels in a string.\n",
    "6. Count the number of consonants in a string."
   ]
  },
  {
   "cell_type": "code",
   "execution_count": 14,
   "id": "d30d171b-7e9c-41e4-99d5-79a2c9a536b6",
   "metadata": {},
   "outputs": [
    {
     "name": "stdin",
     "output_type": "stream",
     "text": [
      " what are you doing?\n"
     ]
    }
   ],
   "source": [
    "input_string = input()"
   ]
  },
  {
   "cell_type": "code",
   "execution_count": 15,
   "id": "0cb53d8c-5447-4686-8ca9-442c0d53b8b4",
   "metadata": {},
   "outputs": [
    {
     "name": "stdout",
     "output_type": "stream",
     "text": [
      "The number of vowels in what are you doing? are 7\n",
      "The number of Consonents in what are you doing? are 12\n"
     ]
    }
   ],
   "source": [
    "v_count = 0\n",
    "c_count = 0\n",
    "for a in input_string:\n",
    "    if a in \"aeiouAEIOU\":\n",
    "        v_count = v_count +1\n",
    "    else:\n",
    "        c_count = c_count +1\n",
    "        \n",
    "print(\"The number of vowels in\", input_string ,\"are\", v_count)\n",
    "print(\"The number of Consonents in\", input_string, \"are\", c_count)"
   ]
  },
  {
   "cell_type": "markdown",
   "id": "e85665bc-b0f0-46e8-8e92-d3f3ccf6c521",
   "metadata": {},
   "source": [
    "7. Remove all whitespaces from a string."
   ]
  },
  {
   "cell_type": "code",
   "execution_count": 19,
   "id": "7aef995f-8ead-4398-8a29-95a17d46b0fd",
   "metadata": {},
   "outputs": [
    {
     "data": {
      "text/plain": [
       "'what are you doing?'"
      ]
     },
     "execution_count": 19,
     "metadata": {},
     "output_type": "execute_result"
    }
   ],
   "source": [
    "input_string"
   ]
  },
  {
   "cell_type": "code",
   "execution_count": 16,
   "id": "2859d071-166c-4081-b2fd-ae8204cd0aef",
   "metadata": {},
   "outputs": [
    {
     "name": "stdout",
     "output_type": "stream",
     "text": [
      "After removing white Spaces from: what are you doing? The output is: whatareyoudoing?\n"
     ]
    }
   ],
   "source": [
    "def remove_whitespaces(input_string):\n",
    "    return input_string.replace(\" \",\"\")\n",
    "print(\"After removing white Spaces from:\", input_string,  \"The output is:\", remove_whitespaces(input_string))"
   ]
  },
  {
   "cell_type": "code",
   "execution_count": 17,
   "id": "85c2a06f-d968-401e-900f-c70617476dd5",
   "metadata": {},
   "outputs": [
    {
     "data": {
      "text/plain": [
       "'whatareyoudoing?'"
      ]
     },
     "execution_count": 17,
     "metadata": {},
     "output_type": "execute_result"
    }
   ],
   "source": [
    "input_string.replace(\" \",\"\")"
   ]
  },
  {
   "cell_type": "markdown",
   "id": "84acaa79-fd56-4c39-b39d-666ebe94d65c",
   "metadata": {},
   "source": [
    "8. Find the length of a string without using the `len()` function."
   ]
  },
  {
   "cell_type": "code",
   "execution_count": 18,
   "id": "0a7fea29-c00f-4b37-aa32-ba4bcd6a9265",
   "metadata": {},
   "outputs": [
    {
     "name": "stdout",
     "output_type": "stream",
     "text": [
      "The length of the straing what are you doing? is 19\n"
     ]
    }
   ],
   "source": [
    "n_count=0\n",
    "for a in input_string:\n",
    "    n_count = n_count +1\n",
    "print(\"The length of the straing\", input_string, \"is\", n_count)"
   ]
  },
  {
   "cell_type": "code",
   "execution_count": 20,
   "id": "e55122d2-bd8f-4350-9d3b-66c4fa31848a",
   "metadata": {},
   "outputs": [
    {
     "name": "stdin",
     "output_type": "stream",
     "text": [
      " DataScience\n"
     ]
    },
    {
     "name": "stdout",
     "output_type": "stream",
     "text": [
      "length of: DataScience is 11\n"
     ]
    }
   ],
   "source": [
    "def length(str):\n",
    "    counts = 0\n",
    "    for k in str:\n",
    "        counts = counts +1\n",
    "        \n",
    "    return counts\n",
    "\n",
    "text1 = input()\n",
    "length(text1)\n",
    "print(\"length of:\", text1, \"is\", length(text1))"
   ]
  },
  {
   "cell_type": "markdown",
   "id": "884967a9-d26c-4bab-bb37-a7a67e64b570",
   "metadata": {},
   "source": [
    "9. Check if a string contains a specific word."
   ]
  },
  {
   "cell_type": "code",
   "execution_count": 33,
   "id": "bb3115e4-721d-4f0c-b089-9543cae6a136",
   "metadata": {},
   "outputs": [
    {
     "name": "stdout",
     "output_type": "stream",
     "text": [
      "('Yes', 'are', 'is in', 'what are you doing?')\n",
      "('No', 'if', 'ISNT in', 'what are you doing?')\n"
     ]
    }
   ],
   "source": [
    "def check(str):\n",
    "    if str in input_string:\n",
    "        return \"Yes\", str, \"is in\" ,input_string\n",
    "    else:\n",
    "        return \"No\", str, \"ISNT in\" ,input_string\n",
    "    \n",
    "\n",
    "print(check(\"are\"))\n",
    "print(check(\"if\"))"
   ]
  },
  {
   "cell_type": "markdown",
   "id": "7eb80152-f037-401c-ae1c-424d65c10362",
   "metadata": {},
   "source": [
    "10. Replace a word in a string with another word."
   ]
  },
  {
   "cell_type": "code",
   "execution_count": 34,
   "id": "74a91015-9e9c-4c5e-894f-2073cb761541",
   "metadata": {},
   "outputs": [
    {
     "data": {
      "text/plain": [
       "'what are your daily expenses doing?'"
      ]
     },
     "execution_count": 34,
     "metadata": {},
     "output_type": "execute_result"
    }
   ],
   "source": [
    "input_string.replace(\"you\", \"your daily expenses\")"
   ]
  },
  {
   "cell_type": "code",
   "execution_count": 35,
   "id": "bc94ab79-f201-47ac-824a-7c1334ef7788",
   "metadata": {},
   "outputs": [
    {
     "name": "stdout",
     "output_type": "stream",
     "text": [
      "The repalced String of what are you doing? is what are your daily expenses doing?\n"
     ]
    }
   ],
   "source": [
    "print(\"The repalced String of\" , input_string, \"is\" , input_string.replace(\"you\", \"your daily expenses\"))"
   ]
  },
  {
   "cell_type": "markdown",
   "id": "3f4930e6-5c33-42be-957b-4a19f18d0f80",
   "metadata": {},
   "source": [
    "11. Count the occurrences of a word in a string."
   ]
  },
  {
   "cell_type": "code",
   "execution_count": 36,
   "id": "806da14f-7a9d-4993-8b09-d433f96b5046",
   "metadata": {},
   "outputs": [],
   "source": [
    "text=\"the pani in the panipuri is very paniri\""
   ]
  },
  {
   "cell_type": "code",
   "execution_count": 37,
   "id": "3260eaf5-4691-4575-b28c-41197386017c",
   "metadata": {},
   "outputs": [
    {
     "data": {
      "text/plain": [
       "3"
      ]
     },
     "execution_count": 37,
     "metadata": {},
     "output_type": "execute_result"
    }
   ],
   "source": [
    "text.count(\"pani\")"
   ]
  },
  {
   "cell_type": "markdown",
   "id": "604e172a-0667-4a13-962d-e5d6daffe31c",
   "metadata": {},
   "source": [
    "12. Find the first occurrence of a word in a string."
   ]
  },
  {
   "cell_type": "code",
   "execution_count": 38,
   "id": "84dedfe4-0a83-4dba-ad02-645d302b3989",
   "metadata": {},
   "outputs": [],
   "source": [
    "text2 =\"PW Skills is a good class with good faculties\""
   ]
  },
  {
   "cell_type": "code",
   "execution_count": 40,
   "id": "2160d662-7bad-41bb-9f56-f7db83665ded",
   "metadata": {},
   "outputs": [
    {
     "name": "stdout",
     "output_type": "stream",
     "text": [
      "The first occurrence of good 15\n"
     ]
    }
   ],
   "source": [
    "print(\"The first occurrence of good\", text2.find(\"good\"))"
   ]
  },
  {
   "cell_type": "code",
   "execution_count": 43,
   "id": "95f5c149-3c7d-43c0-86f5-4025b692ccde",
   "metadata": {},
   "outputs": [
    {
     "data": {
      "text/plain": [
       "3"
      ]
     },
     "execution_count": 43,
     "metadata": {},
     "output_type": "execute_result"
    }
   ],
   "source": [
    "text2.find(\"S\")"
   ]
  },
  {
   "cell_type": "markdown",
   "id": "1bad14a3-4a1c-4d9d-9226-58b557294f90",
   "metadata": {},
   "source": [
    "13. Find the last occurrence of a word in a string."
   ]
  },
  {
   "cell_type": "code",
   "execution_count": 46,
   "id": "62d1f4de-b341-468b-a74c-2aef7316b2fe",
   "metadata": {},
   "outputs": [
    {
     "name": "stdout",
     "output_type": "stream",
     "text": [
      "The last occurrence of good 31\n"
     ]
    }
   ],
   "source": [
    "print(\"The last occurrence of good\", text2.rfind(\"good\"))"
   ]
  },
  {
   "cell_type": "code",
   "execution_count": 49,
   "id": "5d8932d8-3e0a-41e6-8f27-85597d380fb4",
   "metadata": {},
   "outputs": [
    {
     "data": {
      "text/plain": [
       "4"
      ]
     },
     "execution_count": 49,
     "metadata": {},
     "output_type": "execute_result"
    }
   ],
   "source": [
    "\"Where\".rfind(\"e\")"
   ]
  },
  {
   "cell_type": "markdown",
   "id": "2e38f6e2-91c4-4662-ba32-cfc8da55ce12",
   "metadata": {},
   "source": [
    "14. Split a string into a list of words"
   ]
  },
  {
   "cell_type": "code",
   "execution_count": 51,
   "id": "a1e5fdfd-27fe-4d0d-a05e-bc21b6cc02dd",
   "metadata": {},
   "outputs": [
    {
     "data": {
      "text/plain": [
       "'PW Skills is a good class with good faculties'"
      ]
     },
     "execution_count": 51,
     "metadata": {},
     "output_type": "execute_result"
    }
   ],
   "source": [
    "text2"
   ]
  },
  {
   "cell_type": "code",
   "execution_count": 50,
   "id": "d63d71fe-9a90-4a9b-bc0d-7b8e8263b640",
   "metadata": {},
   "outputs": [
    {
     "data": {
      "text/plain": [
       "['PW', 'Skills', 'is', 'a', 'good', 'class', 'with', 'good', 'faculties']"
      ]
     },
     "execution_count": 50,
     "metadata": {},
     "output_type": "execute_result"
    }
   ],
   "source": [
    "text2.split()"
   ]
  },
  {
   "cell_type": "markdown",
   "id": "b78a0ee3-08db-47a7-9ca6-13dea550621a",
   "metadata": {},
   "source": [
    "15. Join a list of words into a string"
   ]
  },
  {
   "cell_type": "code",
   "execution_count": 52,
   "id": "98fc6535-a941-4877-b9d8-8d7b05332fc0",
   "metadata": {},
   "outputs": [],
   "source": [
    "list1 = [\"I\", \"am\", \"learning\", \"Data-Science\"]"
   ]
  },
  {
   "cell_type": "code",
   "execution_count": 53,
   "id": "faa1f9ac-577a-458b-b705-4710e27a9159",
   "metadata": {},
   "outputs": [
    {
     "data": {
      "text/plain": [
       "'I am learning Data-Science'"
      ]
     },
     "execution_count": 53,
     "metadata": {},
     "output_type": "execute_result"
    }
   ],
   "source": [
    "\" \".join(list1)"
   ]
  },
  {
   "cell_type": "code",
   "execution_count": 55,
   "id": "b3dea4c6-152e-465f-a5c9-5daa647b0fd7",
   "metadata": {},
   "outputs": [
    {
     "data": {
      "text/plain": [
       "'I am good'"
      ]
     },
     "execution_count": 55,
     "metadata": {},
     "output_type": "execute_result"
    }
   ],
   "source": [
    "\" \".join([\"I\", \"am\", \"good\"])"
   ]
  },
  {
   "cell_type": "markdown",
   "id": "12d8b604-06f4-4959-872b-4283f80170c6",
   "metadata": {},
   "source": [
    "16. Convert a string where words are separated by spaces to one where words\n",
    "are separated by underscores."
   ]
  },
  {
   "cell_type": "code",
   "execution_count": 56,
   "id": "9b4df523-ac29-49c9-9f32-73565de2672a",
   "metadata": {},
   "outputs": [],
   "source": [
    "text3 = \"Hello, How are you doing?\""
   ]
  },
  {
   "cell_type": "code",
   "execution_count": 57,
   "id": "b64eae2e-fe0f-42de-82d5-eb7ed63e9dbe",
   "metadata": {},
   "outputs": [
    {
     "data": {
      "text/plain": [
       "'Hello,_How_are_you_doing?'"
      ]
     },
     "execution_count": 57,
     "metadata": {},
     "output_type": "execute_result"
    }
   ],
   "source": [
    "text3.replace(\" \",\"_\")"
   ]
  },
  {
   "cell_type": "code",
   "execution_count": 61,
   "id": "82f12362-b697-4c73-a449-dcf0ac004a5a",
   "metadata": {},
   "outputs": [
    {
     "data": {
      "text/plain": [
       "['', 'ello, ', 'ow are you doing?']"
      ]
     },
     "execution_count": 61,
     "metadata": {},
     "output_type": "execute_result"
    }
   ],
   "source": [
    "text3.split(\"H\") #Split at H"
   ]
  },
  {
   "cell_type": "markdown",
   "id": "002de3c8-1c11-4841-97d7-0a605332fba7",
   "metadata": {},
   "source": [
    "17. Check if a string starts with a specific word or phrase.\n"
   ]
  },
  {
   "cell_type": "code",
   "execution_count": 62,
   "id": "86cf541a-5eb9-4379-b601-05e554f2a5ce",
   "metadata": {},
   "outputs": [
    {
     "data": {
      "text/plain": [
       "'Hello, How are you doing?'"
      ]
     },
     "execution_count": 62,
     "metadata": {},
     "output_type": "execute_result"
    }
   ],
   "source": [
    "text3"
   ]
  },
  {
   "cell_type": "code",
   "execution_count": 63,
   "id": "f3f2b2b2-33ef-4537-9889-c5b4fc579242",
   "metadata": {},
   "outputs": [
    {
     "data": {
      "text/plain": [
       "True"
      ]
     },
     "execution_count": 63,
     "metadata": {},
     "output_type": "execute_result"
    }
   ],
   "source": [
    "text3.startswith(\"Hello\")"
   ]
  },
  {
   "cell_type": "code",
   "execution_count": 64,
   "id": "a19f1da2-517a-4205-a5d5-6a704a8e34fa",
   "metadata": {},
   "outputs": [
    {
     "data": {
      "text/plain": [
       "False"
      ]
     },
     "execution_count": 64,
     "metadata": {},
     "output_type": "execute_result"
    }
   ],
   "source": [
    "text3.startswith(\"hello\")"
   ]
  },
  {
   "cell_type": "markdown",
   "id": "055806c2-427e-4e72-bda1-cfe74a0d39c6",
   "metadata": {},
   "source": [
    "18. Check if a string ends with a specific word or phrase."
   ]
  },
  {
   "cell_type": "code",
   "execution_count": 65,
   "id": "b1be51de-0421-4218-b780-1e895febdcc3",
   "metadata": {},
   "outputs": [
    {
     "data": {
      "text/plain": [
       "True"
      ]
     },
     "execution_count": 65,
     "metadata": {},
     "output_type": "execute_result"
    }
   ],
   "source": [
    "text3.endswith(\"?\")"
   ]
  },
  {
   "cell_type": "code",
   "execution_count": 66,
   "id": "8957ba0e-9a77-40b5-ac05-ccb89c868f63",
   "metadata": {},
   "outputs": [
    {
     "data": {
      "text/plain": [
       "False"
      ]
     },
     "execution_count": 66,
     "metadata": {},
     "output_type": "execute_result"
    }
   ],
   "source": [
    "text3.endswith(\"doing\")"
   ]
  },
  {
   "cell_type": "markdown",
   "id": "520177eb-c934-48da-8a4f-3a6c7378b7a2",
   "metadata": {},
   "source": [
    "19. Convert a string to title case"
   ]
  },
  {
   "cell_type": "code",
   "execution_count": 67,
   "id": "5f416c22-0cf3-4b50-8371-067fe1b6b5c6",
   "metadata": {},
   "outputs": [],
   "source": [
    "text4 = \"how is your data science course going?\""
   ]
  },
  {
   "cell_type": "code",
   "execution_count": 68,
   "id": "405bd71a-ba41-41fe-a069-0389199358a2",
   "metadata": {},
   "outputs": [
    {
     "name": "stdout",
     "output_type": "stream",
     "text": [
      "The title case for: how is your data science course going? is: How Is Your Data Science Course Going?\n"
     ]
    }
   ],
   "source": [
    "print(\"The title case for:\",text4,\"is:\", text4.title())"
   ]
  },
  {
   "cell_type": "markdown",
   "id": "eb153bf0-0b98-478e-ba1b-f5e42b926b5f",
   "metadata": {},
   "source": [
    "20. Find the longest word in a string."
   ]
  },
  {
   "cell_type": "code",
   "execution_count": 70,
   "id": "96eced20-0bf5-49d1-9344-5f26ccc2d357",
   "metadata": {},
   "outputs": [
    {
     "name": "stdin",
     "output_type": "stream",
     "text": [
      "please enter the input string: how is your data science course going?\n"
     ]
    },
    {
     "name": "stdout",
     "output_type": "stream",
     "text": [
      "The longest word in the input string is:  science With a word count of : 7\n"
     ]
    }
   ],
   "source": [
    "input_string = input(\"please enter the input string:\")\n",
    "\n",
    "length = 0 #initialise the length to 0\n",
    "longest_word = \"\"  #initialise the word to empty\n",
    "\n",
    "\n",
    "#convert the input string into list by using split \n",
    "for word in input_string.split():\n",
    "    if (len(word) > length):\n",
    "        length = len(word)\n",
    "        longest_word = word\n",
    "\n",
    "        \n",
    "print(\"The longest word in the input string is: \",longest_word, \"With a word count of :\",length)"
   ]
  },
  {
   "cell_type": "markdown",
   "id": "f40ce850-350d-404b-a7a3-24f616e94ba9",
   "metadata": {},
   "source": [
    "21. Find the shortest word in a string.\n"
   ]
  },
  {
   "cell_type": "code",
   "execution_count": 73,
   "id": "d26de6cb-20bb-4be1-b958-0e192080440a",
   "metadata": {},
   "outputs": [
    {
     "name": "stdout",
     "output_type": "stream",
     "text": [
      "The shortest word in how is your data science course going? is: is With a word count of : 2\n"
     ]
    }
   ],
   "source": [
    "length =100 #set the length tp any maximum value suppose 100\n",
    "shortest_word = 0\n",
    "\n",
    "for i in input_string.split():\n",
    "    if len(i)< length:\n",
    "        length = len(i)\n",
    "        shortest_word = i\n",
    "        \n",
    "print(\"The shortest word in\",input_string ,\"is:\", shortest_word, \"With a word count of :\", length)      "
   ]
  },
  {
   "cell_type": "markdown",
   "id": "455fe8a3-884a-4c0d-9adb-e6b747a305e9",
   "metadata": {},
   "source": [
    "22. Reverse the order of words in a string.\n"
   ]
  },
  {
   "cell_type": "code",
   "execution_count": 74,
   "id": "c7d84bdf-becb-414f-918d-5bcf4940af36",
   "metadata": {},
   "outputs": [
    {
     "name": "stdout",
     "output_type": "stream",
     "text": [
      "['how', 'is', 'your', 'data', 'science', 'course', 'going?']\n",
      "The reverse the order of words in a input string : ['going?', 'course', 'science', 'data', 'your', 'is', 'how']\n"
     ]
    }
   ],
   "source": [
    "print(input_string.split())\n",
    "print(\"The reverse the order of words in a input string :\",input_string.split()[::-1])"
   ]
  },
  {
   "cell_type": "markdown",
   "id": "392b4b4a-3202-421a-af2f-149888c34809",
   "metadata": {},
   "source": [
    "23. Check if a string is alphanumeric.\n"
   ]
  },
  {
   "cell_type": "code",
   "execution_count": 75,
   "id": "8feaf966-1b4d-45eb-ba0c-4623ff50c8ae",
   "metadata": {},
   "outputs": [
    {
     "data": {
      "text/plain": [
       "True"
      ]
     },
     "execution_count": 75,
     "metadata": {},
     "output_type": "execute_result"
    }
   ],
   "source": [
    "t = \"data12\"\n",
    "t.isalnum()"
   ]
  },
  {
   "cell_type": "code",
   "execution_count": 76,
   "id": "6546a932-021a-4f4b-9758-3f3d3c8bb64c",
   "metadata": {},
   "outputs": [
    {
     "data": {
      "text/plain": [
       "False"
      ]
     },
     "execution_count": 76,
     "metadata": {},
     "output_type": "execute_result"
    }
   ],
   "source": [
    "s = 'Py.thon'\n",
    "s.isalnum()"
   ]
  },
  {
   "cell_type": "markdown",
   "id": "06e36489-5821-4a51-8412-4e0d231719da",
   "metadata": {},
   "source": [
    "24. Extract all digits from a string.\n"
   ]
  },
  {
   "cell_type": "code",
   "execution_count": 77,
   "id": "c79f6d5b-8ede-4d4e-9a98-5dc001889c9c",
   "metadata": {},
   "outputs": [],
   "source": [
    "k = \"There are 24 heads and 48 legs\""
   ]
  },
  {
   "cell_type": "code",
   "execution_count": 84,
   "id": "54f3b24f-33d4-4e2a-b56d-2c9eb643eb0f",
   "metadata": {},
   "outputs": [
    {
     "data": {
      "text/plain": [
       "['There', 'are', '24', 'heads', 'and', '48', 'legs']"
      ]
     },
     "execution_count": 84,
     "metadata": {},
     "output_type": "execute_result"
    }
   ],
   "source": [
    "k.split()"
   ]
  },
  {
   "cell_type": "code",
   "execution_count": 88,
   "id": "e1605b25-05a7-423e-ae09-a49f3209f5ac",
   "metadata": {},
   "outputs": [
    {
     "data": {
      "text/plain": [
       "True"
      ]
     },
     "execution_count": 88,
     "metadata": {},
     "output_type": "execute_result"
    }
   ],
   "source": [
    "k.split()[5].isdigit()"
   ]
  },
  {
   "cell_type": "code",
   "execution_count": 90,
   "id": "014ad42e-332c-4da5-8db4-c0c3633cc298",
   "metadata": {},
   "outputs": [
    {
     "name": "stdout",
     "output_type": "stream",
     "text": [
      "The digits in the string are:\n",
      "24,48,"
     ]
    }
   ],
   "source": [
    "print(\"The digits in the string are:\")\n",
    "for i in k.split():\n",
    "    if i.isdigit():\n",
    "        print(i, end =\",\")\n",
    "       \n",
    "    "
   ]
  },
  {
   "cell_type": "markdown",
   "id": "1eb426de-871e-4633-a510-4e3244cea7e4",
   "metadata": {},
   "source": [
    "25. Extract all alphabets from a string.\n"
   ]
  },
  {
   "cell_type": "code",
   "execution_count": 96,
   "id": "f92cd4c0-d84b-4585-8d7a-2a953eaa8e40",
   "metadata": {},
   "outputs": [
    {
     "name": "stdout",
     "output_type": "stream",
     "text": [
      "The Alphabets in the string are:\n",
      "There,are,heads,and,legs,"
     ]
    }
   ],
   "source": [
    "print(\"The Alphabets in the string are:\")\n",
    "for i in k.split():\n",
    "    if i.isalpha():\n",
    "        print(i, end = \",\")"
   ]
  },
  {
   "cell_type": "markdown",
   "id": "4a6c42d2-d5ff-475e-8f7f-e598367c4adf",
   "metadata": {},
   "source": [
    "26. Count the number of uppercase letters in a string.\n"
   ]
  },
  {
   "cell_type": "code",
   "execution_count": 97,
   "id": "96c3d08f-499f-4d12-9a0e-93d9f0c29c80",
   "metadata": {},
   "outputs": [
    {
     "data": {
      "text/plain": [
       "['There', 'are', '24', 'heads', 'and', '48', 'legs']"
      ]
     },
     "execution_count": 97,
     "metadata": {},
     "output_type": "execute_result"
    }
   ],
   "source": [
    "k.split()"
   ]
  },
  {
   "cell_type": "code",
   "execution_count": 126,
   "id": "4a369512-5f36-4d14-8ec0-dad908bb9816",
   "metadata": {},
   "outputs": [],
   "source": [
    "h = \"aLPhAbETs\""
   ]
  },
  {
   "cell_type": "code",
   "execution_count": 127,
   "id": "1e70745d-f804-4e98-8dd4-ebf1c2889e13",
   "metadata": {},
   "outputs": [
    {
     "data": {
      "text/plain": [
       "9"
      ]
     },
     "execution_count": 127,
     "metadata": {},
     "output_type": "execute_result"
    }
   ],
   "source": [
    "len(h)"
   ]
  },
  {
   "cell_type": "code",
   "execution_count": 128,
   "id": "6f9aefef-c513-4949-8190-e824c472283c",
   "metadata": {},
   "outputs": [
    {
     "name": "stdout",
     "output_type": "stream",
     "text": [
      "The number of uppercase letters in aLPhAbETs is: 5\n"
     ]
    }
   ],
   "source": [
    "upper = 0\n",
    "for i in range(len(h)):\n",
    "    if h[i].isupper():\n",
    "        upper = upper+1\n",
    "\n",
    "print(\"The number of uppercase letters in\",h,\"is:\",upper)\n",
    "        \n",
    "    "
   ]
  },
  {
   "cell_type": "markdown",
   "id": "c4640481-03ca-4b9d-8222-3e1c7f8d7f12",
   "metadata": {},
   "source": [
    "27. Count the number of lowercase letters in a string.\n"
   ]
  },
  {
   "cell_type": "code",
   "execution_count": 129,
   "id": "5218c0db-0a5b-4f5d-9ea9-c217bac049e7",
   "metadata": {},
   "outputs": [
    {
     "name": "stdout",
     "output_type": "stream",
     "text": [
      "The number of lowercase letters in a string: 4\n"
     ]
    }
   ],
   "source": [
    "lower = 0\n",
    "for i in range(len(h)):\n",
    "    if h[i].islower():\n",
    "        lower = lower +1\n",
    "print(\"The number of lowercase letters in a string:\", lower)"
   ]
  },
  {
   "cell_type": "markdown",
   "id": "6599e0c3-0b17-4512-84b6-9b10ed148b6f",
   "metadata": {},
   "source": [
    "28. Swap the case of each character in a string."
   ]
  },
  {
   "cell_type": "code",
   "execution_count": 130,
   "id": "f0f08dc0-0f61-43b2-bc36-5690f6c5a544",
   "metadata": {},
   "outputs": [
    {
     "name": "stdout",
     "output_type": "stream",
     "text": [
      "The Swaped case of each character of aLPhAbETs is: AlpHaBetS\n"
     ]
    }
   ],
   "source": [
    "print(\"The Swaped case of each character of\",h, \"is:\",h.swapcase())"
   ]
  },
  {
   "cell_type": "markdown",
   "id": "02ad6c3b-cdae-44c6-b6e3-ccf41334a39c",
   "metadata": {},
   "source": [
    "29. Remove a specific word from a string.\n"
   ]
  },
  {
   "cell_type": "code",
   "execution_count": 131,
   "id": "b5c7ebf1-6b57-4e86-802c-d17fa8060158",
   "metadata": {},
   "outputs": [
    {
     "data": {
      "text/plain": [
       "'There are 24 heads and 48 legs'"
      ]
     },
     "execution_count": 131,
     "metadata": {},
     "output_type": "execute_result"
    }
   ],
   "source": [
    "k"
   ]
  },
  {
   "cell_type": "code",
   "execution_count": 137,
   "id": "9612cf61-991f-47e4-9937-36bd6af68f5b",
   "metadata": {},
   "outputs": [
    {
     "name": "stdout",
     "output_type": "stream",
     "text": [
      "After removing 'are' from: There are 24 heads and 48 legs .The Output is: There  24 heads and 48 legs\n"
     ]
    }
   ],
   "source": [
    "def rem(word):\n",
    "    if word in k:\n",
    "        t = k.replace(\"are\",\"\")\n",
    "        #print(h)\n",
    "        return t\n",
    "        \n",
    "print(\"After removing 'are' from:\", k, \".The Output is:\",rem(\"are\"))"
   ]
  },
  {
   "cell_type": "markdown",
   "id": "78575ae7-1f1c-46c1-b986-a8850f6dc9a1",
   "metadata": {},
   "source": [
    "30. Check if a string is a valid email address.\n"
   ]
  },
  {
   "cell_type": "code",
   "execution_count": null,
   "id": "502c8157-780f-4368-ba3f-9f3f4a4c14fb",
   "metadata": {},
   "outputs": [],
   "source": []
  },
  {
   "cell_type": "code",
   "execution_count": 158,
   "id": "01127ba9-d06a-462e-8f3b-00f1f5e938e7",
   "metadata": {},
   "outputs": [
    {
     "name": "stdout",
     "output_type": "stream",
     "text": [
      "filter15@yesfutura.com Is a Valid Email Address\n",
      "helpine@.com Is a Non-Valid Email Address\n",
      "happy@gmail.com Is a Valid Email Address\n"
     ]
    }
   ],
   "source": [
    "import re\n",
    "input_email1 = \"filter15@yesfutura.com\"\n",
    "input_email2  = \"helpine@.com\"\n",
    "email_format = r'\\b[A-Za-z0-9._%+-]+@[A-Za-z0-9.-]+\\.[A-Z|a-z]{2,7}\\b'\n",
    "\n",
    "\n",
    "def validity(email):\n",
    "    if re.fullmatch(email_format,email):\n",
    "        print(email,\"Is a Valid Email Address\")\n",
    "    else:\n",
    "        print(email, \"Is a Non-Valid Email Address\")\n",
    "        \n",
    "\n",
    "validity(input_email1)\n",
    "\n",
    "validity(input_email2)\n",
    "validity(\"happy@gmail.com\")\n"
   ]
  },
  {
   "cell_type": "markdown",
   "id": "84eba786-bd0f-4c4a-9119-4274295e2cf8",
   "metadata": {},
   "source": [
    "31. Extract the username from an email address string.\n"
   ]
  },
  {
   "cell_type": "code",
   "execution_count": 159,
   "id": "603ce090-c21b-46ea-8cde-b4db4d96d717",
   "metadata": {},
   "outputs": [
    {
     "data": {
      "text/plain": [
       "['filter15', 'yesfutura.com']"
      ]
     },
     "execution_count": 159,
     "metadata": {},
     "output_type": "execute_result"
    }
   ],
   "source": [
    "input_email1.split(\"@\")"
   ]
  },
  {
   "cell_type": "code",
   "execution_count": 160,
   "id": "88a63171-1ab1-4d73-963d-860f03caa54c",
   "metadata": {},
   "outputs": [
    {
     "name": "stdout",
     "output_type": "stream",
     "text": [
      "The UserName is: filter15\n"
     ]
    }
   ],
   "source": [
    "print(\"The UserName is:\",input_email1.split(\"@\")[0])"
   ]
  },
  {
   "cell_type": "markdown",
   "id": "414341d2-198b-4523-9f0f-06801399625b",
   "metadata": {},
   "source": [
    "32. Extract the domain name from an email address string.\n"
   ]
  },
  {
   "cell_type": "code",
   "execution_count": 163,
   "id": "c24fcc82-2e51-4e72-95bf-207703db07e6",
   "metadata": {},
   "outputs": [
    {
     "name": "stdout",
     "output_type": "stream",
     "text": [
      "The Domain Name Is: yesfutura\n"
     ]
    }
   ],
   "source": [
    "print(\"The Domain Name Is:\", input_email1.split(\"@\")[1].split(\".\")[0])"
   ]
  },
  {
   "cell_type": "markdown",
   "id": "ec7cca12-89ff-4693-80e3-cd025ee41a8d",
   "metadata": {},
   "source": [
    "33. Replace multiple spaces in a string with a single space.\n"
   ]
  },
  {
   "cell_type": "code",
   "execution_count": 164,
   "id": "e6d880ca-6782-457e-9a53-5f5aed59cf7c",
   "metadata": {},
   "outputs": [],
   "source": [
    "g = \"Hello   , How    Are you  Doing \""
   ]
  },
  {
   "cell_type": "code",
   "execution_count": 165,
   "id": "b6d9bc19-340b-4a94-a246-eb2f54730189",
   "metadata": {},
   "outputs": [
    {
     "data": {
      "text/plain": [
       "['Hello', ',', 'How', 'Are', 'you', 'Doing']"
      ]
     },
     "execution_count": 165,
     "metadata": {},
     "output_type": "execute_result"
    }
   ],
   "source": [
    "g.split()"
   ]
  },
  {
   "cell_type": "code",
   "execution_count": 167,
   "id": "ab9307b4-d9c1-4710-9de9-54bf3b292f8c",
   "metadata": {},
   "outputs": [
    {
     "data": {
      "text/plain": [
       "'Hello , How Are you Doing'"
      ]
     },
     "execution_count": 167,
     "metadata": {},
     "output_type": "execute_result"
    }
   ],
   "source": [
    "\" \".join(g.split())"
   ]
  },
  {
   "cell_type": "markdown",
   "id": "bd7e9487-1d77-4ac8-bd10-2f5556d16149",
   "metadata": {},
   "source": [
    "34. Check if a string is a valid URL.\n"
   ]
  },
  {
   "cell_type": "code",
   "execution_count": 172,
   "id": "098df996-8226-415f-9734-ea3097c9e7ea",
   "metadata": {},
   "outputs": [
    {
     "name": "stdout",
     "output_type": "stream",
     "text": [
      "the data of https://salmon-carpenter-zmqep.pwskills.app/lab/workspaces/auto-F/tree/work should have a https://www.bollywood.com/\n",
      "['the', 'data', 'of', 'https://salmon-carpenter-zmqep.pwskills.app/lab/workspaces/auto-F/tree/work', 'should', 'have', 'a', 'https://www.bollywood.com/']\n"
     ]
    }
   ],
   "source": [
    "string = 'the data of https://salmon-carpenter-zmqep.pwskills.app/lab/workspaces/auto-F/tree/work should have a https://www.bollywood.com/'\n",
    "print(string)\n",
    "print(string.split())            "
   ]
  },
  {
   "cell_type": "code",
   "execution_count": 184,
   "id": "6fe5eb2d-1514-4de4-ba20-4168d0545cde",
   "metadata": {},
   "outputs": [
    {
     "name": "stdout",
     "output_type": "stream",
     "text": [
      "The Valid URLs in the strings are: ['https://salmon-carpenter-zmqep.pwskills.app/lab/workspaces/auto-F/tree/work', 'https://www.bollywood.com/']\n"
     ]
    }
   ],
   "source": [
    "valid_url=[]\n",
    "for i in string.split():\n",
    "    if i.startswith(\"https:\") or i.startswith(\"http:\"):\n",
    "        valid_url.append(i)\n",
    "print(\"The Valid URLs in the strings are:\", valid_url )"
   ]
  },
  {
   "cell_type": "markdown",
   "id": "a18c9f2f-eb77-476c-888f-173aa4e2946a",
   "metadata": {},
   "source": [
    "35. Extract the protocol (http or https) from a URL string.\n"
   ]
  },
  {
   "cell_type": "code",
   "execution_count": 185,
   "id": "155c62be-6461-40d7-a9c3-bdbff9d24a15",
   "metadata": {},
   "outputs": [],
   "source": [
    "url_string = \"https://salmon-carpenter-zmqep.pwskills.app/lab/tree/work/20th_Aug_Python_DataTypes.ipynb\""
   ]
  },
  {
   "cell_type": "code",
   "execution_count": 189,
   "id": "23153580-0d32-4959-85a9-aa72a9576fc4",
   "metadata": {},
   "outputs": [
    {
     "data": {
      "text/plain": [
       "'https:'"
      ]
     },
     "execution_count": 189,
     "metadata": {},
     "output_type": "execute_result"
    }
   ],
   "source": [
    "url_string.split(\"//\")[0]"
   ]
  },
  {
   "cell_type": "markdown",
   "id": "2b9f2253-8f4c-4ff6-9206-28818a070472",
   "metadata": {},
   "source": [
    "36. Find the frequency of each character in a string.\n"
   ]
  },
  {
   "cell_type": "code",
   "execution_count": 195,
   "id": "1caacf6b-f063-437f-887b-64aa2c405740",
   "metadata": {},
   "outputs": [],
   "source": [
    "strings = \"wwwhere are yoouu???????\""
   ]
  },
  {
   "cell_type": "code",
   "execution_count": 196,
   "id": "3ce65caf-77fe-44f3-b8a2-60854ed15c9b",
   "metadata": {},
   "outputs": [
    {
     "data": {
      "text/plain": [
       "{'w': 3,\n",
       " 'h': 1,\n",
       " 'e': 3,\n",
       " 'r': 2,\n",
       " ' ': 2,\n",
       " 'a': 1,\n",
       " 'y': 1,\n",
       " 'o': 2,\n",
       " 'u': 2,\n",
       " '?': 7}"
      ]
     },
     "execution_count": 196,
     "metadata": {},
     "output_type": "execute_result"
    }
   ],
   "source": [
    "freq = {}\n",
    "for i in strings:\n",
    "    if i in freq:\n",
    "        freq[i]= freq[i] +1\n",
    "    else:\n",
    "        freq[i] =1\n",
    "\n",
    "freq"
   ]
  },
  {
   "cell_type": "markdown",
   "id": "8f0dc260-5f64-42ca-a6aa-a2e0e204147d",
   "metadata": {},
   "source": [
    "37. Remove all punctuation from a string.\n"
   ]
  },
  {
   "cell_type": "code",
   "execution_count": 203,
   "id": "c84187b4-537f-48fb-bffd-2a61ff2237c7",
   "metadata": {},
   "outputs": [],
   "source": [
    "txt = \"(Hey!!!), H\\\\ow much~ do:lla;rs$ & [@$}{ do you have: ?.\""
   ]
  },
  {
   "cell_type": "code",
   "execution_count": 344,
   "id": "44ec9a9e-ed03-48f3-bdf2-4fe6cc14f6cd",
   "metadata": {},
   "outputs": [
    {
     "data": {
      "text/plain": [
       "'!\"#$%&\\'()*+,-./:;<=>?@[\\\\]^_`{|}~'"
      ]
     },
     "execution_count": 344,
     "metadata": {},
     "output_type": "execute_result"
    }
   ],
   "source": [
    "import string\n",
    "\n",
    "string.punctuation"
   ]
  },
  {
   "cell_type": "code",
   "execution_count": 205,
   "id": "982b1956-493b-4646-b1a0-6ab959b7a18d",
   "metadata": {},
   "outputs": [
    {
     "name": "stdout",
     "output_type": "stream",
     "text": [
      "After removing all the punctuations, the text is: Hey How much dollars   do you have \n"
     ]
    }
   ],
   "source": [
    "for i in string.punctuation:\n",
    "    txt = txt.replace(i,\"\")\n",
    "\n",
    "print(\"After removing all the punctuations, the text is:\",txt)"
   ]
  },
  {
   "cell_type": "markdown",
   "id": "82cd83a7-48c8-4984-9923-6e5da6dc188c",
   "metadata": {},
   "source": [
    "38. Check if a string contains only digits.\n"
   ]
  },
  {
   "cell_type": "code",
   "execution_count": 206,
   "id": "a511d98c-2ba9-4687-86c3-15363085aeb6",
   "metadata": {},
   "outputs": [
    {
     "data": {
      "text/plain": [
       "True"
      ]
     },
     "execution_count": 206,
     "metadata": {},
     "output_type": "execute_result"
    }
   ],
   "source": [
    "text = \"12345\"\n",
    "text.isdigit()"
   ]
  },
  {
   "cell_type": "markdown",
   "id": "f59bdb2d-6981-4c78-8b07-25d95b7d94d9",
   "metadata": {},
   "source": [
    "39. Check if a string contains only alphabets.\n"
   ]
  },
  {
   "cell_type": "code",
   "execution_count": 209,
   "id": "d00b2b14-bb5a-47da-b2e8-99c650b41b3a",
   "metadata": {},
   "outputs": [
    {
     "name": "stdout",
     "output_type": "stream",
     "text": [
      "DataScience contains only alphabets\n",
      "Data123 conatin numbers and alphabets too\n"
     ]
    }
   ],
   "source": [
    "text1 = \"DataScience\"\n",
    "text2 = \"Data123\"\n",
    "def alpha_check(text):\n",
    "    if text.isalpha():\n",
    "        print(text, \"contains only alphabets\")\n",
    "    else:\n",
    "        print(text, \"conatin numbers and alphabets too\")\n",
    "        \n",
    "alpha_check(text1)\n",
    "alpha_check(text2)"
   ]
  },
  {
   "cell_type": "markdown",
   "id": "93513a8d-51cc-4174-bd02-212f90d6d4ef",
   "metadata": {},
   "source": [
    "40. Convert a string to a list of characters.\n"
   ]
  },
  {
   "cell_type": "code",
   "execution_count": 213,
   "id": "2a6e39d6-64e2-4f3d-b5e2-cc518f539e7b",
   "metadata": {},
   "outputs": [
    {
     "name": "stdout",
     "output_type": "stream",
     "text": [
      "['H', 'o', 'w', ' ', 'a', 'r', 'e', ' ', 'y', 'o', 'u', ' ', 'd', 'o', 'i', 'n', 'g', '?']\n"
     ]
    }
   ],
   "source": [
    "string1 = \"How are you doing?\"\n",
    "print(list(string1))"
   ]
  },
  {
   "cell_type": "markdown",
   "id": "bb8f03c7-6a02-4a2f-b546-86e3e002c69b",
   "metadata": {},
   "source": [
    "41. Check if two strings are anagrams.\n"
   ]
  },
  {
   "cell_type": "code",
   "execution_count": 217,
   "id": "87d87a86-d9d4-479c-9d4f-47e8435b72c4",
   "metadata": {},
   "outputs": [
    {
     "name": "stdout",
     "output_type": "stream",
     "text": [
      "level and velel are anagrams\n",
      "reason and season are NOT anagrams\n",
      "lions and sonli are anagrams\n"
     ]
    }
   ],
   "source": [
    "st1 = \"level\"\n",
    "st2 = \"velel\"\n",
    "st3 = \"reason\"\n",
    "st4 = \"season\"\n",
    "\n",
    "def ana(str1,str2):\n",
    "    if sorted(str1) == sorted(str2):\n",
    "        print(str1,\"and\", str2, \"are anagrams\")\n",
    "    else:\n",
    "        print(str1,\"and\", str2, \"are NOT anagrams\")\n",
    "        \n",
    "ana(st1,st2)\n",
    "ana(st3,st4)\n",
    "ana(\"lions\",\"sonli\")\n",
    "    "
   ]
  },
  {
   "cell_type": "markdown",
   "id": "0e3da79e-224f-493f-85b3-bb25b8c97574",
   "metadata": {},
   "source": [
    "###42. Encode a string using a Caesar cipher.\n"
   ]
  },
  {
   "cell_type": "raw",
   "id": "b0af8f74-b6cc-46fb-8146-9621cd0234a2",
   "metadata": {},
   "source": [
    "Code Point Range\tClass\n",
    "0-31\tnon-printable character (smiling face, suit, bullet, circle, male sign, female sign, etc.)\n",
    "32-64\tpunctuation, symbols, numbers, and space\n",
    "65-90\tuppercase English alphabet ( A-Z)\n",
    "91-96\t[, \\\\, ], ^, _, `\n",
    "97-122\tlowercase English alphabet (a-z)\n",
    "\n",
    "\n",
    "ord() function in Python is used to convert a single Unicode character into its integer representation\n",
    "chr() function takes Unicode (a number between 0 and 1,114,111) and returns corresponding character.\n"
   ]
  },
  {
   "cell_type": "code",
   "execution_count": 252,
   "id": "02bf42e4-7b80-4ac7-9177-1509618cc993",
   "metadata": {},
   "outputs": [
    {
     "data": {
      "text/plain": [
       "'A'"
      ]
     },
     "execution_count": 252,
     "metadata": {},
     "output_type": "execute_result"
    }
   ],
   "source": [
    "chr(65)"
   ]
  },
  {
   "cell_type": "code",
   "execution_count": 248,
   "id": "c5351044-493d-44a1-809b-1fb43491e4c8",
   "metadata": {},
   "outputs": [
    {
     "data": {
      "text/plain": [
       "63"
      ]
     },
     "execution_count": 248,
     "metadata": {},
     "output_type": "execute_result"
    }
   ],
   "source": [
    "ord(\"?\")"
   ]
  },
  {
   "cell_type": "code",
   "execution_count": 262,
   "id": "54799ecd-5964-4b01-8e97-ed72c9069b33",
   "metadata": {},
   "outputs": [
    {
     "data": {
      "text/plain": [
       "'Hello MOTO'"
      ]
     },
     "execution_count": 262,
     "metadata": {},
     "output_type": "execute_result"
    }
   ],
   "source": [
    "txt"
   ]
  },
  {
   "cell_type": "code",
   "execution_count": 268,
   "id": "b2034d7a-173d-4806-a267-6d1a7005e1b0",
   "metadata": {},
   "outputs": [
    {
     "data": {
      "text/plain": [
       "72"
      ]
     },
     "execution_count": 268,
     "metadata": {},
     "output_type": "execute_result"
    }
   ],
   "source": [
    "ord(\"H\")"
   ]
  },
  {
   "cell_type": "code",
   "execution_count": 266,
   "id": "dfb3a476-26d2-48d6-9cc6-b945ea04f9e1",
   "metadata": {},
   "outputs": [
    {
     "data": {
      "text/plain": [
       "8"
      ]
     },
     "execution_count": 266,
     "metadata": {},
     "output_type": "execute_result"
    }
   ],
   "source": [
    "ord(\"H\") + s -64"
   ]
  },
  {
   "cell_type": "code",
   "execution_count": 270,
   "id": "dd3ec323-119d-4f8e-ad45-c8a03a285892",
   "metadata": {},
   "outputs": [
    {
     "data": {
      "text/plain": [
       "'\\x08'"
      ]
     },
     "execution_count": 270,
     "metadata": {},
     "output_type": "execute_result"
    }
   ],
   "source": [
    "chr(ord(\"H\") + s -64)"
   ]
  },
  {
   "cell_type": "code",
   "execution_count": 271,
   "id": "ce4de491-1f76-4d49-908e-6196a458ba85",
   "metadata": {},
   "outputs": [
    {
     "data": {
      "text/plain": [
       "'\\x08'"
      ]
     },
     "execution_count": 271,
     "metadata": {},
     "output_type": "execute_result"
    }
   ],
   "source": [
    "chr(ord(\"H\")-64)"
   ]
  },
  {
   "cell_type": "code",
   "execution_count": null,
   "id": "eae77373-248a-4861-b61d-dc7d59b3903e",
   "metadata": {},
   "outputs": [],
   "source": []
  },
  {
   "cell_type": "code",
   "execution_count": 269,
   "id": "3a6dfe8e-001f-4868-b734-c7dcead0b78e",
   "metadata": {},
   "outputs": [
    {
     "data": {
      "text/plain": [
       "8"
      ]
     },
     "execution_count": 269,
     "metadata": {},
     "output_type": "execute_result"
    }
   ],
   "source": [
    "72-64"
   ]
  },
  {
   "cell_type": "code",
   "execution_count": 287,
   "id": "bc1d20c7-2ffc-41f4-9071-bb089e6c43f7",
   "metadata": {},
   "outputs": [],
   "source": [
    "result = []\n",
    "shift  = 1\n",
    "char = []"
   ]
  },
  {
   "cell_type": "code",
   "execution_count": 288,
   "id": "a90b740f-2d4e-45ea-a0d0-4a673ebea77d",
   "metadata": {},
   "outputs": [
    {
     "data": {
      "text/plain": [
       "['Q']"
      ]
     },
     "execution_count": 288,
     "metadata": {},
     "output_type": "execute_result"
    }
   ],
   "source": [
    "for i in range(len(txt)):\n",
    "    char = txt[i]  \n",
    "        # encypt_func uppercase characters in plain txt  \n",
    "if (char.isupper()):\n",
    "    result += chr((ord(char)  +shift - 64) % 26 + 65)  \n",
    "        # encypt_func lowercase characters in plain txt  \n",
    "else:\n",
    "    result += chr((ord(char)  +shift - 96) % 26 + 97)  \n",
    "\n",
    "txt = \"Hello MOTO\"  \n",
    "\n",
    "result\n",
    "\n"
   ]
  },
  {
   "cell_type": "markdown",
   "id": "828c23fd-f5bf-49c4-8fa1-a2360f59b9a5",
   "metadata": {},
   "source": [
    "###43. Decode a Caesar cipher encoded string.\n"
   ]
  },
  {
   "cell_type": "markdown",
   "id": "252447f6-4292-428d-9d70-5a8076d4e895",
   "metadata": {},
   "source": [
    "44. Find the most frequent word in a string.\n"
   ]
  },
  {
   "cell_type": "code",
   "execution_count": 291,
   "id": "c8401895-a4cf-417e-a746-fdb49b46ce5d",
   "metadata": {},
   "outputs": [],
   "source": [
    "text = \"How are you coming . How are you . How is everyone . How is you sister ?\""
   ]
  },
  {
   "cell_type": "code",
   "execution_count": 293,
   "id": "df3ecd75-3dfe-429c-a3f1-3aa64a57257a",
   "metadata": {},
   "outputs": [
    {
     "data": {
      "text/plain": [
       "{'How': 4,\n",
       " 'are': 2,\n",
       " 'you': 3,\n",
       " 'coming': 1,\n",
       " '.': 3,\n",
       " 'is': 2,\n",
       " 'everyone': 1,\n",
       " 'sister': 1,\n",
       " '?': 1}"
      ]
     },
     "execution_count": 293,
     "metadata": {},
     "output_type": "execute_result"
    }
   ],
   "source": [
    "freq = {}\n",
    "for i in text.split():\n",
    "    #print(i)\n",
    "    if i in freq:\n",
    "        freq[i] = freq[i]+1\n",
    "    else:\n",
    "        freq[i]=1\n",
    "freq"
   ]
  },
  {
   "cell_type": "markdown",
   "id": "784e3559-3dbf-4264-a752-fe43f657b75f",
   "metadata": {},
   "source": [
    "45. Find all unique words in a string.\n"
   ]
  },
  {
   "cell_type": "code",
   "execution_count": 294,
   "id": "725b0a8d-21d5-446c-a090-319780cf8eec",
   "metadata": {},
   "outputs": [],
   "source": [
    "text = \"what is Data Science? what is the best course to become a Data Scientist?\""
   ]
  },
  {
   "cell_type": "code",
   "execution_count": 295,
   "id": "ccaa916c-9a39-4110-9608-2654091b7886",
   "metadata": {},
   "outputs": [
    {
     "name": "stdout",
     "output_type": "stream",
     "text": [
      "All the unique words in: what is Data Science? what is the best course to become a Data Scientist? are:\n",
      "become\n",
      "the\n",
      "course\n",
      "what\n",
      "Science?\n",
      "is\n",
      "Data\n",
      "a\n",
      "best\n",
      "Scientist?\n",
      "to\n"
     ]
    }
   ],
   "source": [
    "print(\"All the unique words in:\",text,\"are:\")\n",
    "for word in set(text.split()):\n",
    "    print(word)"
   ]
  },
  {
   "cell_type": "markdown",
   "id": "7a35f92b-133c-4498-a993-fd46d3fec336",
   "metadata": {},
   "source": [
    "###\n",
    "46. Count the number of syllables in a string."
   ]
  },
  {
   "cell_type": "code",
   "execution_count": null,
   "id": "1c0ee624-3b40-4151-aa35-b2abfbc3e39a",
   "metadata": {},
   "outputs": [],
   "source": []
  },
  {
   "cell_type": "code",
   "execution_count": null,
   "id": "4ec198a3-c479-4869-b629-b23eb3ebd693",
   "metadata": {},
   "outputs": [],
   "source": []
  },
  {
   "cell_type": "markdown",
   "id": "b5e3a7b3-3906-4dc0-b002-f1772f910aca",
   "metadata": {},
   "source": [
    "47.Check if a string contains any special characters.\n"
   ]
  },
  {
   "cell_type": "code",
   "execution_count": 393,
   "id": "d8609241-74ff-4bcd-9bdd-2fb84ac08356",
   "metadata": {},
   "outputs": [
    {
     "name": "stdout",
     "output_type": "stream",
     "text": [
      "['!', '\"', '#', '$', '%', '&', \"'\", '(', ')', '*', '+', ',', '-', '.', '/', ':', ';', '<', '=', '>', '?', '@', '[', '\\\\', ']', '^', '_', '`', '{', '|', '}', '~']\n"
     ]
    }
   ],
   "source": [
    "special = list(string.punctuation)\n",
    "print(special)"
   ]
  },
  {
   "cell_type": "code",
   "execution_count": 407,
   "id": "685c660a-9e92-45f4-91bb-608bcc400075",
   "metadata": {},
   "outputs": [],
   "source": [
    "string1 = \"F89ko(+_@kik~*&j^&\""
   ]
  },
  {
   "cell_type": "code",
   "execution_count": 408,
   "id": "63af67e1-ac3a-49af-91f6-bd351f3b8adc",
   "metadata": {},
   "outputs": [
    {
     "data": {
      "text/plain": [
       "['F',\n",
       " '8',\n",
       " '9',\n",
       " 'k',\n",
       " 'o',\n",
       " '(',\n",
       " '+',\n",
       " '_',\n",
       " '@',\n",
       " 'k',\n",
       " 'i',\n",
       " 'k',\n",
       " '~',\n",
       " '*',\n",
       " '&',\n",
       " 'j',\n",
       " '^',\n",
       " '&']"
      ]
     },
     "execution_count": 408,
     "metadata": {},
     "output_type": "execute_result"
    }
   ],
   "source": [
    "p= list(string1)\n",
    "p"
   ]
  },
  {
   "cell_type": "code",
   "execution_count": 410,
   "id": "c1dba571-c7a8-438d-bc83-b09820934007",
   "metadata": {},
   "outputs": [
    {
     "name": "stdout",
     "output_type": "stream",
     "text": [
      "Special Characters in string F89ko(+_@kik~*&j^& are:\n",
      "(\n",
      "+\n",
      "_\n",
      "@\n",
      "~\n",
      "*\n",
      "&\n",
      "^\n",
      "&\n"
     ]
    }
   ],
   "source": [
    "print(\"Special Characters in string\",string1, \"are:\")\n",
    "for i in string1:\n",
    "    if i in special:\n",
    "        print(i)"
   ]
  },
  {
   "cell_type": "markdown",
   "id": "b7c51b06-744b-428c-9284-281c1a8c513d",
   "metadata": {},
   "source": [
    "48. Remove the nth word from a string.\n"
   ]
  },
  {
   "cell_type": "code",
   "execution_count": 310,
   "id": "48404d62-755f-4169-825f-3769993f8cef",
   "metadata": {},
   "outputs": [
    {
     "name": "stdout",
     "output_type": "stream",
     "text": [
      "['D', 'a', 't', 'a', ' ', 'S', 'c', 'i', 'e', 'n', 't', 'i', 's', 't']\n"
     ]
    }
   ],
   "source": [
    "#Convert the string to list\n",
    "l = list(\"Data Scientist\")\n",
    "print(l)"
   ]
  },
  {
   "cell_type": "code",
   "execution_count": 311,
   "id": "747ad6ea-0081-4e0e-a453-c9303e6146d4",
   "metadata": {},
   "outputs": [
    {
     "name": "stdout",
     "output_type": "stream",
     "text": [
      "After removing the 2 th letter from string. The modified string is\n",
      "Daa Scientist\n"
     ]
    }
   ],
   "source": [
    "# a function to remove the nth letter from the string\n",
    "def remove(n):\n",
    "    print(\"After removing the\",n, \"th letter from string. The modified string is\")\n",
    "    del l[n]\n",
    "    print(\"\".join(l))\n",
    "    \n",
    "remove(2)"
   ]
  },
  {
   "cell_type": "markdown",
   "id": "0059f168-b9f1-4c6c-900a-d57ab02de770",
   "metadata": {},
   "source": [
    "49. Insert a word at the nth position in a string.\n"
   ]
  },
  {
   "cell_type": "code",
   "execution_count": 335,
   "id": "9a8ca07c-2bc6-4f1d-9485-c438b5d5888c",
   "metadata": {},
   "outputs": [
    {
     "data": {
      "text/plain": [
       "['Many', 'Do', 'Little']"
      ]
     },
     "execution_count": 335,
     "metadata": {},
     "output_type": "execute_result"
    }
   ],
   "source": [
    "strings = \"Many Do Little\"\n",
    "st= strings.split()\n",
    "st"
   ]
  },
  {
   "cell_type": "code",
   "execution_count": 339,
   "id": "fbb6001f-540c-4184-b92a-82269c69b710",
   "metadata": {},
   "outputs": [],
   "source": [
    "def insert_word(position,word):\n",
    "    st.insert(position,word)\n",
    "    \"\".join(st)\n",
    "    return st"
   ]
  },
  {
   "cell_type": "code",
   "execution_count": 341,
   "id": "3e0aefb1-b352-46dd-a9dc-2e8762cd8c68",
   "metadata": {},
   "outputs": [
    {
     "data": {
      "text/plain": [
       "['Many', 'Do', 'care', 'Little']"
      ]
     },
     "execution_count": 341,
     "metadata": {},
     "output_type": "execute_result"
    }
   ],
   "source": [
    "insert_word(2, \"care\")"
   ]
  },
  {
   "cell_type": "markdown",
   "id": "d785331e-aa13-488f-8016-5c35aa31a190",
   "metadata": {},
   "source": [
    "50. Convert a CSV string to a list of lists."
   ]
  },
  {
   "cell_type": "code",
   "execution_count": 342,
   "id": "d5bedfd9-ec1f-4cdb-a850-9055274f9d0f",
   "metadata": {},
   "outputs": [
    {
     "name": "stdout",
     "output_type": "stream",
     "text": [
      "['apple', 'banana', 'cherry']\n"
     ]
    }
   ],
   "source": [
    "x = 'apple,banana,cherry'\n",
    "output = x.split(',')\n",
    "print(output)"
   ]
  },
  {
   "cell_type": "markdown",
   "id": "77d5d0e2-2ab7-4833-a1ed-def0c6af5bed",
   "metadata": {},
   "source": [
    "-----------------------------------------------------------------------------------------------------------------------------------------------------------------"
   ]
  },
  {
   "cell_type": "markdown",
   "id": "2dc95dce-f3a6-46d1-9592-114206f614e1",
   "metadata": {},
   "source": [
    "-----------------------------------------------------------------------------------------------------------------------------------------------------------------"
   ]
  },
  {
   "cell_type": "markdown",
   "id": "bbd7afb0-db5f-42ab-9aa8-8b0cf063ca1d",
   "metadata": {},
   "source": [
    "-----------------------------------------------------------------------------------------------------------------------------------------------------------------"
   ]
  },
  {
   "cell_type": "markdown",
   "id": "07f3e466-8d32-41d4-8c76-d6ab264ec26d",
   "metadata": {},
   "source": [
    "List Based Practice Problem :"
   ]
  },
  {
   "cell_type": "markdown",
   "id": "fd7f09fb-b85c-45ee-82de-a370200d5511",
   "metadata": {},
   "source": [
    "1. Create a list with integers from 1 to 10."
   ]
  },
  {
   "cell_type": "code",
   "execution_count": 2,
   "id": "5cf9df97-d65d-47f7-8402-9cc994ff4a10",
   "metadata": {},
   "outputs": [
    {
     "data": {
      "text/plain": [
       "[0, 1, 2, 3, 4, 5, 6, 7, 8, 9, 10]"
      ]
     },
     "execution_count": 2,
     "metadata": {},
     "output_type": "execute_result"
    }
   ],
   "source": [
    "[int(i) for i in range(11)]"
   ]
  },
  {
   "cell_type": "markdown",
   "id": "d5b316e4-05fd-456f-88f3-90ef79877d5e",
   "metadata": {},
   "source": [
    "2. Find the length of a list without using the `len()` function."
   ]
  },
  {
   "cell_type": "code",
   "execution_count": 3,
   "id": "f8711ec9-1ddf-4521-aa74-f52cb818d41b",
   "metadata": {},
   "outputs": [],
   "source": [
    "list1 = [1,2,3,\"apple\", \"bat\", True, False]"
   ]
  },
  {
   "cell_type": "code",
   "execution_count": 4,
   "id": "96ae3267-5026-4df6-8137-0ea50ded6a7c",
   "metadata": {},
   "outputs": [
    {
     "name": "stdout",
     "output_type": "stream",
     "text": [
      "The length of the list is: 7\n"
     ]
    }
   ],
   "source": [
    "count = 0\n",
    "for i in list1:\n",
    "    count = count+1\n",
    "print(\"The length of the list is:\",count)"
   ]
  },
  {
   "cell_type": "markdown",
   "id": "46fe5609-de4f-4041-86d6-935ab2e17733",
   "metadata": {},
   "source": [
    "3. Append an element to the end of a list."
   ]
  },
  {
   "cell_type": "code",
   "execution_count": 5,
   "id": "9cb65848-e937-4b01-bebd-fcaaefc7bca9",
   "metadata": {},
   "outputs": [],
   "source": [
    "list1.append(\"total\")"
   ]
  },
  {
   "cell_type": "code",
   "execution_count": 6,
   "id": "297f3c73-9ce2-46fe-9382-e7bc78972922",
   "metadata": {},
   "outputs": [
    {
     "data": {
      "text/plain": [
       "[1, 2, 3, 'apple', 'bat', True, False, 'total']"
      ]
     },
     "execution_count": 6,
     "metadata": {},
     "output_type": "execute_result"
    }
   ],
   "source": [
    "list1"
   ]
  },
  {
   "cell_type": "markdown",
   "id": "fb084923-77e3-4c74-ac72-360e0212bb42",
   "metadata": {},
   "source": [
    "4. Insert an element at a specific index in a list."
   ]
  },
  {
   "cell_type": "code",
   "execution_count": 9,
   "id": "b8aba40f-15fb-457e-9d1d-1cd856ab0735",
   "metadata": {},
   "outputs": [],
   "source": [
    "list1.insert(3,\"045\")"
   ]
  },
  {
   "cell_type": "code",
   "execution_count": 10,
   "id": "dcbeb33f-5875-4fa7-bfaf-0f660245ec51",
   "metadata": {},
   "outputs": [
    {
     "data": {
      "text/plain": [
       "[1, 2, 3, '045', '045', 'apple', 'bat', True, False, 'total']"
      ]
     },
     "execution_count": 10,
     "metadata": {},
     "output_type": "execute_result"
    }
   ],
   "source": [
    "list1"
   ]
  },
  {
   "cell_type": "markdown",
   "id": "590a71f4-33c4-43d9-9a45-86659061f1aa",
   "metadata": {},
   "source": [
    "5. Remove an element from a list by its value."
   ]
  },
  {
   "cell_type": "code",
   "execution_count": 11,
   "id": "e8dfa153-e436-48cb-8247-3baec3891ece",
   "metadata": {},
   "outputs": [],
   "source": [
    "l = [10,20,30,40, \"nothing\", \"a\",\"b\",True]"
   ]
  },
  {
   "cell_type": "code",
   "execution_count": 12,
   "id": "bd7b4225-4c8d-451e-8baa-265febeac1e9",
   "metadata": {},
   "outputs": [],
   "source": [
    "l.remove(\"b\")"
   ]
  },
  {
   "cell_type": "code",
   "execution_count": 13,
   "id": "75dc12d3-e3b9-4ad6-bfc7-99071e753dd0",
   "metadata": {},
   "outputs": [
    {
     "name": "stdout",
     "output_type": "stream",
     "text": [
      "After removing the element by its value [10, 20, 30, 40, 'nothing', 'a', True]\n"
     ]
    }
   ],
   "source": [
    "print(\"After removing the element by its value\",l)"
   ]
  },
  {
   "cell_type": "markdown",
   "id": "4dc09322-675c-4ca9-bff7-fff642d6e9df",
   "metadata": {},
   "source": [
    "6. Remove an element from a list by its index."
   ]
  },
  {
   "cell_type": "code",
   "execution_count": 14,
   "id": "da2b6aa8-00ec-481b-948f-8837798d3326",
   "metadata": {},
   "outputs": [],
   "source": [
    "list4 = [\"november\", \"august\",True, False, 1, 55, 60]"
   ]
  },
  {
   "cell_type": "code",
   "execution_count": 15,
   "id": "2c9849a2-50eb-423f-9b64-9a1b49e49825",
   "metadata": {},
   "outputs": [
    {
     "name": "stdout",
     "output_type": "stream",
     "text": [
      "After removing the element from index 1 ['november', True, False, 1, 55, 60]\n"
     ]
    }
   ],
   "source": [
    "list4.pop(1)\n",
    "print(\"After removing the element from index 1\",list4)"
   ]
  },
  {
   "cell_type": "markdown",
   "id": "5a923791-bf52-4832-abe9-6069c9569caa",
   "metadata": {},
   "source": [
    "7. Check if an element exists in a list."
   ]
  },
  {
   "cell_type": "code",
   "execution_count": 16,
   "id": "83e0bf3f-dac0-40bc-a722-01596fc21dac",
   "metadata": {},
   "outputs": [],
   "source": [
    "\n",
    "def exists(i):\n",
    "    if i in list4:\n",
    "        print(i, \"exists in the list\")\n",
    "    else:\n",
    "        print(i, \"doesnt exists in the list\")"
   ]
  },
  {
   "cell_type": "code",
   "execution_count": 17,
   "id": "422d2bc3-63b7-4808-b9a3-1e6fff4ffcfb",
   "metadata": {},
   "outputs": [
    {
     "name": "stdout",
     "output_type": "stream",
     "text": [
      "1 exists in the list\n"
     ]
    }
   ],
   "source": [
    "exists(1)"
   ]
  },
  {
   "cell_type": "code",
   "execution_count": 18,
   "id": "de54225a-4b43-4287-abdb-bdf96c9e05d4",
   "metadata": {},
   "outputs": [
    {
     "name": "stdout",
     "output_type": "stream",
     "text": [
      "fly doesnt exists in the list\n"
     ]
    }
   ],
   "source": [
    "exists(\"fly\")"
   ]
  },
  {
   "cell_type": "markdown",
   "id": "1bc19032-2834-449d-84fe-ab6d6320657f",
   "metadata": {},
   "source": [
    "8. Find the index of the first occurrence of an element in a list."
   ]
  },
  {
   "cell_type": "code",
   "execution_count": 20,
   "id": "36885009-28b3-415c-9caa-62dfe1e40a41",
   "metadata": {},
   "outputs": [],
   "source": [
    "list5 = [1,3,6,1,7,8,6]"
   ]
  },
  {
   "cell_type": "code",
   "execution_count": 21,
   "id": "93e10d3d-4de2-4c60-8c9d-7f6ce97585c6",
   "metadata": {},
   "outputs": [],
   "source": [
    "def indexes(n):\n",
    "    print(\"The index of the first occurence of\", n ,\"in the list is\",list5.index(6))"
   ]
  },
  {
   "cell_type": "code",
   "execution_count": 22,
   "id": "6f544dd7-84a9-4b8b-ad9a-2592d50f03e5",
   "metadata": {},
   "outputs": [
    {
     "name": "stdout",
     "output_type": "stream",
     "text": [
      "The index of the first occurence of 6 in the list is 2\n"
     ]
    }
   ],
   "source": [
    "indexes(6)"
   ]
  },
  {
   "cell_type": "markdown",
   "id": "781c6ffa-3987-4b07-9052-025d903de8bd",
   "metadata": {},
   "source": [
    "9. Count the occurrences of an element in a list."
   ]
  },
  {
   "cell_type": "code",
   "execution_count": 29,
   "id": "ba13597c-9f6d-400f-b603-62abda2a474b",
   "metadata": {},
   "outputs": [
    {
     "data": {
      "text/plain": [
       "[1, 3, 6, 1, 7, 8, 6]"
      ]
     },
     "execution_count": 29,
     "metadata": {},
     "output_type": "execute_result"
    }
   ],
   "source": [
    "list5"
   ]
  },
  {
   "cell_type": "code",
   "execution_count": 27,
   "id": "72ba1f6b-b5e6-4738-add0-2ec8adf71b58",
   "metadata": {},
   "outputs": [],
   "source": [
    "def countx(x):\n",
    "    print(\"the occurrences of\",x,\" in a list is :\",list5.count(6))"
   ]
  },
  {
   "cell_type": "code",
   "execution_count": 28,
   "id": "90d060b1-f819-4766-85b0-7f1434a7e23c",
   "metadata": {},
   "outputs": [
    {
     "name": "stdout",
     "output_type": "stream",
     "text": [
      "the occurrences of 6  in a list is : 2\n"
     ]
    }
   ],
   "source": [
    "countx(6)"
   ]
  },
  {
   "cell_type": "markdown",
   "id": "ba3d08fd-0944-4bce-9ebb-3ef083f02179",
   "metadata": {},
   "source": [
    "10. Reverse the order of elements in a list."
   ]
  },
  {
   "cell_type": "code",
   "execution_count": 30,
   "id": "b7baf5d5-bab9-4284-b0f7-4b8bfc4bf53b",
   "metadata": {},
   "outputs": [
    {
     "data": {
      "text/plain": [
       "['november', True, False, 1, 55, 60]"
      ]
     },
     "execution_count": 30,
     "metadata": {},
     "output_type": "execute_result"
    }
   ],
   "source": [
    "list4"
   ]
  },
  {
   "cell_type": "code",
   "execution_count": 31,
   "id": "05e2f293-25b3-48a6-b4ab-55d80ec2678e",
   "metadata": {},
   "outputs": [
    {
     "name": "stdout",
     "output_type": "stream",
     "text": [
      "Reverse the order of elements in a list ['november', True, False, 1, 55, 60] is: [60, 55, 1, False, True, 'november']\n"
     ]
    }
   ],
   "source": [
    "print(\"Reverse the order of elements in a list\",list4, \"is:\",list4[::-1])"
   ]
  },
  {
   "cell_type": "markdown",
   "id": "de8eaa08-6f4f-4110-bd17-b500b545a536",
   "metadata": {},
   "source": [
    "11. Sort a list in ascending order."
   ]
  },
  {
   "cell_type": "code",
   "execution_count": 32,
   "id": "b53e7ea7-1198-4c6f-9c0d-e7f51d58e009",
   "metadata": {},
   "outputs": [],
   "source": [
    "listA= [10, 8, 3, 22, 33,98,3, 7, 11, 100, 54]"
   ]
  },
  {
   "cell_type": "code",
   "execution_count": 33,
   "id": "139b4dab-efa2-4d89-96e7-c7be1e705cd1",
   "metadata": {},
   "outputs": [],
   "source": [
    "listA.sort()"
   ]
  },
  {
   "cell_type": "code",
   "execution_count": 34,
   "id": "62ed54a7-027f-4ec0-96d4-634b812e40dc",
   "metadata": {},
   "outputs": [
    {
     "name": "stdout",
     "output_type": "stream",
     "text": [
      "The Ascending Order is [3, 3, 7, 8, 10, 11, 22, 33, 54, 98, 100]\n"
     ]
    }
   ],
   "source": [
    "print(\"The Ascending Order is\",listA)"
   ]
  },
  {
   "cell_type": "markdown",
   "id": "a4498c21-273b-4218-9524-31a713892101",
   "metadata": {},
   "source": [
    "12. Sort a list in descending order."
   ]
  },
  {
   "cell_type": "code",
   "execution_count": 35,
   "id": "fe25b226-d0d2-4c6d-baed-6c28738c7f01",
   "metadata": {},
   "outputs": [],
   "source": [
    "listA.sort(reverse=True)"
   ]
  },
  {
   "cell_type": "code",
   "execution_count": 36,
   "id": "2bf0cd67-50e0-4a05-b94e-f958d4e841be",
   "metadata": {},
   "outputs": [
    {
     "name": "stdout",
     "output_type": "stream",
     "text": [
      "The Descending Order is [100, 98, 54, 33, 22, 11, 10, 8, 7, 3, 3]\n"
     ]
    }
   ],
   "source": [
    "print(\"The Descending Order is\",listA)"
   ]
  },
  {
   "cell_type": "markdown",
   "id": "8caab495-e81e-49d4-8917-cca0c65d4ebd",
   "metadata": {},
   "source": [
    "13. Create a list of even numbers from 1 to 20."
   ]
  },
  {
   "cell_type": "code",
   "execution_count": 40,
   "id": "a9d69c25-ff28-4e49-8160-d8d29c9f72aa",
   "metadata": {},
   "outputs": [
    {
     "name": "stdout",
     "output_type": "stream",
     "text": [
      "list of even numbers from 1 to 20 is [2, 4, 6, 8, 10, 12, 14, 16, 18, 20]\n"
     ]
    }
   ],
   "source": [
    "even_list =[]\n",
    "for i in range(1,21):\n",
    "    if i%2 == 0: #gives output as reminder\n",
    "        even_list.append(i)\n",
    "\n",
    "print(\"list of even numbers from 1 to 20 is\",even_list)"
   ]
  },
  {
   "cell_type": "markdown",
   "id": "44b42e0e-a4f2-4549-90c3-b932a6952dc8",
   "metadata": {},
   "source": [
    "\n",
    "14. Create a list of odd numbers from 1 to 20.\n"
   ]
  },
  {
   "cell_type": "code",
   "execution_count": 41,
   "id": "b81e56cb-6922-4e1c-9a29-dbb6553aed73",
   "metadata": {},
   "outputs": [
    {
     "name": "stdout",
     "output_type": "stream",
     "text": [
      "list of odd numbers from 1 to 20 is [1, 3, 5, 7, 9, 11, 13, 15, 17, 19]\n"
     ]
    }
   ],
   "source": [
    "odd_list=[]\n",
    "for i in range(1,21):\n",
    "    if i % 2 != 0:\n",
    "        odd_list.append(i)\n",
    "\n",
    "print(\"list of odd numbers from 1 to 20 is\",odd_list)"
   ]
  },
  {
   "cell_type": "markdown",
   "id": "f64eb26c-a23d-4529-a596-7db4233168c8",
   "metadata": {},
   "source": [
    "\n",
    "15. Find the sum of all elements in a list.\n"
   ]
  },
  {
   "cell_type": "code",
   "execution_count": 42,
   "id": "7cc28b8a-44fa-479d-94c4-2e664bf350d4",
   "metadata": {},
   "outputs": [],
   "source": [
    "listB = [1,10,9,8,4,5,8,10]"
   ]
  },
  {
   "cell_type": "code",
   "execution_count": 43,
   "id": "c2491f8a-8c84-43a8-b0cc-3277b6e5c546",
   "metadata": {},
   "outputs": [
    {
     "name": "stdout",
     "output_type": "stream",
     "text": [
      "The Sum Of Elelments in the List is: 55\n"
     ]
    }
   ],
   "source": [
    "total = 0\n",
    "for i in range(0,len(listB)):\n",
    "    total = total+listB[i]\n",
    "\n",
    "print(\"The Sum Of Elelments in the List is:\",total)\n",
    "    "
   ]
  },
  {
   "cell_type": "markdown",
   "id": "658ac2fe-e68b-4579-b082-e0f9ca3cc149",
   "metadata": {},
   "source": [
    "16. Find the maximum value in a list."
   ]
  },
  {
   "cell_type": "code",
   "execution_count": 44,
   "id": "72106e77-21a1-42f8-bbef-a27cae8182be",
   "metadata": {},
   "outputs": [
    {
     "data": {
      "text/plain": [
       "[100, 98, 54, 33, 22, 11, 10, 8, 7, 3, 3]"
      ]
     },
     "execution_count": 44,
     "metadata": {},
     "output_type": "execute_result"
    }
   ],
   "source": [
    "listA"
   ]
  },
  {
   "cell_type": "code",
   "execution_count": 45,
   "id": "c0b5dbc4-c542-4a06-91ff-bda763de950d",
   "metadata": {},
   "outputs": [
    {
     "name": "stdout",
     "output_type": "stream",
     "text": [
      "maximum value in a list [100, 98, 54, 33, 22, 11, 10, 8, 7, 3, 3] is: 100\n"
     ]
    }
   ],
   "source": [
    "max_value = 0\n",
    "for i in listA:\n",
    "    if i > max_value:\n",
    "        max_value= i\n",
    "#return max_value\n",
    "        \n",
    "print(\"maximum value in a list\",listA,\"is:\", max_value)"
   ]
  },
  {
   "cell_type": "markdown",
   "id": "0c7a1084-91cc-4950-808d-e45d7978d0f6",
   "metadata": {},
   "source": [
    "17. Find the minimum value in a list."
   ]
  },
  {
   "cell_type": "code",
   "execution_count": 46,
   "id": "b8bf54f9-eff1-4e0b-a53a-a45c64ca675a",
   "metadata": {},
   "outputs": [
    {
     "name": "stdout",
     "output_type": "stream",
     "text": [
      "manimum value in a list [100, 98, 54, 33, 22, 11, 10, 8, 7, 3, 3] is: 3\n"
     ]
    }
   ],
   "source": [
    "min_value = 1000\n",
    "for i in listA:\n",
    "    if i < min_value:\n",
    "        min_value = i\n",
    "print(\"manimum value in a list\",listA,\"is:\", min_value)"
   ]
  },
  {
   "cell_type": "markdown",
   "id": "f2709db9-0d32-48f3-a2c5-ec3b9056c85c",
   "metadata": {},
   "source": [
    "\n",
    "18. Create a list of squares of numbers from 1 to 10."
   ]
  },
  {
   "cell_type": "code",
   "execution_count": 47,
   "id": "dbc30bdc-744d-4343-979f-80819f0cb846",
   "metadata": {},
   "outputs": [
    {
     "name": "stdout",
     "output_type": "stream",
     "text": [
      "The squares of numbers from 1 to 10 are: [1, 4, 9, 16, 25, 36, 49, 64, 81, 100]\n"
     ]
    }
   ],
   "source": [
    "squares= [i**2 for i in range(1,11)]\n",
    "print(\"The squares of numbers from 1 to 10 are:\",squares)"
   ]
  },
  {
   "cell_type": "markdown",
   "id": "bf515c96-9e00-4245-9394-6621ae4dfea4",
   "metadata": {},
   "source": [
    "19. Create a list of random numbers."
   ]
  },
  {
   "cell_type": "code",
   "execution_count": 49,
   "id": "02653787-51ea-47ef-bd08-ede16713050f",
   "metadata": {},
   "outputs": [
    {
     "name": "stdout",
     "output_type": "stream",
     "text": [
      "list of 7 random numbers [8, 24, 49, 76, 27, 94, 73]\n"
     ]
    }
   ],
   "source": [
    "import random\n",
    "random_numbers = []\n",
    "for i in range(0,7):\n",
    "    random_numbers.append(random.randint(0,100))\n",
    "\n",
    "print(\"list of 7 random numbers\",random_numbers)"
   ]
  },
  {
   "cell_type": "markdown",
   "id": "0f993450-7701-4f5d-a0ce-34ce27d86622",
   "metadata": {},
   "source": [
    "20. Remove duplicates from a list."
   ]
  },
  {
   "cell_type": "code",
   "execution_count": 52,
   "id": "1ab37407-b3b3-4624-b415-d7ffc34cfd0d",
   "metadata": {},
   "outputs": [],
   "source": [
    "listC = [1, 5, 3, 6,1,8, 3, 5, 6, 1, 7,7,8]\n",
    "#Set contains unique numbers"
   ]
  },
  {
   "cell_type": "code",
   "execution_count": 53,
   "id": "1b2139b2-566a-4063-b938-05d49eebdde6",
   "metadata": {},
   "outputs": [
    {
     "name": "stdout",
     "output_type": "stream",
     "text": [
      "After Removing duplicates from a list is: [1, 3, 5, 6, 7, 8]\n"
     ]
    }
   ],
   "source": [
    "print(\"After Removing duplicates from a list is:\",list(set(listC)))"
   ]
  },
  {
   "cell_type": "markdown",
   "id": "f9759f9e-15be-432e-b667-68bd731b022a",
   "metadata": {},
   "source": [
    "21. Find the common elements between two lists.\n"
   ]
  },
  {
   "cell_type": "code",
   "execution_count": 54,
   "id": "8c3b2514-b018-404b-9754-6922666b096c",
   "metadata": {},
   "outputs": [],
   "source": [
    "listD= [3,5,7,9,\"Kajol\",\"Kiran\"]"
   ]
  },
  {
   "cell_type": "code",
   "execution_count": 55,
   "id": "5e12e7fd-7fc7-46e8-8af5-faf0357d13cc",
   "metadata": {},
   "outputs": [],
   "source": [
    "listF = [4,2,3,7,\"Kiran\",\"lion\"]"
   ]
  },
  {
   "cell_type": "code",
   "execution_count": 57,
   "id": "0c924523-fecb-40d1-8bb8-2d4ffa44ca34",
   "metadata": {},
   "outputs": [
    {
     "name": "stdout",
     "output_type": "stream",
     "text": [
      "the common elements between two lists are: [3, 'Kiran', 7]\n"
     ]
    }
   ],
   "source": [
    "print(\"the common elements between two lists are:\",list(set(listD) & set(listF)))"
   ]
  },
  {
   "cell_type": "code",
   "execution_count": 58,
   "id": "d99aed2b-24d3-4f54-be1a-f7d384754b16",
   "metadata": {},
   "outputs": [
    {
     "name": "stdout",
     "output_type": "stream",
     "text": [
      "the common elements between two lists are: [3, 'Kiran', 7]\n"
     ]
    }
   ],
   "source": [
    "print(\"the common elements between two lists are:\",list(set(listD).intersection(set(listF))))"
   ]
  },
  {
   "cell_type": "code",
   "execution_count": 59,
   "id": "124367c8-b35e-4e57-8e3e-a68f45510bf0",
   "metadata": {},
   "outputs": [
    {
     "name": "stdout",
     "output_type": "stream",
     "text": [
      "the common elements between two lists are: [3, 7, 'Kiran']\n"
     ]
    }
   ],
   "source": [
    "common_element =[]\n",
    "for i in listD:\n",
    "    if i in listF:\n",
    "        common_element.append(i)\n",
    "print(\"the common elements between two lists are:\",common_element)"
   ]
  },
  {
   "cell_type": "markdown",
   "id": "9b60f0ef-e644-4f65-ae13-3204176dcdf4",
   "metadata": {},
   "source": [
    "\n",
    "22. Find the difference between two lists.\n"
   ]
  },
  {
   "cell_type": "code",
   "execution_count": 62,
   "id": "3e54623a-5cce-42c9-bc61-5b07b33e4dda",
   "metadata": {},
   "outputs": [
    {
     "name": "stdout",
     "output_type": "stream",
     "text": [
      "the different elements between two lists are: [5, 9, 'Kajol', 4, 2, 'lion']\n"
     ]
    }
   ],
   "source": [
    "diff_element= []\n",
    "for i in listD + listF:\n",
    "    if i not in listF or i not in listD:\n",
    "        diff_element.append(i)\n",
    "            \n",
    "print(\"the different elements between two lists are:\",diff_element)"
   ]
  },
  {
   "cell_type": "markdown",
   "id": "51dd16a4-8cdd-4b59-918a-dcf6b413cfc0",
   "metadata": {},
   "source": [
    "\n",
    "23. Merge two lists.\n"
   ]
  },
  {
   "cell_type": "code",
   "execution_count": 63,
   "id": "bb8e84ab-d724-4f19-84ae-60f792f520df",
   "metadata": {},
   "outputs": [
    {
     "name": "stdout",
     "output_type": "stream",
     "text": [
      "Merger of [3, 5, 7, 9, 'Kajol', 'Kiran'] and [4, 2, 3, 7, 'Kiran', 'lion'] is: [3, 5, 7, 9, 'Kajol', 'Kiran', 4, 2, 3, 7, 'Kiran', 'lion']\n"
     ]
    }
   ],
   "source": [
    "print(\"Merger of\", listD, \"and\", listF, \"is:\",listD+listF)"
   ]
  },
  {
   "cell_type": "markdown",
   "id": "84d9acd0-1bf5-4728-9f53-62a53e444e23",
   "metadata": {},
   "source": [
    "\n",
    "24. Multiply all elements in a list by 2."
   ]
  },
  {
   "cell_type": "code",
   "execution_count": 64,
   "id": "5fe6e3e9-4160-49f8-9f84-1b44f0d72417",
   "metadata": {},
   "outputs": [
    {
     "data": {
      "text/plain": [
       "[3, 5, 7, 9, 'Kajol', 'Kiran']"
      ]
     },
     "execution_count": 64,
     "metadata": {},
     "output_type": "execute_result"
    }
   ],
   "source": [
    "listD"
   ]
  },
  {
   "cell_type": "code",
   "execution_count": 65,
   "id": "bee5e17d-b282-4900-bc6f-337cf8e0a493",
   "metadata": {},
   "outputs": [
    {
     "data": {
      "text/plain": [
       "[6, 10, 14, 18, 'KajolKajol', 'KiranKiran']"
      ]
     },
     "execution_count": 65,
     "metadata": {},
     "output_type": "execute_result"
    }
   ],
   "source": [
    "[i*2 for i in listD]"
   ]
  },
  {
   "cell_type": "markdown",
   "id": "b5fb97a7-29b3-4336-9715-285d4f244c7d",
   "metadata": {},
   "source": [
    "\n",
    "25. Filter out all even numbers from a list."
   ]
  },
  {
   "cell_type": "code",
   "execution_count": 66,
   "id": "d911aeba-bd14-4426-a46c-b0a49810b791",
   "metadata": {},
   "outputs": [
    {
     "data": {
      "text/plain": [
       "[100, 98, 54, 33, 22, 11, 10, 8, 7, 3, 3]"
      ]
     },
     "execution_count": 66,
     "metadata": {},
     "output_type": "execute_result"
    }
   ],
   "source": [
    "listA"
   ]
  },
  {
   "cell_type": "code",
   "execution_count": 67,
   "id": "d0eccc87-e3f7-44df-b4dd-3fa869ca656c",
   "metadata": {},
   "outputs": [
    {
     "name": "stdout",
     "output_type": "stream",
     "text": [
      "even numbers from a list is: [100, 98, 54, 22, 10, 8]\n"
     ]
    }
   ],
   "source": [
    "print(\"even numbers from a list is:\",[i for i in listA if i%2 == 0])"
   ]
  },
  {
   "cell_type": "markdown",
   "id": "53704447-bc47-4fa2-9f19-c671c9f5b49c",
   "metadata": {},
   "source": [
    "26. Convert a list of strings to a list of integers.\n"
   ]
  },
  {
   "cell_type": "code",
   "execution_count": 68,
   "id": "5e95d938-5f3e-4764-acbc-30cdeb8f8c08",
   "metadata": {},
   "outputs": [],
   "source": [
    "str_list=  ['1', '9', '3', '5', '7']"
   ]
  },
  {
   "cell_type": "code",
   "execution_count": 69,
   "id": "d2121eb1-99b3-451d-ad41-888c34dc49f4",
   "metadata": {},
   "outputs": [
    {
     "name": "stdout",
     "output_type": "stream",
     "text": [
      "Converting the list of strings to a list of integers: [1, 9, 3, 5, 7]\n"
     ]
    }
   ],
   "source": [
    "print(\"Converting the list of strings to a list of integers:\",[int(i) for i in str_list])"
   ]
  },
  {
   "cell_type": "markdown",
   "id": "f20eb652-0525-4110-bda4-2610fde07291",
   "metadata": {},
   "source": [
    "\n",
    "27. Convert a list of integers to a list of strings.\n"
   ]
  },
  {
   "cell_type": "code",
   "execution_count": 70,
   "id": "dc49e382-7a98-48d9-a847-f3a07513da1a",
   "metadata": {},
   "outputs": [
    {
     "data": {
      "text/plain": [
       "[100, 98, 54, 33, 22, 11, 10, 8, 7, 3, 3]"
      ]
     },
     "execution_count": 70,
     "metadata": {},
     "output_type": "execute_result"
    }
   ],
   "source": [
    "listA"
   ]
  },
  {
   "cell_type": "code",
   "execution_count": 71,
   "id": "29ec1be5-aa8f-4a66-81cb-caa56e6f932c",
   "metadata": {},
   "outputs": [
    {
     "name": "stdout",
     "output_type": "stream",
     "text": [
      "Converting a list of integers to a list of strings: ['100', '98', '54', '33', '22', '11', '10', '8', '7', '3', '3']\n"
     ]
    }
   ],
   "source": [
    "print(\"Converting a list of integers to a list of strings:\",[str(i) for i in listA ])"
   ]
  },
  {
   "cell_type": "markdown",
   "id": "926780bf-5950-404b-8c6b-fa0a7bb530a1",
   "metadata": {},
   "source": [
    "\n",
    "28. Flatten a nested list.\n"
   ]
  },
  {
   "cell_type": "code",
   "execution_count": 77,
   "id": "bc79f165-5032-4f63-b34d-493438bda30f",
   "metadata": {},
   "outputs": [],
   "source": [
    "nest_list= [[1], [2, 4], [4, 6, 8, 10]]"
   ]
  },
  {
   "cell_type": "code",
   "execution_count": 78,
   "id": "07040511-4ec7-4b44-90d0-12b203295bc5",
   "metadata": {},
   "outputs": [],
   "source": [
    "flat_list= []"
   ]
  },
  {
   "cell_type": "code",
   "execution_count": 79,
   "id": "3d42cd01-162a-4ee5-be84-e9a32a5d208c",
   "metadata": {},
   "outputs": [
    {
     "name": "stdout",
     "output_type": "stream",
     "text": [
      "Flattened nested list is [1, 2, 4, 4, 6, 8, 10]\n"
     ]
    }
   ],
   "source": [
    "for a in nest_list:\n",
    "    for i in a:\n",
    "        flat_list.append(i)\n",
    "\n",
    "print(\"Flattened nested list is\",flat_list)      "
   ]
  },
  {
   "cell_type": "code",
   "execution_count": 82,
   "id": "99af9cda-506c-4a5c-9f5d-1413c33875d0",
   "metadata": {},
   "outputs": [
    {
     "name": "stdout",
     "output_type": "stream",
     "text": [
      "Flattened nested list is [1, 2, 4, 4, 6, 8, 10]\n"
     ]
    }
   ],
   "source": [
    "F_list= sum(nest_list,[])\n",
    "print(\"Flattened nested list is\",F_list)"
   ]
  },
  {
   "cell_type": "markdown",
   "id": "7035063f-9804-42a1-bf4c-b86916d070a1",
   "metadata": {},
   "source": [
    "\n",
    "29. Create a list of the first 10 Fibonacci numbers.\n"
   ]
  },
  {
   "cell_type": "code",
   "execution_count": 84,
   "id": "16813261-1b69-47a2-a77f-1e882fdae8a6",
   "metadata": {},
   "outputs": [
    {
     "name": "stdout",
     "output_type": "stream",
     "text": [
      "List of the first 10 Fibonacci numbers is : [0, 1, 1, 2, 3, 5, 8, 13, 21, 34]\n"
     ]
    }
   ],
   "source": [
    "f_list =[0,1]\n",
    "for i in range(0,8):\n",
    "    f_list.append(f_list[i]+f_list[i+1])\n",
    "print(\"List of the first 10 Fibonacci numbers is :\",f_list)"
   ]
  },
  {
   "cell_type": "markdown",
   "id": "8e4c7174-67dd-4e3d-8ce6-309f573ae17d",
   "metadata": {},
   "source": [
    "\n",
    "30. Check if a list is sorted.\n"
   ]
  },
  {
   "cell_type": "code",
   "execution_count": 149,
   "id": "dbafd96a-676a-4b4b-9d56-01b22b16f446",
   "metadata": {},
   "outputs": [],
   "source": [
    "listA= [10, 8, 3, 22, 33,98,3, 7, 11, 100, 54]"
   ]
  },
  {
   "cell_type": "code",
   "execution_count": 89,
   "id": "d0c29deb-8691-49db-a296-84acab2ed9c1",
   "metadata": {},
   "outputs": [],
   "source": [
    "listA.sort()\n",
    "listA"
   ]
  },
  {
   "cell_type": "code",
   "execution_count": 86,
   "id": "1cfe106d-4630-4efd-9ce1-6c62e6d687c9",
   "metadata": {},
   "outputs": [],
   "source": [
    "listB = [1,10,9,8,4,5,8,10]"
   ]
  },
  {
   "cell_type": "code",
   "execution_count": 87,
   "id": "590755b1-bb1b-492e-9ff5-a8fbeb71f891",
   "metadata": {},
   "outputs": [],
   "source": [
    "listC= [3,4,5,6,7,8,9]"
   ]
  },
  {
   "cell_type": "code",
   "execution_count": 110,
   "id": "506a8259-0532-4a85-aaec-2e4aecac7ef1",
   "metadata": {},
   "outputs": [],
   "source": [
    "def sort_list(listX):\n",
    "    test_list = listX[:]\n",
    "    test_list.sort()\n",
    "    if listX == test_list:\n",
    "        print(listX, \"IS SORTED\")\n",
    "    else:\n",
    "        print(listX, \"ISNT SORTED\")"
   ]
  },
  {
   "cell_type": "code",
   "execution_count": 111,
   "id": "4f0c1984-e18c-47d1-a8af-e33ac555ad52",
   "metadata": {},
   "outputs": [
    {
     "name": "stdout",
     "output_type": "stream",
     "text": [
      "[3, 3, 7, 8, 10, 11, 22, 33, 54, 98, 100] IS SORTED\n"
     ]
    }
   ],
   "source": [
    "sort_list(listA)"
   ]
  },
  {
   "cell_type": "code",
   "execution_count": 112,
   "id": "6ce42b49-960d-4ddc-a473-f435fa7a337c",
   "metadata": {},
   "outputs": [
    {
     "name": "stdout",
     "output_type": "stream",
     "text": [
      "[1, 4, 5, 8, 8, 9, 10, 10] IS SORTED\n"
     ]
    }
   ],
   "source": [
    "sort_list(listB)"
   ]
  },
  {
   "cell_type": "code",
   "execution_count": 113,
   "id": "ee205cbb-0364-48eb-80b8-ccd34ebb01fa",
   "metadata": {},
   "outputs": [
    {
     "name": "stdout",
     "output_type": "stream",
     "text": [
      "[3, 4, 5, 6, 7, 8, 9] IS SORTED\n"
     ]
    }
   ],
   "source": [
    "sort_list(listC)"
   ]
  },
  {
   "cell_type": "markdown",
   "id": "fba771ce-b447-4b4d-8671-d961b3ec39e8",
   "metadata": {},
   "source": [
    "\n",
    "31. Rotate a list to the left by `n` positions.\n"
   ]
  },
  {
   "cell_type": "code",
   "execution_count": 5,
   "id": "f64e3d99-95f9-4e44-afae-0b65de6e0c67",
   "metadata": {},
   "outputs": [
    {
     "data": {
      "text/plain": [
       "[10, 8, 3, 22, 33, 98, 3, 7, 11, 100, 54]"
      ]
     },
     "execution_count": 5,
     "metadata": {},
     "output_type": "execute_result"
    }
   ],
   "source": [
    "listA"
   ]
  },
  {
   "cell_type": "code",
   "execution_count": 115,
   "id": "a7ba4aeb-ae2d-4a27-adb3-e1392a1d6cf4",
   "metadata": {},
   "outputs": [],
   "source": [
    "def rotate_left(n):\n",
    "    print(\"AFter Rotating a list to the left by\", n, \"positions:\",listA[n:] + listA[:n])"
   ]
  },
  {
   "cell_type": "code",
   "execution_count": 116,
   "id": "63dd4a82-b900-4d65-acde-efa8052ade36",
   "metadata": {},
   "outputs": [
    {
     "name": "stdout",
     "output_type": "stream",
     "text": [
      "AFter Rotating a list to the left by 4 positions: [10, 11, 22, 33, 54, 98, 100, 3, 3, 7, 8]\n"
     ]
    }
   ],
   "source": [
    "rotate_left(4)"
   ]
  },
  {
   "cell_type": "markdown",
   "id": "bde59133-fc84-4ded-a41c-db92ffbf88dd",
   "metadata": {},
   "source": [
    "\n",
    "32. Rotate a list to the right by `n` positions.\n"
   ]
  },
  {
   "cell_type": "code",
   "execution_count": 117,
   "id": "7cb328fb-ace1-45e2-99b9-9740e6e1341b",
   "metadata": {},
   "outputs": [
    {
     "data": {
      "text/plain": [
       "[1, 4, 5, 8, 8, 9, 10, 10]"
      ]
     },
     "execution_count": 117,
     "metadata": {},
     "output_type": "execute_result"
    }
   ],
   "source": [
    "listB"
   ]
  },
  {
   "cell_type": "code",
   "execution_count": 118,
   "id": "ce7e23a6-fe4a-43b0-b83b-403114055ad8",
   "metadata": {},
   "outputs": [],
   "source": [
    "def rotate_right(n):\n",
    "    print(\"AFter Rotating a list to the right by\", n, \"positions:\",listB[-3:] + listB[:-3])"
   ]
  },
  {
   "cell_type": "code",
   "execution_count": 119,
   "id": "6c222b73-fb7c-4b07-a7ee-d0abbe5c2cd3",
   "metadata": {},
   "outputs": [
    {
     "name": "stdout",
     "output_type": "stream",
     "text": [
      "AFter Rotating a list to the right by 3 positions: [9, 10, 10, 1, 4, 5, 8, 8]\n"
     ]
    }
   ],
   "source": [
    "rotate_right(3)"
   ]
  },
  {
   "cell_type": "markdown",
   "id": "1a16cd2c-2b74-4712-a5df-279c20b2fa1e",
   "metadata": {},
   "source": [
    "\n",
    "33. Create a list of prime numbers up to 50.\n"
   ]
  },
  {
   "cell_type": "code",
   "execution_count": 170,
   "id": "818f2005-b613-4274-a930-f8f53b26214b",
   "metadata": {},
   "outputs": [
    {
     "name": "stdout",
     "output_type": "stream",
     "text": [
      "list of prime numbers up to 50 [2, 3, 5, 7, 11, 13, 17, 19, 23, 29, 31, 37, 41, 43, 47]\n"
     ]
    }
   ],
   "source": [
    "prime =[]\n",
    "for i in range(2,50): \n",
    "    for j in range(2,50):\n",
    "        #print(\"i=\",i, \"j=\",j)\n",
    "        if i%j == 0:\n",
    "            break\n",
    "    if i == j:\n",
    "        prime.append(i)\n",
    "print(\"list of prime numbers up to 50\",prime)"
   ]
  },
  {
   "cell_type": "markdown",
   "id": "77b09c61-21db-4043-bba4-93779b121189",
   "metadata": {},
   "source": [
    "\n",
    "34. Split a list into chunks of size `n`.\n"
   ]
  },
  {
   "cell_type": "code",
   "execution_count": 152,
   "id": "8a7e3297-891c-4a1d-9059-22a813c7bfd8",
   "metadata": {},
   "outputs": [
    {
     "data": {
      "text/plain": [
       "[10, 8, 3, 22, 33, 98, 3, 7, 11, 100, 54]"
      ]
     },
     "execution_count": 152,
     "metadata": {},
     "output_type": "execute_result"
    }
   ],
   "source": [
    "listA"
   ]
  },
  {
   "cell_type": "code",
   "execution_count": 153,
   "id": "35cee155-25d6-4eb2-8fd3-60e1b4fa2fc1",
   "metadata": {},
   "outputs": [
    {
     "name": "stdout",
     "output_type": "stream",
     "text": [
      "[10, 8, 3]\n",
      "[22, 33, 98]\n",
      "[3, 7, 11]\n",
      "[100, 54]\n"
     ]
    }
   ],
   "source": [
    "def split_list(chunks):\n",
    "    split_list = []\n",
    "    for i in range(0, len(listA),chunks):\n",
    "        print(listA[i:i+chunks])\n",
    "\n",
    "split_list(3)"
   ]
  },
  {
   "cell_type": "code",
   "execution_count": 154,
   "id": "ed82cba6-9427-4ceb-a14f-4dad45e6510e",
   "metadata": {},
   "outputs": [
    {
     "name": "stdout",
     "output_type": "stream",
     "text": [
      "[10, 8, 3, 22]\n",
      "[33, 98, 3, 7]\n",
      "[11, 100, 54]\n"
     ]
    }
   ],
   "source": [
    "split_list(4)"
   ]
  },
  {
   "cell_type": "markdown",
   "id": "af09b129-0858-46cd-9fbd-80236ab861ef",
   "metadata": {},
   "source": [
    "\n",
    "35. Find the second largest number in a list.\n"
   ]
  },
  {
   "cell_type": "code",
   "execution_count": 157,
   "id": "26a42f8b-5eb7-463e-b132-ba94dd817152",
   "metadata": {},
   "outputs": [
    {
     "data": {
      "text/plain": [
       "[3, 3, 7, 8, 10, 11, 22, 33, 54, 98, 100]"
      ]
     },
     "execution_count": 157,
     "metadata": {},
     "output_type": "execute_result"
    }
   ],
   "source": [
    "listA"
   ]
  },
  {
   "cell_type": "code",
   "execution_count": 156,
   "id": "ac3ae068-a270-4464-9455-378d927050f5",
   "metadata": {},
   "outputs": [
    {
     "name": "stdout",
     "output_type": "stream",
     "text": [
      "The second largest number in a list: 98\n"
     ]
    }
   ],
   "source": [
    "listA\n",
    "listA.sort()\n",
    "listA\n",
    "print(\"The second largest number in a list:\", listA[-2])"
   ]
  },
  {
   "cell_type": "code",
   "execution_count": 160,
   "id": "faeab9df-a50d-4ae2-8a9a-44cf962a4aec",
   "metadata": {},
   "outputs": [
    {
     "name": "stdout",
     "output_type": "stream",
     "text": [
      "The second largest number in a list is: 99\n"
     ]
    }
   ],
   "source": [
    "list1 = [-10,10, 108,20, 4, 45, 99]\n",
    "maximum = max(list1)\n",
    "minimum = min(list1)\n",
    "#print(\"maximum value:\",maximum)\n",
    "#print(\"minimum value:\",minimum)\n",
    "new_list = list1\n",
    "max_index = new_list.index(maximum)\n",
    "#print(\"The index of the maximum value in the list is:\",max_index)\n",
    "new_list.pop(max_index)\n",
    "#print(\"The new list after removing the largest value is: \",new_list)\n",
    "\n",
    "print(\"The second largest number in a list is:\", max(new_list))"
   ]
  },
  {
   "cell_type": "code",
   "execution_count": 171,
   "id": "2eaec64c-b194-4217-8f69-791f647487d8",
   "metadata": {},
   "outputs": [],
   "source": [
    "def second_lar(list1):\n",
    "    #Remove Duplicates -make the list a set and then convert to list\n",
    "    list2 = list(set(list1))\n",
    "    #print(list2)\n",
    "    #sort the list in descending order\n",
    "    list2.sort(reverse=True)\n",
    "    #print(list2)\n",
    "    #Second largest is 2nd in the list\n",
    "    print(\"Second largest in \", list1,\"is:\",list2[1])"
   ]
  },
  {
   "cell_type": "markdown",
   "id": "1dd4b54a-9ca8-4bb1-9a7b-36229b2f886b",
   "metadata": {},
   "source": [
    "\n",
    "36. Replace every element in a list with its square."
   ]
  },
  {
   "cell_type": "code",
   "execution_count": 163,
   "id": "e22af79d-2e37-4e2e-bd2e-a6ba11f6d920",
   "metadata": {},
   "outputs": [
    {
     "data": {
      "text/plain": [
       "[-10, 10, 20, 4, 45, 99]"
      ]
     },
     "execution_count": 163,
     "metadata": {},
     "output_type": "execute_result"
    }
   ],
   "source": [
    "list1"
   ]
  },
  {
   "cell_type": "code",
   "execution_count": 172,
   "id": "16730f34-3865-4931-a688-5410e0adebc5",
   "metadata": {},
   "outputs": [
    {
     "data": {
      "text/plain": [
       "[100, 100, 400, 16, 2025, 9801]"
      ]
     },
     "execution_count": 172,
     "metadata": {},
     "output_type": "execute_result"
    }
   ],
   "source": [
    "list1 = [i**2 for i in list1]\n",
    "list1"
   ]
  },
  {
   "cell_type": "markdown",
   "id": "57e28358-a165-4f8f-8d03-258a4f07d2b4",
   "metadata": {},
   "source": [
    "37. Convert a list to a dictionary where list elements become keys and their indices become values."
   ]
  },
  {
   "cell_type": "code",
   "execution_count": 2,
   "id": "db16cb6e-7254-4b36-8368-15d09a519a06",
   "metadata": {},
   "outputs": [],
   "source": [
    "list3= [\"A\",\"B\",9,\"kalam\",100,\"One\"]"
   ]
  },
  {
   "cell_type": "code",
   "execution_count": 3,
   "id": "1d77c5e0-0f91-4c3d-b687-2e3f6e01ac66",
   "metadata": {},
   "outputs": [
    {
     "data": {
      "text/plain": [
       "{'A': 0, 'B': 1, 9: 2, 'kalam': 3, 100: 4, 'One': 5}"
      ]
     },
     "execution_count": 3,
     "metadata": {},
     "output_type": "execute_result"
    }
   ],
   "source": [
    "{list3[i]:i for i in range(0,len(list3))}"
   ]
  },
  {
   "cell_type": "markdown",
   "id": "7d657de0-e722-4651-92fb-4244a1623da9",
   "metadata": {},
   "source": [
    "38. Shuffle the elements of a list randomly."
   ]
  },
  {
   "cell_type": "code",
   "execution_count": 7,
   "id": "c5bdc60f-728e-4e34-9e47-822d9f487431",
   "metadata": {},
   "outputs": [
    {
     "name": "stdout",
     "output_type": "stream",
     "text": [
      "The elements of list before shuffling [100, 'kalam', 'One', 'B', 'A', 9]\n",
      "The elements of list After shuffling ['A', 9, 100, 'kalam', 'B', 'One']\n"
     ]
    }
   ],
   "source": [
    "print(\"The elements of list before shuffling\", list3)\n",
    "import random\n",
    "random.shuffle(list3)\n",
    "print(\"The elements of list After shuffling\", list3)"
   ]
  },
  {
   "cell_type": "markdown",
   "id": "6f1075f7-537a-4645-b623-64b5e12115f5",
   "metadata": {},
   "source": [
    "39. Create a list of the first 10 factorial numbers."
   ]
  },
  {
   "cell_type": "code",
   "execution_count": 44,
   "id": "a156363f-d9f7-4962-be7b-20e5c3e91204",
   "metadata": {},
   "outputs": [],
   "source": [
    "def fact(num):\n",
    "    if num <0:\n",
    "        return 0\n",
    "    elif (num == 0 or num ==1):\n",
    "        return 1\n",
    "    else:\n",
    "        fact1 = []\n",
    "        fact1 = num * fact(num-1)\n",
    "        return fact1"
   ]
  },
  {
   "cell_type": "code",
   "execution_count": 45,
   "id": "878fbf06-d168-47e4-ad0b-c394db12978c",
   "metadata": {},
   "outputs": [
    {
     "data": {
      "text/plain": [
       "24"
      ]
     },
     "execution_count": 45,
     "metadata": {},
     "output_type": "execute_result"
    }
   ],
   "source": [
    "fact(4)"
   ]
  },
  {
   "cell_type": "code",
   "execution_count": 46,
   "id": "dc31b96e-6a2c-4e42-bac9-72615a422fbe",
   "metadata": {},
   "outputs": [
    {
     "data": {
      "text/plain": [
       "1"
      ]
     },
     "execution_count": 46,
     "metadata": {},
     "output_type": "execute_result"
    }
   ],
   "source": [
    "fact(0)"
   ]
  },
  {
   "cell_type": "code",
   "execution_count": 47,
   "id": "67ae1f36-6dc4-4636-8cdd-dd8ae6f675f8",
   "metadata": {},
   "outputs": [
    {
     "data": {
      "text/plain": [
       "0"
      ]
     },
     "execution_count": 47,
     "metadata": {},
     "output_type": "execute_result"
    }
   ],
   "source": [
    "fact(-10)"
   ]
  },
  {
   "cell_type": "markdown",
   "id": "6bc27a00-b9fa-4853-8365-4a0a58ca82af",
   "metadata": {},
   "source": [
    "40. Check if two lists have at least one element in common"
   ]
  },
  {
   "cell_type": "code",
   "execution_count": null,
   "id": "766c3f8f-3f99-4b1b-bafb-80f59e6e2dd8",
   "metadata": {},
   "outputs": [],
   "source": [
    "list1 = [1,2,3,4,5]\n",
    "list2 = [4,5,6,7,8]\n",
    "list3 = [9,10,11]\n",
    "list4 = [1,0,0,1]"
   ]
  },
  {
   "cell_type": "code",
   "execution_count": 23,
   "id": "98a2ab34-fd44-4ac0-8898-dc83040820f0",
   "metadata": {},
   "outputs": [],
   "source": [
    "def common(list1,list2):\n",
    "    flag = 0\n",
    "    for i in list1:\n",
    "        if i in list2:\n",
    "            flag =1\n",
    "    if flag == 1:\n",
    "        print(list1,\"and\", list2, \"have least 1 element in common\")\n",
    "    else:\n",
    "        print(list1,\"and\", list2, \"DONOT have least 1 element in common\")"
   ]
  },
  {
   "cell_type": "code",
   "execution_count": 24,
   "id": "c4bbbb68-51cb-4f7b-bb24-f83e1025aec7",
   "metadata": {},
   "outputs": [
    {
     "name": "stdout",
     "output_type": "stream",
     "text": [
      "[1, 2, 3, 4, 5] and [1, 0, 0, 1] have least 1 element in common\n"
     ]
    }
   ],
   "source": [
    "common(list1,list4)"
   ]
  },
  {
   "cell_type": "code",
   "execution_count": 25,
   "id": "2ee3aa25-5104-4adb-96c0-c84113c2d970",
   "metadata": {},
   "outputs": [
    {
     "name": "stdout",
     "output_type": "stream",
     "text": [
      "[4, 5, 6, 7, 8] and [9, 10, 11] DONOT have least 1 element in common\n"
     ]
    }
   ],
   "source": [
    "common(list2, list3)"
   ]
  },
  {
   "cell_type": "code",
   "execution_count": 26,
   "id": "a0275338-365e-4454-9fd5-e5d4f4103ab9",
   "metadata": {},
   "outputs": [
    {
     "name": "stdout",
     "output_type": "stream",
     "text": [
      "[1, 2, 3, 4, 5] and [4, 5, 6, 7, 8] have least 1 element in common\n"
     ]
    }
   ],
   "source": [
    "common(list1,list2)"
   ]
  },
  {
   "cell_type": "code",
   "execution_count": 27,
   "id": "a0b94b95-5de8-44ec-9ced-7159caaa1095",
   "metadata": {},
   "outputs": [
    {
     "name": "stdout",
     "output_type": "stream",
     "text": [
      "[1, 2, 3, 4, 5] and [9, 10, 11] DONOT have least 1 element in common\n"
     ]
    }
   ],
   "source": [
    "common(list1, list3)"
   ]
  },
  {
   "cell_type": "markdown",
   "id": "08bafe2d-6d43-422e-a54b-d2314a2e0162",
   "metadata": {},
   "source": [
    "41. Remove all elements from a list."
   ]
  },
  {
   "cell_type": "code",
   "execution_count": 28,
   "id": "fe0e8bc9-f401-4082-ba46-af5cd3b82cef",
   "metadata": {},
   "outputs": [],
   "source": [
    "list4.clear()"
   ]
  },
  {
   "cell_type": "code",
   "execution_count": 29,
   "id": "bc8613d6-62c6-40ed-83b8-67e8245df5c5",
   "metadata": {},
   "outputs": [
    {
     "data": {
      "text/plain": [
       "[]"
      ]
     },
     "execution_count": 29,
     "metadata": {},
     "output_type": "execute_result"
    }
   ],
   "source": [
    "list4"
   ]
  },
  {
   "cell_type": "markdown",
   "id": "5b25af18-a04f-4cdc-81f6-c26be7f421f0",
   "metadata": {},
   "source": [
    "42. Replace negative numbers in a list with 0."
   ]
  },
  {
   "cell_type": "code",
   "execution_count": 23,
   "id": "6dfc9b34-0df2-4a73-a001-6c701e8b8571",
   "metadata": {},
   "outputs": [
    {
     "name": "stdout",
     "output_type": "stream",
     "text": [
      "After replacing the negative numbers in a list with 0. The list is: [0, 3, 5, 0, 0, 0, 90, 0.8]\n"
     ]
    }
   ],
   "source": [
    "list6= [-9,3,5,-4,-6,-101,90,0.80]\n",
    "for i in range(0,len(list6)):\n",
    "    if list6[i] < 0:\n",
    "        list6[i] = 0\n",
    "print(\"After replacing the negative numbers in a list with 0. The list is:\",list6)"
   ]
  },
  {
   "cell_type": "markdown",
   "id": "9550ddce-b4d4-4fbf-a8a5-17ce44f281fc",
   "metadata": {},
   "source": [
    "43. Convert a string into a list of words."
   ]
  },
  {
   "cell_type": "code",
   "execution_count": 51,
   "id": "d78d235f-437b-4d3f-a1bc-6727fca2f1c9",
   "metadata": {},
   "outputs": [],
   "source": [
    "string1 = \"Popular\""
   ]
  },
  {
   "cell_type": "code",
   "execution_count": 54,
   "id": "032a3ccb-229d-4609-abcb-886e1b5f4582",
   "metadata": {},
   "outputs": [
    {
     "data": {
      "text/plain": [
       "['P', 'o', 'p', 'u', 'l', 'a', 'r']"
      ]
     },
     "execution_count": 54,
     "metadata": {},
     "output_type": "execute_result"
    }
   ],
   "source": [
    "list5 =[]\n",
    "for i in string1:\n",
    "    list5.append(i)\n",
    "list5"
   ]
  },
  {
   "cell_type": "markdown",
   "id": "b49c9cfb-5cf7-48d0-b5f1-59ce77515982",
   "metadata": {},
   "source": [
    "44. Convert a list of words into a string."
   ]
  },
  {
   "cell_type": "code",
   "execution_count": 64,
   "id": "b6949c33-c64c-4dd1-8dce-d7f8d2e91434",
   "metadata": {},
   "outputs": [],
   "source": [
    "list7 = [\"kind\",\"music\", \"google\", \"am\",\"I\"]"
   ]
  },
  {
   "cell_type": "code",
   "execution_count": 65,
   "id": "7ac8de02-7479-47ce-9c5e-62add0eaa049",
   "metadata": {},
   "outputs": [],
   "source": [
    "string4 = \"\""
   ]
  },
  {
   "cell_type": "code",
   "execution_count": 66,
   "id": "73f62ef7-b825-4eef-a3fa-498e7f52f6dc",
   "metadata": {},
   "outputs": [
    {
     "data": {
      "text/plain": [
       "'kind music google am I '"
      ]
     },
     "execution_count": 66,
     "metadata": {},
     "output_type": "execute_result"
    }
   ],
   "source": [
    "for i in list7:\n",
    "    #print(i)\n",
    "    string4 = string4 +str(i)+ \" \"\n",
    "string4"
   ]
  },
  {
   "cell_type": "markdown",
   "id": "b19d92cc-87e6-4976-9405-eb17b5c81c92",
   "metadata": {},
   "source": [
    "45. Create a list of the first `n` powers of 2."
   ]
  },
  {
   "cell_type": "code",
   "execution_count": 68,
   "id": "8cc558e1-853a-4f7c-a4fc-d4d59db1c58f",
   "metadata": {},
   "outputs": [
    {
     "data": {
      "text/plain": [
       "[1, 2, 4, 8, 16, 32, 64, 128, 256, 512]"
      ]
     },
     "execution_count": 68,
     "metadata": {},
     "output_type": "execute_result"
    }
   ],
   "source": [
    "[2**n for n in range(0,10)]"
   ]
  },
  {
   "cell_type": "markdown",
   "id": "9299a74a-622d-4fa6-8503-ccf97826b657",
   "metadata": {},
   "source": [
    "46. Find the longest string in a list of strings."
   ]
  },
  {
   "cell_type": "code",
   "execution_count": 49,
   "id": "7e879ead-2d5d-4812-a36f-5ac2a5e3c7eb",
   "metadata": {},
   "outputs": [
    {
     "data": {
      "text/plain": [
       "'examples'"
      ]
     },
     "execution_count": 49,
     "metadata": {},
     "output_type": "execute_result"
    }
   ],
   "source": [
    "strings = [\"kinds\", \"examples\", \"words\", \"whats\", \"I\", \"am\", \"kindle\", \"for\",\"A\"]\n",
    "max(strings, key = len)"
   ]
  },
  {
   "cell_type": "markdown",
   "id": "50c83bd1-1b67-42e5-9ed5-8e9ad3067fba",
   "metadata": {},
   "source": [
    "47. Find the shortest string in a list of strings."
   ]
  },
  {
   "cell_type": "code",
   "execution_count": 46,
   "id": "505ad5dc-2df9-4062-893a-bff839f31d08",
   "metadata": {},
   "outputs": [
    {
     "data": {
      "text/plain": [
       "'I'"
      ]
     },
     "execution_count": 46,
     "metadata": {},
     "output_type": "execute_result"
    }
   ],
   "source": [
    "strings = [\"kinds\", \"example\", \"words\", \"whats\", \"I\", \"am\", \"kindle\", \"for\",\"A\"]\n",
    "\n",
    "min(strings, key=len) # prints \"i\""
   ]
  },
  {
   "cell_type": "code",
   "execution_count": 44,
   "id": "313cf966-6833-456c-883b-1944914e6a61",
   "metadata": {},
   "outputs": [
    {
     "data": {
      "text/plain": [
       "'I'"
      ]
     },
     "execution_count": 44,
     "metadata": {},
     "output_type": "execute_result"
    }
   ],
   "source": [
    "min(strings)"
   ]
  },
  {
   "cell_type": "markdown",
   "id": "4a2151d9-c9b6-4fef-8d81-ae1f3befc885",
   "metadata": {},
   "source": [
    "48. Create a list of the first `n` triangular numbers."
   ]
  },
  {
   "cell_type": "code",
   "execution_count": null,
   "id": "721fde7a-bd7d-45c1-b318-36d7f4c263e2",
   "metadata": {},
   "outputs": [],
   "source": [
    "1,3,6,10,15,21,28"
   ]
  },
  {
   "cell_type": "code",
   "execution_count": 60,
   "id": "1f3c5b0d-f44d-4ce1-8646-73191a8f93f3",
   "metadata": {},
   "outputs": [
    {
     "name": "stdout",
     "output_type": "stream",
     "text": [
      "[1, 3, 6, 10, 15, 21, 28, 36, 45, 55]\n"
     ]
    }
   ],
   "source": [
    "tri_list =[]\n",
    "num =0\n",
    "for i in range(1, 11):\n",
    "    num = num+i\n",
    "    tri_list.append(num)\n",
    "print(tri_list)"
   ]
  },
  {
   "cell_type": "markdown",
   "id": "4f8ecbe4-f779-4c0b-8f58-cad5c8fe50d5",
   "metadata": {},
   "source": [
    "49. Check if a list contains another list as a subsequence"
   ]
  },
  {
   "cell_type": "code",
   "execution_count": null,
   "id": "0c6c64ac-61eb-4e1d-9de8-451e0e601564",
   "metadata": {},
   "outputs": [],
   "source": []
  },
  {
   "cell_type": "markdown",
   "id": "b488387b-10f4-41ac-bcee-8e453e709972",
   "metadata": {},
   "source": [
    "50. Swap two elements in a list by their indices."
   ]
  },
  {
   "cell_type": "code",
   "execution_count": 31,
   "id": "d4ee259a-ccc6-4ca0-a6c2-080609475ea6",
   "metadata": {},
   "outputs": [],
   "source": [
    "list3= [\"A\",\"B\",9,\"kalam\",100,\"One\"]"
   ]
  },
  {
   "cell_type": "code",
   "execution_count": 32,
   "id": "aaab210a-405f-47a9-91b4-28fbab0e475b",
   "metadata": {},
   "outputs": [],
   "source": [
    "def swapping(index1, index2):\n",
    "    list3[index1],list3[index2] = list3[index2],list3[index1]\n",
    "    return list3"
   ]
  },
  {
   "cell_type": "code",
   "execution_count": 33,
   "id": "71f4617a-70c0-49e6-91d1-283e58535350",
   "metadata": {},
   "outputs": [
    {
     "data": {
      "text/plain": [
       "['kalam', 'B', 9, 'A', 100, 'One']"
      ]
     },
     "execution_count": 33,
     "metadata": {},
     "output_type": "execute_result"
    }
   ],
   "source": [
    "swapping(0,3)"
   ]
  },
  {
   "cell_type": "markdown",
   "id": "d5a49488-d4d0-4e65-9d04-38f762b7fae5",
   "metadata": {},
   "source": [
    "---------------------------------------------------------------------------------------------------------------------------------------------"
   ]
  },
  {
   "cell_type": "raw",
   "id": "a7407802-5454-410d-bae2-c69754dfae01",
   "metadata": {},
   "source": [
    "-------------------------------------------------------------------------------------------------------------------------------------------"
   ]
  },
  {
   "cell_type": "code",
   "execution_count": null,
   "id": "b7d7cd76-8d01-4fd0-873a-3f4cb7dd798d",
   "metadata": {},
   "outputs": [],
   "source": []
  },
  {
   "cell_type": "markdown",
   "id": "cc628b5e-7593-4830-8f35-cabd5cda375e",
   "metadata": {},
   "source": [
    "1. Create a tuple with integers from 1 to 5."
   ]
  },
  {
   "cell_type": "code",
   "execution_count": 100,
   "id": "b6e67f66-d75e-4f83-a866-5a890e593a51",
   "metadata": {},
   "outputs": [
    {
     "data": {
      "text/plain": [
       "(1, 2, 3, 4, 5)"
      ]
     },
     "execution_count": 100,
     "metadata": {},
     "output_type": "execute_result"
    }
   ],
   "source": [
    "tuple1= tuple(i for i in range(1,6))\n",
    "tuple1"
   ]
  },
  {
   "cell_type": "markdown",
   "id": "46f29de4-2b44-45f1-830c-e545d868641b",
   "metadata": {},
   "source": [
    "2. Access the third element of a tuple."
   ]
  },
  {
   "cell_type": "code",
   "execution_count": 10,
   "id": "ee6bb469-f28f-498f-b1ea-eb28e2cbb1ff",
   "metadata": {},
   "outputs": [
    {
     "name": "stdout",
     "output_type": "stream",
     "text": [
      "The third element of a tuple is: 3\n"
     ]
    }
   ],
   "source": [
    "print(\"The third element of a tuple is:\",tuple1[2])"
   ]
  },
  {
   "cell_type": "markdown",
   "id": "cab8e6ac-6777-4222-a658-8a07984d3310",
   "metadata": {},
   "source": [
    "\n",
    "3. Find the length of a tuple without using the `len()` function.\n"
   ]
  },
  {
   "cell_type": "code",
   "execution_count": 12,
   "id": "d7f50506-76f9-44b3-a617-b26765dfca8b",
   "metadata": {},
   "outputs": [
    {
     "name": "stdout",
     "output_type": "stream",
     "text": [
      "The length of the tuple is: 5\n"
     ]
    }
   ],
   "source": [
    "count = 0\n",
    "for i in tuple1:\n",
    "    count = count+1\n",
    "print(\"The length of the tuple is:\",count)"
   ]
  },
  {
   "cell_type": "markdown",
   "id": "67a52988-c12a-49f6-93a9-d55a5e65a7d3",
   "metadata": {},
   "source": [
    "\n",
    "4. Count the occurrences of an element in a tuple"
   ]
  },
  {
   "cell_type": "code",
   "execution_count": 10,
   "id": "24a18ef2-d466-4d97-ac26-89f0cc77832e",
   "metadata": {},
   "outputs": [],
   "source": [
    "tuple2 =(1, 2, 1,6,4,5,2,4,5,1,1,3, 4, 5,5,5,5)"
   ]
  },
  {
   "cell_type": "code",
   "execution_count": 11,
   "id": "9eb419e3-5351-4f96-b4db-2285276f12cd",
   "metadata": {},
   "outputs": [],
   "source": [
    "def counts(element):\n",
    "    count =0\n",
    "    for i in tuple2:\n",
    "        if i == element:\n",
    "            count = count+1\n",
    "    return count"
   ]
  },
  {
   "cell_type": "code",
   "execution_count": 12,
   "id": "4f38ce49-3bba-4a7a-823e-30b6b3b8910e",
   "metadata": {},
   "outputs": [
    {
     "data": {
      "text/plain": [
       "6"
      ]
     },
     "execution_count": 12,
     "metadata": {},
     "output_type": "execute_result"
    }
   ],
   "source": [
    "counts(5)"
   ]
  },
  {
   "cell_type": "code",
   "execution_count": 13,
   "id": "81e7e2cf-9764-4ab2-bdf8-372462841bb0",
   "metadata": {},
   "outputs": [
    {
     "data": {
      "text/plain": [
       "4"
      ]
     },
     "execution_count": 13,
     "metadata": {},
     "output_type": "execute_result"
    }
   ],
   "source": [
    "counts(1)"
   ]
  },
  {
   "cell_type": "code",
   "execution_count": 14,
   "id": "d6118584-da0e-4417-a8e6-3fa26ec1f144",
   "metadata": {},
   "outputs": [
    {
     "data": {
      "text/plain": [
       "3"
      ]
     },
     "execution_count": 14,
     "metadata": {},
     "output_type": "execute_result"
    }
   ],
   "source": [
    "counts(4)"
   ]
  },
  {
   "cell_type": "markdown",
   "id": "8faae0e0-535e-4088-9462-89a1038e28a4",
   "metadata": {},
   "source": [
    "5. Find the index of the first occurrence of an element in a tuple."
   ]
  },
  {
   "cell_type": "code",
   "execution_count": 21,
   "id": "34f290a9-b2bd-4161-ae49-f2d9e993759a",
   "metadata": {},
   "outputs": [
    {
     "data": {
      "text/plain": [
       "(1, 2, 1, 6, 4, 5, 2, 4, 5, 1, 1, 3, 4, 5, 5, 5, 5)"
      ]
     },
     "execution_count": 21,
     "metadata": {},
     "output_type": "execute_result"
    }
   ],
   "source": [
    "tuple2"
   ]
  },
  {
   "cell_type": "code",
   "execution_count": 26,
   "id": "faf38b3e-9e8e-40cc-8c41-b153d0f6e4d5",
   "metadata": {},
   "outputs": [],
   "source": [
    "def first_index(x):\n",
    "    return \"The index of the first occurrence of\",x, \"in a tuple is:\",tuple2.index(x)"
   ]
  },
  {
   "cell_type": "code",
   "execution_count": 27,
   "id": "71460065-2518-443e-ba4e-372a44af354f",
   "metadata": {},
   "outputs": [
    {
     "data": {
      "text/plain": [
       "('The index of the first occurrence of', 1, 'in a tuple is:', 0)"
      ]
     },
     "execution_count": 27,
     "metadata": {},
     "output_type": "execute_result"
    }
   ],
   "source": [
    "first_index(1)"
   ]
  },
  {
   "cell_type": "code",
   "execution_count": 28,
   "id": "e8311bf9-4214-4b89-9437-ffff62ec3bcc",
   "metadata": {},
   "outputs": [
    {
     "data": {
      "text/plain": [
       "('The index of the first occurrence of', 6, 'in a tuple is:', 3)"
      ]
     },
     "execution_count": 28,
     "metadata": {},
     "output_type": "execute_result"
    }
   ],
   "source": [
    "first_index(6)"
   ]
  },
  {
   "cell_type": "code",
   "execution_count": 29,
   "id": "e5b96f76-1291-4fca-9474-cf299e8bd0cd",
   "metadata": {},
   "outputs": [
    {
     "data": {
      "text/plain": [
       "('The index of the first occurrence of', 5, 'in a tuple is:', 5)"
      ]
     },
     "execution_count": 29,
     "metadata": {},
     "output_type": "execute_result"
    }
   ],
   "source": [
    "first_index(5)"
   ]
  },
  {
   "cell_type": "markdown",
   "id": "8109b73f-98e5-4909-a69c-9a39139eb757",
   "metadata": {},
   "source": [
    "6.Check if an element exists in a tuple.\n"
   ]
  },
  {
   "cell_type": "code",
   "execution_count": 30,
   "id": "35241e92-75e1-4749-a056-70346c2f4e20",
   "metadata": {},
   "outputs": [
    {
     "data": {
      "text/plain": [
       "(1, 2, 1, 6, 4, 5, 2, 4, 5, 1, 1, 3, 4, 5, 5, 5, 5)"
      ]
     },
     "execution_count": 30,
     "metadata": {},
     "output_type": "execute_result"
    }
   ],
   "source": [
    "tuple2"
   ]
  },
  {
   "cell_type": "code",
   "execution_count": 39,
   "id": "300e0bee-417c-4d5a-b85a-f7087144e985",
   "metadata": {},
   "outputs": [],
   "source": [
    "def exists(x):\n",
    "    if x in tuple2:\n",
    "        print(\"Yes.\", x,\"exists in a tuple\")\n",
    "    else:\n",
    "        print(\"No.\", x, \"doesnt exists in a tuple\")\n",
    "    "
   ]
  },
  {
   "cell_type": "code",
   "execution_count": 40,
   "id": "0eedc43c-53c3-4347-9650-a304c3ae9502",
   "metadata": {},
   "outputs": [
    {
     "name": "stdout",
     "output_type": "stream",
     "text": [
      "Yes. 1 exists in a tuple\n"
     ]
    }
   ],
   "source": [
    "exists(1)"
   ]
  },
  {
   "cell_type": "code",
   "execution_count": 41,
   "id": "44d51465-e60a-4694-9304-088bc6719ff4",
   "metadata": {},
   "outputs": [
    {
     "name": "stdout",
     "output_type": "stream",
     "text": [
      "Yes. 6 exists in a tuple\n"
     ]
    }
   ],
   "source": [
    "exists(6)"
   ]
  },
  {
   "cell_type": "code",
   "execution_count": 42,
   "id": "7da5fc54-29b5-4eb4-a499-6590a2bc71b0",
   "metadata": {},
   "outputs": [
    {
     "name": "stdout",
     "output_type": "stream",
     "text": [
      "No. 10 doesnt exists in a tuple\n"
     ]
    }
   ],
   "source": [
    "exists(10)"
   ]
  },
  {
   "cell_type": "markdown",
   "id": "29ff3afb-3a47-4041-8235-7dfefd35630c",
   "metadata": {},
   "source": [
    "7. Convert a tuple to a list."
   ]
  },
  {
   "cell_type": "code",
   "execution_count": 43,
   "id": "66206ab3-2c7a-4708-b793-78d8e259932b",
   "metadata": {},
   "outputs": [
    {
     "data": {
      "text/plain": [
       "(1, 2, 1, 6, 4, 5, 2, 4, 5, 1, 1, 3, 4, 5, 5, 5, 5)"
      ]
     },
     "execution_count": 43,
     "metadata": {},
     "output_type": "execute_result"
    }
   ],
   "source": [
    "tuple2"
   ]
  },
  {
   "cell_type": "code",
   "execution_count": 45,
   "id": "22cb94ab-6eea-4ff8-acf5-eb15d457d4cd",
   "metadata": {},
   "outputs": [
    {
     "data": {
      "text/plain": [
       "[1, 2, 1, 6, 4, 5, 2, 4, 5, 1, 1, 3, 4, 5, 5, 5, 5]"
      ]
     },
     "execution_count": 45,
     "metadata": {},
     "output_type": "execute_result"
    }
   ],
   "source": [
    "[i for i in tuple2]"
   ]
  },
  {
   "cell_type": "markdown",
   "id": "967c8947-eb11-4277-8cd3-b17012567f17",
   "metadata": {},
   "source": [
    "8. Convert a list to a tuple.\n"
   ]
  },
  {
   "cell_type": "code",
   "execution_count": 46,
   "id": "d4d09daf-6c71-4948-a581-834acd96dc48",
   "metadata": {},
   "outputs": [],
   "source": [
    "list1 = [\"apple\",5,7,\"joke\",90,100,30,-100,0.5]"
   ]
  },
  {
   "cell_type": "code",
   "execution_count": 48,
   "id": "278d375a-1de6-4594-9d05-f84cfb287efb",
   "metadata": {},
   "outputs": [
    {
     "data": {
      "text/plain": [
       "('apple', 5, 7, 'joke', 90, 100, 30, -100, 0.5)"
      ]
     },
     "execution_count": 48,
     "metadata": {},
     "output_type": "execute_result"
    }
   ],
   "source": [
    "tuple3 = tuple(i for i in list1)\n",
    "tuple3"
   ]
  },
  {
   "cell_type": "markdown",
   "id": "d34bdfed-146e-4ae8-9209-f01bdc543ba2",
   "metadata": {},
   "source": [
    "9. Unpack the elements of a tuple into variables.\n"
   ]
  },
  {
   "cell_type": "code",
   "execution_count": 61,
   "id": "78d8f193-07eb-4343-998c-0bb9940fdc0c",
   "metadata": {},
   "outputs": [
    {
     "name": "stdout",
     "output_type": "stream",
     "text": [
      "java\n",
      "python\n",
      "c++\n",
      "['javascript', 'php']\n"
     ]
    }
   ],
   "source": [
    "language = (\"java\", \"python\", \"c++\",\"javascript\",\"php\")\n",
    "\n",
    "(a,b,c,*d) = language\n",
    "\n",
    "print(a)\n",
    "print(b)\n",
    "print(c)\n",
    "print(d)"
   ]
  },
  {
   "cell_type": "markdown",
   "id": "d1554878-dfac-4b5f-b0eb-451b3896ab6c",
   "metadata": {},
   "source": [
    "10. Create a tuple of even numbers from 1 to 10.\n"
   ]
  },
  {
   "cell_type": "code",
   "execution_count": 63,
   "id": "89098da9-f0b3-4b67-a13b-54fb87bc14d9",
   "metadata": {},
   "outputs": [
    {
     "data": {
      "text/plain": [
       "(2, 4, 6, 8, 10)"
      ]
     },
     "execution_count": 63,
     "metadata": {},
     "output_type": "execute_result"
    }
   ],
   "source": [
    "even_tuple = tuple(i for i in range(1,11) if i%2 ==0)\n",
    "even_tuple"
   ]
  },
  {
   "cell_type": "markdown",
   "id": "9843d6b7-3524-4b90-9902-d6d4749dc2b4",
   "metadata": {},
   "source": [
    "11. Create a tuple of odd numbers from 1 to 10.\n"
   ]
  },
  {
   "cell_type": "code",
   "execution_count": 64,
   "id": "3ff4b8a1-4645-44a3-8a31-7e4599b0c702",
   "metadata": {},
   "outputs": [
    {
     "data": {
      "text/plain": [
       "(1, 3, 5, 7, 9)"
      ]
     },
     "execution_count": 64,
     "metadata": {},
     "output_type": "execute_result"
    }
   ],
   "source": [
    "odd_tuple = tuple(i for i in range(1,10) if i%2 !=0)\n",
    "odd_tuple"
   ]
  },
  {
   "cell_type": "markdown",
   "id": "df14a432-b3d6-4515-912d-b0245cd7b7f8",
   "metadata": {},
   "source": [
    "12. Concatenate two tuples.\n"
   ]
  },
  {
   "cell_type": "code",
   "execution_count": 70,
   "id": "951d3e75-a2f7-4695-95bf-0f23e4aa2dc9",
   "metadata": {},
   "outputs": [
    {
     "data": {
      "text/plain": [
       "(2, 4, 6, 8, 10, 1, 3, 5, 7, 9)"
      ]
     },
     "execution_count": 70,
     "metadata": {},
     "output_type": "execute_result"
    }
   ],
   "source": [
    "tuple4 = even_tuple + odd_tuple\n",
    "tuple4"
   ]
  },
  {
   "cell_type": "markdown",
   "id": "63087601-57a7-468e-85e2-d4338ca61807",
   "metadata": {},
   "source": [
    "13. Repeat a tuple three times."
   ]
  },
  {
   "cell_type": "code",
   "execution_count": 87,
   "id": "74f6fefb-fa13-4e7b-a3c8-7f34298c8c6e",
   "metadata": {},
   "outputs": [],
   "source": [
    "tuple5 = (4,1,5)"
   ]
  },
  {
   "cell_type": "code",
   "execution_count": 81,
   "id": "a7ecb1d9-2f91-48ce-a996-a1f0699566b4",
   "metadata": {},
   "outputs": [
    {
     "data": {
      "text/plain": [
       "(4, 1, 5, 4, 1, 5, 4, 1, 5)"
      ]
     },
     "execution_count": 81,
     "metadata": {},
     "output_type": "execute_result"
    }
   ],
   "source": [
    "tuple5*3"
   ]
  },
  {
   "cell_type": "markdown",
   "id": "db9c1c2a-7ff9-439f-ba99-e4dc55dc9a64",
   "metadata": {},
   "source": [
    "14. Check if a tuple is empty.\n"
   ]
  },
  {
   "cell_type": "code",
   "execution_count": 94,
   "id": "b6762d9b-f3e0-4c0a-b8b4-7491e147d4b7",
   "metadata": {},
   "outputs": [],
   "source": [
    "empty_tuple = ()"
   ]
  },
  {
   "cell_type": "code",
   "execution_count": 116,
   "id": "b75d62e8-43a7-4d20-98bd-7382eee3fe78",
   "metadata": {},
   "outputs": [],
   "source": [
    "def check_tuple(tupleX):\n",
    "    if len(tupleX) == 0:\n",
    "        print(\"Tuple is empty\")\n",
    "    else:\n",
    "        print(\"Tuple ISNT empty\")\n",
    "    "
   ]
  },
  {
   "cell_type": "code",
   "execution_count": 117,
   "id": "b13d6a6d-eee8-4630-a41b-657b4cf97d82",
   "metadata": {},
   "outputs": [
    {
     "name": "stdout",
     "output_type": "stream",
     "text": [
      "Tuple is empty\n"
     ]
    }
   ],
   "source": [
    "check_tuple(empty_tuple)"
   ]
  },
  {
   "cell_type": "code",
   "execution_count": 118,
   "id": "68dc6499-e528-4a1f-b6ee-25171efc5ed4",
   "metadata": {},
   "outputs": [
    {
     "name": "stdout",
     "output_type": "stream",
     "text": [
      "Tuple ISNT empty\n"
     ]
    }
   ],
   "source": [
    "check_tuple(tuple1)"
   ]
  },
  {
   "cell_type": "markdown",
   "id": "88c1d10a-0606-402c-b60d-6b3188f4f5b9",
   "metadata": {},
   "source": [
    "15. Create a nested tuple.\n"
   ]
  },
  {
   "cell_type": "code",
   "execution_count": 6,
   "id": "8241217f-4813-44c4-9d53-70c15569a7b1",
   "metadata": {},
   "outputs": [
    {
     "name": "stdout",
     "output_type": "stream",
     "text": [
      "Nested tuple is :  ((7, 8, 2), (9, 6, 2, 1, 4))\n"
     ]
    }
   ],
   "source": [
    "tuple_1 = ( 7, 8, 2),\n",
    "tuple_2 = (9, 6, 2, 1, 4),\n",
    "\n",
    "\n",
    "nested_tuple = tuple_1 + tuple_2\n",
    "\n",
    "print(\"Nested tuple is : \", nested_tuple )"
   ]
  },
  {
   "cell_type": "markdown",
   "id": "7066ca41-aff8-41f2-85b2-758ce15071ea",
   "metadata": {},
   "source": [
    "16. Access the first element of a nested tuple.\n"
   ]
  },
  {
   "cell_type": "code",
   "execution_count": 9,
   "id": "4c2e7a9c-b8ea-48d5-8499-770b4e9287f1",
   "metadata": {},
   "outputs": [
    {
     "name": "stdout",
     "output_type": "stream",
     "text": [
      "The first element of a nested tuple is: 7\n"
     ]
    }
   ],
   "source": [
    "print(\"The first element of a nested tuple is:\",nested_tuple[0][0])"
   ]
  },
  {
   "cell_type": "markdown",
   "id": "696b131b-2200-4b3a-a45b-2cf852899084",
   "metadata": {
    "tags": []
   },
   "source": [
    "\n",
    "17. Create a tuple with a single element."
   ]
  },
  {
   "cell_type": "code",
   "execution_count": 18,
   "id": "453940f2-b767-48e0-9862-41cf1529fe30",
   "metadata": {},
   "outputs": [
    {
     "data": {
      "text/plain": [
       "('one',)"
      ]
     },
     "execution_count": 18,
     "metadata": {},
     "output_type": "execute_result"
    }
   ],
   "source": [
    "tuple1 = (\"one\",) #coz of the comma after the element, it is considered as a tuple\n",
    "tuple1"
   ]
  },
  {
   "cell_type": "code",
   "execution_count": 17,
   "id": "e4ebda00-758e-48f9-b85e-8e7632cc7304",
   "metadata": {},
   "outputs": [
    {
     "data": {
      "text/plain": [
       "str"
      ]
     },
     "execution_count": 17,
     "metadata": {},
     "output_type": "execute_result"
    }
   ],
   "source": [
    "type(tuple1)"
   ]
  },
  {
   "cell_type": "markdown",
   "id": "c1192be7-a36f-4a17-b7f8-ce6b008ada70",
   "metadata": {},
   "source": [
    "\n",
    "18. Compare two tuples."
   ]
  },
  {
   "cell_type": "code",
   "execution_count": 20,
   "id": "faf5202b-c236-4bb6-969a-06987a52947a",
   "metadata": {},
   "outputs": [],
   "source": [
    "tup1 = (2,3,5)\n",
    "tup2 = (0,1,9)"
   ]
  },
  {
   "cell_type": "code",
   "execution_count": 21,
   "id": "2c0df7d6-0499-4cae-8067-1f4a600f5d77",
   "metadata": {},
   "outputs": [
    {
     "data": {
      "text/plain": [
       "True"
      ]
     },
     "execution_count": 21,
     "metadata": {},
     "output_type": "execute_result"
    }
   ],
   "source": [
    "tup1 > tup2"
   ]
  },
  {
   "cell_type": "code",
   "execution_count": 22,
   "id": "e120d390-88ee-4c26-b575-661835808c97",
   "metadata": {},
   "outputs": [
    {
     "data": {
      "text/plain": [
       "False"
      ]
     },
     "execution_count": 22,
     "metadata": {},
     "output_type": "execute_result"
    }
   ],
   "source": [
    "tup1 <tup2"
   ]
  },
  {
   "cell_type": "code",
   "execution_count": 24,
   "id": "3c17c179-4dd6-44f2-8919-04dd67514788",
   "metadata": {},
   "outputs": [
    {
     "data": {
      "text/plain": [
       "True"
      ]
     },
     "execution_count": 24,
     "metadata": {},
     "output_type": "execute_result"
    }
   ],
   "source": [
    "tup1 == tup2"
   ]
  },
  {
   "cell_type": "code",
   "execution_count": 25,
   "id": "c4b697d0-8f57-404b-bfd1-e3360f1129c2",
   "metadata": {},
   "outputs": [
    {
     "data": {
      "text/plain": [
       "True"
      ]
     },
     "execution_count": 25,
     "metadata": {},
     "output_type": "execute_result"
    }
   ],
   "source": [
    "len(tup1) == len(tup2)"
   ]
  },
  {
   "cell_type": "markdown",
   "id": "1b9a47a3-1fd7-47b4-bb7f-bc4ee1e2aeac",
   "metadata": {},
   "source": [
    "19. Delete a tuple."
   ]
  },
  {
   "cell_type": "code",
   "execution_count": 93,
   "id": "e621db82-16e9-469c-b6db-8a9d976b4ff2",
   "metadata": {},
   "outputs": [
    {
     "ename": "NameError",
     "evalue": "name 'tuple5' is not defined",
     "output_type": "error",
     "traceback": [
      "\u001b[0;31m---------------------------------------------------------------------------\u001b[0m",
      "\u001b[0;31mNameError\u001b[0m                                 Traceback (most recent call last)",
      "Cell \u001b[0;32mIn[93], line 1\u001b[0m\n\u001b[0;32m----> 1\u001b[0m \u001b[43mtuple5\u001b[49m\n\u001b[1;32m      2\u001b[0m \u001b[38;5;28;01mdel\u001b[39;00m tuple5\n\u001b[1;32m      3\u001b[0m \u001b[38;5;28mprint\u001b[39m(\u001b[38;5;124m\"\u001b[39m\u001b[38;5;124mAfter deleting the tuple:\u001b[39m\u001b[38;5;124m\"\u001b[39m)\n",
      "\u001b[0;31mNameError\u001b[0m: name 'tuple5' is not defined"
     ]
    }
   ],
   "source": [
    "tuple5\n",
    "del tuple5\n",
    "print(\"After deleting the tuple:\")\n",
    "tuple5"
   ]
  },
  {
   "cell_type": "markdown",
   "id": "7bec3a5e-8f7d-4bc0-aee7-5aaa67ae821b",
   "metadata": {},
   "source": [
    "20. Slice a tuple."
   ]
  },
  {
   "cell_type": "code",
   "execution_count": 41,
   "id": "0934dfa9-e1e0-446b-b5d3-37b66548b627",
   "metadata": {},
   "outputs": [],
   "source": [
    "t1 = (1,3,8,\"Kind\", \"low\",60,\"900\",9,5,True)"
   ]
  },
  {
   "cell_type": "code",
   "execution_count": 42,
   "id": "70d07e42-dc14-460f-ab58-510193237c6b",
   "metadata": {},
   "outputs": [
    {
     "data": {
      "text/plain": [
       "(1, 3, 8, 'Kind', 'low', 60, '900', 9, 5, True)"
      ]
     },
     "execution_count": 42,
     "metadata": {},
     "output_type": "execute_result"
    }
   ],
   "source": [
    "t1"
   ]
  },
  {
   "cell_type": "code",
   "execution_count": 51,
   "id": "5ecb5455-676e-4cf2-875d-6a5d797621ae",
   "metadata": {},
   "outputs": [],
   "source": [
    "def slice(start,end):\n",
    "    return t1[start:end+1]\n"
   ]
  },
  {
   "cell_type": "code",
   "execution_count": 52,
   "id": "07015ebd-a251-4140-a317-937834225136",
   "metadata": {},
   "outputs": [
    {
     "data": {
      "text/plain": [
       "('Kind', 'low', 60, '900', 9)"
      ]
     },
     "execution_count": 52,
     "metadata": {},
     "output_type": "execute_result"
    }
   ],
   "source": [
    "slice(3,7)"
   ]
  },
  {
   "cell_type": "markdown",
   "id": "631d8c77-168f-4f35-a979-710b1c46bfcb",
   "metadata": {},
   "source": [
    "21. Find the maximum value in a tuple.\n",
    "22. Find the minimum value in a tuple."
   ]
  },
  {
   "cell_type": "code",
   "execution_count": 53,
   "id": "4fe61378-584a-4755-a1fa-951b948c47a7",
   "metadata": {},
   "outputs": [],
   "source": [
    "tX = (900,1000,1001,1002,9,10,1,0,-80,-100)"
   ]
  },
  {
   "cell_type": "code",
   "execution_count": 54,
   "id": "4342b2a7-d627-4114-9ac4-e098378827d2",
   "metadata": {},
   "outputs": [
    {
     "data": {
      "text/plain": [
       "1002"
      ]
     },
     "execution_count": 54,
     "metadata": {},
     "output_type": "execute_result"
    }
   ],
   "source": [
    "max(tX)"
   ]
  },
  {
   "cell_type": "code",
   "execution_count": 55,
   "id": "0ea7e0e1-7b1b-4fa7-b38d-f5e7fda108b6",
   "metadata": {},
   "outputs": [
    {
     "data": {
      "text/plain": [
       "-100"
      ]
     },
     "execution_count": 55,
     "metadata": {},
     "output_type": "execute_result"
    }
   ],
   "source": [
    "min(tX)"
   ]
  },
  {
   "cell_type": "markdown",
   "id": "1e800a6a-cc23-49ec-93e0-3060091ecd9a",
   "metadata": {},
   "source": [
    "23. Convert a string to a tuple of characters."
   ]
  },
  {
   "cell_type": "code",
   "execution_count": 56,
   "id": "a1653af9-a7a0-4ea6-a8fe-b26a78e2f5ab",
   "metadata": {},
   "outputs": [],
   "source": [
    "string= \"celebrations\""
   ]
  },
  {
   "cell_type": "code",
   "execution_count": 57,
   "id": "9432e2f7-6d55-4afa-80ff-9d9d781608ae",
   "metadata": {},
   "outputs": [
    {
     "data": {
      "text/plain": [
       "('c', 'e', 'l', 'e', 'b', 'r', 'a', 't', 'i', 'o', 'n', 's')"
      ]
     },
     "execution_count": 57,
     "metadata": {},
     "output_type": "execute_result"
    }
   ],
   "source": [
    "t3= tuple(string)\n",
    "t3"
   ]
  },
  {
   "cell_type": "markdown",
   "id": "cff55b16-a1bf-4003-ab72-8b8be3259509",
   "metadata": {},
   "source": [
    "24. Convert a tuple of characters to a string."
   ]
  },
  {
   "cell_type": "code",
   "execution_count": 58,
   "id": "0dbfb415-c942-4fa4-80e0-2b2eb6a35fcc",
   "metadata": {},
   "outputs": [
    {
     "data": {
      "text/plain": [
       "('c', 'e', 'l', 'e', 'b', 'r', 'a', 't', 'i', 'o', 'n', 's')"
      ]
     },
     "execution_count": 58,
     "metadata": {},
     "output_type": "execute_result"
    }
   ],
   "source": [
    "t3"
   ]
  },
  {
   "cell_type": "code",
   "execution_count": 59,
   "id": "374fe2e4-050a-4c24-a71f-8ba858b86971",
   "metadata": {},
   "outputs": [
    {
     "name": "stdout",
     "output_type": "stream",
     "text": [
      "Converting tuple t3 to string: celebrations\n"
     ]
    }
   ],
   "source": [
    "str1 = \"\"\n",
    "for i in t3:\n",
    "    str1 = str1 + i\n",
    "print(\"Converting tuple t3 to string:\",str1)"
   ]
  },
  {
   "cell_type": "markdown",
   "id": "6379c7d8-b031-41f3-b37e-25b7066bcd71",
   "metadata": {},
   "source": [
    "25. Create a tuple from multiple data types."
   ]
  },
  {
   "cell_type": "code",
   "execution_count": 60,
   "id": "da94c762-1501-4a8f-9c6a-8b0f01b45372",
   "metadata": {},
   "outputs": [],
   "source": [
    "data_int=20,30\n",
    "data_boolean = True, False\n",
    "string = \"python\"\n",
    "set1 = {\"apple\", \"orange\", 900,}\n",
    "tuple1 = (9,4,\"paper\")\n",
    "list1= [6,2]"
   ]
  },
  {
   "cell_type": "code",
   "execution_count": 61,
   "id": "ec74e94c-b6a9-4f1e-9542-8cbfe334240a",
   "metadata": {},
   "outputs": [],
   "source": [
    "tuple2 = data_int + data_boolean + tuple1 "
   ]
  },
  {
   "cell_type": "code",
   "execution_count": 62,
   "id": "e41dd424-fa12-4e68-aa40-12c9a0bd6d4a",
   "metadata": {},
   "outputs": [
    {
     "data": {
      "text/plain": [
       "(20, 30, True, False, 9, 4, 'paper')"
      ]
     },
     "execution_count": 62,
     "metadata": {},
     "output_type": "execute_result"
    }
   ],
   "source": [
    "tuple2"
   ]
  },
  {
   "cell_type": "code",
   "execution_count": 63,
   "id": "072773d6-e679-4460-b6ee-493bac223e2b",
   "metadata": {},
   "outputs": [
    {
     "data": {
      "text/plain": [
       "tuple"
      ]
     },
     "execution_count": 63,
     "metadata": {},
     "output_type": "execute_result"
    }
   ],
   "source": [
    "type(tuple2)"
   ]
  },
  {
   "cell_type": "markdown",
   "id": "6200c8da-3708-4459-819d-c98f2d99f36f",
   "metadata": {},
   "source": [
    "26. Check if two tuples are identical."
   ]
  },
  {
   "cell_type": "code",
   "execution_count": 64,
   "id": "5d446ad2-db41-41ca-ad1a-66ec8942e7c8",
   "metadata": {},
   "outputs": [],
   "source": [
    "t1= (4,5,7)\n",
    "t2 =(9,4,6)\n",
    "t3 =(9,4,6)"
   ]
  },
  {
   "cell_type": "code",
   "execution_count": 65,
   "id": "4a172466-0329-460a-9920-3d0001f8894e",
   "metadata": {},
   "outputs": [],
   "source": [
    "def same(ta,tb):\n",
    "    if ta == tb:\n",
    "        print(ta, \"and\", tb, \"are IDENTICAL\")\n",
    "    else:\n",
    "        print(ta, \"and\", tb ,\"are NOT IDENTICAL\")"
   ]
  },
  {
   "cell_type": "code",
   "execution_count": 66,
   "id": "26bfa957-b126-4cef-955a-25d3cc41ee2b",
   "metadata": {},
   "outputs": [
    {
     "name": "stdout",
     "output_type": "stream",
     "text": [
      "(4, 5, 7) and (9, 4, 6) are NOT IDENTICAL\n",
      "(9, 4, 6) and (9, 4, 6) are IDENTICAL\n",
      "(4, 5, 7) and (9, 4, 6) are NOT IDENTICAL\n"
     ]
    }
   ],
   "source": [
    "same(t1,t2)\n",
    "same(t2,t3)\n",
    "same(t1,t3)"
   ]
  },
  {
   "cell_type": "markdown",
   "id": "4b2bdba8-0dbf-40b2-9c07-7c10d988873a",
   "metadata": {},
   "source": [
    "27. Sort the elements of a tuple."
   ]
  },
  {
   "cell_type": "code",
   "execution_count": 67,
   "id": "bc275016-dff0-4151-a820-1074077885e6",
   "metadata": {},
   "outputs": [
    {
     "data": {
      "text/plain": [
       "(900, 1000, 1001, 1002, 9, 10, 1, 0, -80, -100)"
      ]
     },
     "execution_count": 67,
     "metadata": {},
     "output_type": "execute_result"
    }
   ],
   "source": [
    "tX"
   ]
  },
  {
   "cell_type": "code",
   "execution_count": 68,
   "id": "606fa77d-d842-41cd-8e6c-e8c647b22fdf",
   "metadata": {},
   "outputs": [
    {
     "name": "stdout",
     "output_type": "stream",
     "text": [
      "Sorted Tuple in Ascending order [-100, -80, 0, 1, 9, 10, 900, 1000, 1001, 1002]\n",
      "Sorted Tuple in Descending Order [1002, 1001, 1000, 900, 10, 9, 1, 0, -80, -100]\n"
     ]
    }
   ],
   "source": [
    "print(\"Sorted Tuple in Ascending order\",sorted(tX))\n",
    "print(\"Sorted Tuple in Descending Order\", sorted(tX, reverse=True))"
   ]
  },
  {
   "cell_type": "markdown",
   "id": "4c7c3aa3-6741-41bf-9e19-55972c7fc19f",
   "metadata": {},
   "source": [
    "28. Convert a tuple of integers to a tuple of strings.\n"
   ]
  },
  {
   "cell_type": "code",
   "execution_count": 80,
   "id": "51dbdcce-37a3-4fad-b034-3a494894ffba",
   "metadata": {},
   "outputs": [
    {
     "data": {
      "text/plain": [
       "(900, 1000, 1001, 1002, 9, 10, 1, 0, -80, -100)"
      ]
     },
     "execution_count": 80,
     "metadata": {},
     "output_type": "execute_result"
    }
   ],
   "source": [
    "tX"
   ]
  },
  {
   "cell_type": "code",
   "execution_count": 95,
   "id": "587e7b2c-f0ef-406a-a443-23fd5194ee73",
   "metadata": {},
   "outputs": [
    {
     "data": {
      "text/plain": [
       "('900', '1000', '1001', '1002', '9', '10', '1', '0', '-80', '-100')"
      ]
     },
     "execution_count": 95,
     "metadata": {},
     "output_type": "execute_result"
    }
   ],
   "source": [
    "tup2 =tuple(str(i) for i in tX)\n",
    "tup2\n"
   ]
  },
  {
   "cell_type": "code",
   "execution_count": 96,
   "id": "6d7f98bc-783b-4b25-9265-7233ffeef4f0",
   "metadata": {},
   "outputs": [
    {
     "data": {
      "text/plain": [
       "str"
      ]
     },
     "execution_count": 96,
     "metadata": {},
     "output_type": "execute_result"
    }
   ],
   "source": [
    "type(tup2[0])"
   ]
  },
  {
   "cell_type": "markdown",
   "id": "29bba94d-6f11-438f-ada6-7b882f0c39fa",
   "metadata": {},
   "source": [
    "29. Convert a tuple of strings to a tuple of integers.\n"
   ]
  },
  {
   "cell_type": "code",
   "execution_count": 97,
   "id": "bacb321e-0cb0-4a64-bad6-fb8b2d04c52d",
   "metadata": {},
   "outputs": [],
   "source": [
    "t_str= (\"45\", \"900\",\"-656\",\"3\")"
   ]
  },
  {
   "cell_type": "code",
   "execution_count": 104,
   "id": "782ddbe5-6c60-4601-a7ce-3685de79ddec",
   "metadata": {},
   "outputs": [
    {
     "data": {
      "text/plain": [
       "(45, 900, -656, 3)"
      ]
     },
     "execution_count": 104,
     "metadata": {},
     "output_type": "execute_result"
    }
   ],
   "source": [
    "tup3 = tuple(int(i) for i in t_str)\n",
    "tup3"
   ]
  },
  {
   "cell_type": "code",
   "execution_count": 101,
   "id": "e26e5f7c-697d-49a2-b4a4-106c0e663cbd",
   "metadata": {},
   "outputs": [
    {
     "data": {
      "text/plain": [
       "int"
      ]
     },
     "execution_count": 101,
     "metadata": {},
     "output_type": "execute_result"
    }
   ],
   "source": [
    "type(tup3[3])"
   ]
  },
  {
   "cell_type": "markdown",
   "id": "73a743a7-94cc-4a4b-8389-b16eccb5723d",
   "metadata": {},
   "source": [
    "\n",
    "\n",
    "30. Merge two tuples.\n",
    "\n"
   ]
  },
  {
   "cell_type": "code",
   "execution_count": 105,
   "id": "db69f129-3709-423a-8843-b122b7d5be0d",
   "metadata": {},
   "outputs": [
    {
     "data": {
      "text/plain": [
       "('900',\n",
       " '1000',\n",
       " '1001',\n",
       " '1002',\n",
       " '9',\n",
       " '10',\n",
       " '1',\n",
       " '0',\n",
       " '-80',\n",
       " '-100',\n",
       " 45,\n",
       " 900,\n",
       " -656,\n",
       " 3)"
      ]
     },
     "execution_count": 105,
     "metadata": {},
     "output_type": "execute_result"
    }
   ],
   "source": [
    "tup4 = tup2 +tup3\n",
    "tup4"
   ]
  },
  {
   "cell_type": "code",
   "execution_count": 109,
   "id": "87ee9895-682c-4910-bd4e-aa3f587cadb3",
   "metadata": {},
   "outputs": [
    {
     "name": "stdout",
     "output_type": "stream",
     "text": [
      "Merging two tuples (4, 5, 7) and (9, 4, 6) The merged tuple is: (4, 5, 7, 9, 4, 6)\n"
     ]
    }
   ],
   "source": [
    "print(\"Merging two tuples\",t1, \"and\", t2, \"The merged tuple is:\", t1+t2)"
   ]
  },
  {
   "cell_type": "markdown",
   "id": "5c00ba63-6c07-4795-addc-b86755ab5f05",
   "metadata": {},
   "source": [
    "31. Flatten a nested tuple."
   ]
  },
  {
   "cell_type": "code",
   "execution_count": 1,
   "id": "d7fcc1e9-4887-4a54-9c7a-735d7779e00c",
   "metadata": {},
   "outputs": [],
   "source": [
    "nested_tup  = ((1, 2), (3, 4), (5,9))\n",
    "list2 = []\n",
    "for t in nested_tup:\n",
    "    list2 = list2 + list(t)"
   ]
  },
  {
   "cell_type": "code",
   "execution_count": 85,
   "id": "7bcb98f9-fde9-47a4-8615-f507bed03152",
   "metadata": {},
   "outputs": [
    {
     "data": {
      "text/plain": [
       "[1, 2, 3, 4, 5, 9]"
      ]
     },
     "execution_count": 85,
     "metadata": {},
     "output_type": "execute_result"
    }
   ],
   "source": [
    "list2"
   ]
  },
  {
   "cell_type": "code",
   "execution_count": 5,
   "id": "03b4bbcb-dbb9-4926-9d43-827fd1af0977",
   "metadata": {},
   "outputs": [
    {
     "data": {
      "text/plain": [
       "(1, 2, 3, 4, 5, 9)"
      ]
     },
     "execution_count": 5,
     "metadata": {},
     "output_type": "execute_result"
    }
   ],
   "source": [
    "tuple(i for i in list2)"
   ]
  },
  {
   "cell_type": "markdown",
   "id": "0f9f3219-7fda-45e1-9eb8-a60e1a71f7a7",
   "metadata": {},
   "source": [
    "\n",
    "32. Create a tuple of the first 5 prime numbers.\n",
    "\n",
    "\n",
    "\n"
   ]
  },
  {
   "cell_type": "code",
   "execution_count": 2,
   "id": "731280a1-b836-4675-8237-68b6b1c888e5",
   "metadata": {},
   "outputs": [
    {
     "data": {
      "text/plain": [
       "[2, 3, 5]"
      ]
     },
     "execution_count": 2,
     "metadata": {},
     "output_type": "execute_result"
    }
   ],
   "source": [
    "prime = []\n",
    "for i in range(2,6):\n",
    "    for j in range(2,6):\n",
    "        if i%j == 0:\n",
    "            break\n",
    "    if i == j:\n",
    "        prime.append(i)\n",
    "prime"
   ]
  },
  {
   "cell_type": "code",
   "execution_count": 4,
   "id": "b32c6aee-d4bf-447c-b320-0b3674e98532",
   "metadata": {},
   "outputs": [
    {
     "data": {
      "text/plain": [
       "(2, 3, 5)"
      ]
     },
     "execution_count": 4,
     "metadata": {},
     "output_type": "execute_result"
    }
   ],
   "source": [
    "tuple(i for i in prime)"
   ]
  },
  {
   "cell_type": "markdown",
   "id": "a19811de-5745-41b1-8d4a-94ac988c09b0",
   "metadata": {},
   "source": [
    "\n",
    "33. Check if a tuple is a palindrome.\n"
   ]
  },
  {
   "cell_type": "code",
   "execution_count": 143,
   "id": "b522ce4e-68ca-4e1c-ab85-7b516e577edc",
   "metadata": {},
   "outputs": [],
   "source": [
    "tup1 = (\"level\")\n",
    "tup2 = (\"horse\")"
   ]
  },
  {
   "cell_type": "code",
   "execution_count": 144,
   "id": "d18f42ca-cdd4-49a1-b365-1b3035d252b9",
   "metadata": {},
   "outputs": [],
   "source": [
    "def palindrome(tup):\n",
    "    if tup[0] == tup[-1]:\n",
    "        print(tup, \"IS PALINDROME\")\n",
    "    else:\n",
    "        print(tup, \"ISNT PALINDROME\")"
   ]
  },
  {
   "cell_type": "code",
   "execution_count": 145,
   "id": "bb8627f1-a49e-47fa-8df1-97a904dcfeb6",
   "metadata": {},
   "outputs": [
    {
     "name": "stdout",
     "output_type": "stream",
     "text": [
      "level IS PALINDROME\n"
     ]
    }
   ],
   "source": [
    "palindrome(tup1)"
   ]
  },
  {
   "cell_type": "code",
   "execution_count": 146,
   "id": "e4c98ef1-bbfb-43a4-9ebf-2ffa15a14b3b",
   "metadata": {},
   "outputs": [
    {
     "name": "stdout",
     "output_type": "stream",
     "text": [
      "horse ISNT PALINDROME\n"
     ]
    }
   ],
   "source": [
    "palindrome(tup2)"
   ]
  },
  {
   "cell_type": "code",
   "execution_count": 147,
   "id": "dfc8e1a0-ffb0-4c3c-b6db-53c983acdbd1",
   "metadata": {},
   "outputs": [
    {
     "name": "stdout",
     "output_type": "stream",
     "text": [
      "coilioc IS PALINDROME\n"
     ]
    }
   ],
   "source": [
    "palindrome(\"coilioc\")"
   ]
  },
  {
   "cell_type": "markdown",
   "id": "db53e5e6-0e86-4272-a900-9dffc8ee0a03",
   "metadata": {},
   "source": [
    "\n",
    "\n",
    "34. Create a tuple of squares of numbers from 1 to 5.\n",
    "\n"
   ]
  },
  {
   "cell_type": "code",
   "execution_count": 7,
   "id": "68f86ae4-f36e-4467-bac0-5ecd9bb869eb",
   "metadata": {},
   "outputs": [
    {
     "data": {
      "text/plain": [
       "(1, 4, 9, 16, 25)"
      ]
     },
     "execution_count": 7,
     "metadata": {},
     "output_type": "execute_result"
    }
   ],
   "source": [
    "tuple(i*i for i in range(1,6))\n"
   ]
  },
  {
   "cell_type": "markdown",
   "id": "7d1d572f-0986-4eef-8c09-8700ce5e8500",
   "metadata": {},
   "source": [
    "\n",
    "\n",
    "35. Filter out all even numbers from a tuple.\n",
    "\n"
   ]
  },
  {
   "cell_type": "code",
   "execution_count": 8,
   "id": "1fffe42d-99d3-4ed1-bcb7-facfff258865",
   "metadata": {},
   "outputs": [],
   "source": [
    "t8= (13,46,89,12,5,6,90,46,27,18,7)"
   ]
  },
  {
   "cell_type": "code",
   "execution_count": 9,
   "id": "d823cc55-8c3a-4301-a2d8-86184d6838ed",
   "metadata": {},
   "outputs": [
    {
     "name": "stdout",
     "output_type": "stream",
     "text": [
      "Filtering out all even numbers from a tuple. (13, 46, 89, 12, 5, 6, 90, 46, 27, 18, 7) the output tuple is: (13, 89, 5, 27, 7)\n"
     ]
    }
   ],
   "source": [
    "print(\"Filtering out all even numbers from a tuple.\",t8, \"the output tuple is:\",tuple( i for i in t8 if i%2 !=0))"
   ]
  },
  {
   "cell_type": "markdown",
   "id": "44cce8a7-e35c-49c2-b2e3-b950738b178c",
   "metadata": {},
   "source": [
    "\n",
    "\n",
    "36. Multiply all elements in a tuple by 2."
   ]
  },
  {
   "cell_type": "code",
   "execution_count": 14,
   "id": "570a23d6-8349-454f-891f-81772e360e1a",
   "metadata": {},
   "outputs": [],
   "source": [
    "t5 = (3,6,9,1,0,-8,18,90)"
   ]
  },
  {
   "cell_type": "code",
   "execution_count": 56,
   "id": "562d09e1-56d2-42d5-97a2-30782176cad5",
   "metadata": {},
   "outputs": [
    {
     "name": "stdout",
     "output_type": "stream",
     "text": [
      "Multiplying all elements in a tuple (3, 6, 9, 1, 0, -8, 18, 90) by 2. The output tuple is: (6, 12, 18, 2, 0, -16, 36, 180)\n"
     ]
    }
   ],
   "source": [
    "print(\"Multiplying all elements in a tuple\",t5, \"by 2. The output tuple is:\",tuple(i*2 for i in t5))"
   ]
  },
  {
   "cell_type": "markdown",
   "id": "44fa78dd-50f3-405e-9a3a-95196ebd065c",
   "metadata": {},
   "source": [
    "37. Create a tuple of random numbers.\n",
    "\n"
   ]
  },
  {
   "cell_type": "code",
   "execution_count": 82,
   "id": "e28f35f3-ad98-4d71-a8b8-c96bfd55a794",
   "metadata": {},
   "outputs": [
    {
     "name": "stdout",
     "output_type": "stream",
     "text": [
      "A tuple with 9 random numbers between 2 to 9 (2, 8, 8, 6, 2, 8, 3, 7, 5)\n"
     ]
    }
   ],
   "source": [
    "import random\n",
    "list1 =[]\n",
    "\n",
    "for i in range(0,9):\n",
    "    list1.append(random.randint(2,10))\n",
    "print(\"A tuple with 9 random numbers between 2 to 9\",tuple(list1))"
   ]
  },
  {
   "cell_type": "markdown",
   "id": "2c561edb-729f-4da7-a080-2114088c606c",
   "metadata": {},
   "source": [
    "\n",
    "38. Check if a tuple is sorted.\n"
   ]
  },
  {
   "cell_type": "code",
   "execution_count": 86,
   "id": "a2f560aa-31e1-4bcc-b300-4faa1cc345f6",
   "metadata": {},
   "outputs": [],
   "source": [
    "t1 = (2,4,6,8,9)\n",
    "t2 = (18,12,5,7,8)"
   ]
  },
  {
   "cell_type": "code",
   "execution_count": 88,
   "id": "26d14f3c-9d06-467b-bf93-502d2761db53",
   "metadata": {},
   "outputs": [
    {
     "data": {
      "text/plain": [
       "(5, 7, 8, 12, 18)"
      ]
     },
     "execution_count": 88,
     "metadata": {},
     "output_type": "execute_result"
    }
   ],
   "source": [
    "tuple(set(t2))"
   ]
  },
  {
   "cell_type": "code",
   "execution_count": 89,
   "id": "edcc6e83-e94f-4715-8850-9075a7327f84",
   "metadata": {},
   "outputs": [],
   "source": [
    "def sort_tup(t):\n",
    "    if tuple(set(t)) == t:\n",
    "        print(t,\"is sorted\")\n",
    "    else:\n",
    "        print(t, \"isnt sorted\")\n",
    "    "
   ]
  },
  {
   "cell_type": "code",
   "execution_count": 90,
   "id": "89a8dcdb-18ed-45b9-84ac-76d9c20a1ead",
   "metadata": {},
   "outputs": [
    {
     "name": "stdout",
     "output_type": "stream",
     "text": [
      "(2, 4, 6, 8, 9) is sorted\n"
     ]
    }
   ],
   "source": [
    "sort_tup(t1)"
   ]
  },
  {
   "cell_type": "code",
   "execution_count": 91,
   "id": "50cc724c-91b6-4fff-9cf4-44b627cbce6c",
   "metadata": {},
   "outputs": [
    {
     "name": "stdout",
     "output_type": "stream",
     "text": [
      "(18, 12, 5, 7, 8) isnt sorted\n"
     ]
    }
   ],
   "source": [
    "sort_tup(t2)"
   ]
  },
  {
   "cell_type": "code",
   "execution_count": 93,
   "id": "f85f3aa9-2fcb-4f72-9df8-1202b60ef960",
   "metadata": {},
   "outputs": [
    {
     "name": "stdout",
     "output_type": "stream",
     "text": [
      "(3, 6, 9, 1, 0, -8, 18, 90) isnt sorted\n"
     ]
    }
   ],
   "source": [
    "sort_tup(t5)"
   ]
  },
  {
   "cell_type": "code",
   "execution_count": 116,
   "id": "9a6952c1-84c4-4288-80a2-5447f3c2719e",
   "metadata": {},
   "outputs": [
    {
     "name": "stdout",
     "output_type": "stream",
     "text": [
      "Not Sorted\n"
     ]
    }
   ],
   "source": [
    "if t2 == tuple(sorted(t2)):\n",
    "    print(\"Sorted\")\n",
    "else:\n",
    "    print(\"Not Sorted\")"
   ]
  },
  {
   "cell_type": "markdown",
   "id": "e6b7e00c-858b-4f10-8729-5a58f098e02f",
   "metadata": {},
   "source": [
    "\n",
    "39. Rotate a tuple to the left by `n` positions.\n"
   ]
  },
  {
   "cell_type": "code",
   "execution_count": 16,
   "id": "21d74c6e-5f0d-4854-ac7e-4a31b9af7c5c",
   "metadata": {},
   "outputs": [
    {
     "data": {
      "text/plain": [
       "(3, 6, 9, 1, 0, -8, 18, 90)"
      ]
     },
     "execution_count": 16,
     "metadata": {},
     "output_type": "execute_result"
    }
   ],
   "source": [
    "t5 "
   ]
  },
  {
   "cell_type": "code",
   "execution_count": 19,
   "id": "b9afdf78-aa88-446e-9ae6-101224209e18",
   "metadata": {},
   "outputs": [
    {
     "name": "stdout",
     "output_type": "stream",
     "text": [
      "After rotating tuple by 3 positions (1, 0, -8, 18, 90, 3, 6, 9)\n"
     ]
    }
   ],
   "source": [
    "print(\"After rotating tuple to the left by 3 positions\",t5[3:] + t5[:3])"
   ]
  },
  {
   "cell_type": "markdown",
   "id": "967e7851-32e3-4681-9a80-33a4098b2bd4",
   "metadata": {},
   "source": [
    "\n",
    "40. Rotate a tuple to the right by `n` positions.\n"
   ]
  },
  {
   "cell_type": "code",
   "execution_count": 24,
   "id": "c5869927-0c4c-4b10-b83e-67529a1b6e2f",
   "metadata": {},
   "outputs": [
    {
     "name": "stdout",
     "output_type": "stream",
     "text": [
      "After rotating tuple to the right by 5 position (1, 0, -8, 18, 90, 3, 6, 9)\n"
     ]
    }
   ],
   "source": [
    "print(\"After rotating tuple to the right by 5 position\", t5[-5:]+ t5[:-5])"
   ]
  },
  {
   "cell_type": "markdown",
   "id": "9abcd2f5-ec20-4fa4-a37d-c9aeefccbc71",
   "metadata": {},
   "source": [
    "\n",
    "41. Create a tuple of the first 5 Fibonacci numbers.\n"
   ]
  },
  {
   "cell_type": "code",
   "execution_count": 31,
   "id": "6bb0dbde-f50e-4e87-8c79-1d4c6615fffd",
   "metadata": {},
   "outputs": [
    {
     "name": "stdout",
     "output_type": "stream",
     "text": [
      "List of  first 5 Fibonacci numbers [0, 1, 1, 2, 3, 5, 8, 13, 21, 34]\n",
      "Tuple of first 5 Fibonacci numbers (0, 1, 1, 2, 3, 5, 8, 13, 21, 34)\n"
     ]
    }
   ],
   "source": [
    "fib_list = [0,1]\n",
    "for i in range(0,8):\n",
    "    fib_list.append(fib_list[i]+fib_list[i+1])\n",
    "print(\"List of  first 5 Fibonacci numbers\",fib_list)\n",
    "fib_tuple = tuple(fib_list)\n",
    "print(\"Tuple of first 5 Fibonacci numbers\",fib_tuple)"
   ]
  },
  {
   "cell_type": "markdown",
   "id": "f98b4b89-d184-40fc-9755-4d54328cec26",
   "metadata": {},
   "source": [
    "\n",
    "42. Create a tuple from user input.\n"
   ]
  },
  {
   "cell_type": "code",
   "execution_count": 38,
   "id": "97839a0f-386f-49d8-afb3-445a1763b46b",
   "metadata": {},
   "outputs": [
    {
     "name": "stdin",
     "output_type": "stream",
     "text": [
      " atm089\n"
     ]
    }
   ],
   "source": [
    "user_input = input()"
   ]
  },
  {
   "cell_type": "code",
   "execution_count": 39,
   "id": "49b7d4bb-0120-4418-9477-1d94490dc0a1",
   "metadata": {},
   "outputs": [
    {
     "data": {
      "text/plain": [
       "'atm089'"
      ]
     },
     "execution_count": 39,
     "metadata": {},
     "output_type": "execute_result"
    }
   ],
   "source": [
    "user_input"
   ]
  },
  {
   "cell_type": "code",
   "execution_count": 40,
   "id": "facce815-1a24-410a-a84a-105647c6cfc5",
   "metadata": {},
   "outputs": [
    {
     "data": {
      "text/plain": [
       "str"
      ]
     },
     "execution_count": 40,
     "metadata": {},
     "output_type": "execute_result"
    }
   ],
   "source": [
    "type(user_input)"
   ]
  },
  {
   "cell_type": "code",
   "execution_count": 46,
   "id": "edd61d1f-9cf9-4362-a4b3-af80d172e852",
   "metadata": {},
   "outputs": [
    {
     "name": "stdout",
     "output_type": "stream",
     "text": [
      "['a', 't', 'm', '0', '8', '9']\n",
      "Tuple from user input is: ('a', 't', 'm', '0', '8', '9')\n"
     ]
    }
   ],
   "source": [
    "list2=[]\n",
    "for ele in user_input:\n",
    "    list2.append(ele)\n",
    "print(list2)\n",
    "user_tuple = tuple(list2)\n",
    "print(\"Tuple from user input is:\",user_tuple)\n"
   ]
  },
  {
   "cell_type": "code",
   "execution_count": 45,
   "id": "aec3826c-dcdb-4767-bc31-46ed672ae915",
   "metadata": {},
   "outputs": [
    {
     "data": {
      "text/plain": [
       "tuple"
      ]
     },
     "execution_count": 45,
     "metadata": {},
     "output_type": "execute_result"
    }
   ],
   "source": [
    "type(user_tuple)"
   ]
  },
  {
   "cell_type": "markdown",
   "id": "2b591620-60f3-494f-9082-432d7971ed0c",
   "metadata": {},
   "source": [
    "\n",
    "43. Swap two elements in a tuple.\n"
   ]
  },
  {
   "cell_type": "code",
   "execution_count": 63,
   "id": "ba07b6f1-99c0-4e9b-8277-3fd7bbd2ffd8",
   "metadata": {},
   "outputs": [
    {
     "data": {
      "text/plain": [
       "(3, 6, 9, 1, 0, -8, 18, 90)"
      ]
     },
     "execution_count": 63,
     "metadata": {},
     "output_type": "execute_result"
    }
   ],
   "source": [
    "t5"
   ]
  },
  {
   "cell_type": "code",
   "execution_count": 64,
   "id": "45d01bf2-1814-4e25-ad25-80b38dfc9f8b",
   "metadata": {},
   "outputs": [],
   "source": [
    "#Convert the tuple into a list\n",
    "#Swap the elements of the list\n",
    "#Then convert it back to a tuple\n",
    "\n",
    "\n",
    "list5 = list(t5)\n",
    "def swap_elements(index1,index2):\n",
    "    list5[index1],list5[index2] = list5[index2],list5[index1]\n",
    "    #print(list5)\n",
    "    print(\"After Swaping two elements in a tuple with indexes\",index1,index2, \"the swaped tuple is:\", tuple(list5))"
   ]
  },
  {
   "cell_type": "code",
   "execution_count": 66,
   "id": "0f14b3bd-5d86-46af-b651-bf5de9f79eac",
   "metadata": {},
   "outputs": [
    {
     "name": "stdout",
     "output_type": "stream",
     "text": [
      "After Swaping two elements in a tuple with indexes 4 6 the swaped tuple is: (3, 9, 6, 1, 18, -8, 0, 90)\n"
     ]
    }
   ],
   "source": [
    "swap_elements(4,6)"
   ]
  },
  {
   "cell_type": "markdown",
   "id": "9edf7230-5c5f-4413-bec0-61db24641715",
   "metadata": {},
   "source": [
    "\n",
    "44. Reverse the elements of a tuple.\n"
   ]
  },
  {
   "cell_type": "code",
   "execution_count": 67,
   "id": "a0dface4-4705-46dc-9b09-fadcc8b6d0d3",
   "metadata": {},
   "outputs": [
    {
     "data": {
      "text/plain": [
       "(3, 6, 9, 1, 0, -8, 18, 90)"
      ]
     },
     "execution_count": 67,
     "metadata": {},
     "output_type": "execute_result"
    }
   ],
   "source": [
    "t5"
   ]
  },
  {
   "cell_type": "code",
   "execution_count": 71,
   "id": "1fa09446-0eca-489b-adbc-2d375e83b151",
   "metadata": {},
   "outputs": [
    {
     "name": "stdout",
     "output_type": "stream",
     "text": [
      "After Reversing the elements of a tuple (3, 6, 9, 1, 0, -8, 18, 90) The reversed tuple is: (90, 18, -8, 0, 1, 9, 6, 3)\n"
     ]
    }
   ],
   "source": [
    "print(\"After Reversing the elements of a tuple\", t5, \"The reversed tuple is:\",t5[::-1])"
   ]
  },
  {
   "cell_type": "markdown",
   "id": "5d9b5cd3-0d11-406f-8e43-abdd3ebcaa25",
   "metadata": {},
   "source": [
    "\n",
    "45. Create a tuple of the first `n` powers of 2.\n"
   ]
  },
  {
   "cell_type": "code",
   "execution_count": 74,
   "id": "a36d3363-3823-42b0-8f4a-8caf90cf7368",
   "metadata": {},
   "outputs": [
    {
     "data": {
      "text/plain": [
       "(1, 2, 4, 8, 16, 32, 64, 128, 256, 512)"
      ]
     },
     "execution_count": 74,
     "metadata": {},
     "output_type": "execute_result"
    }
   ],
   "source": [
    "tuple(2**n for n in range(0,10))"
   ]
  },
  {
   "cell_type": "markdown",
   "id": "b7dde36b-c13a-4e7f-a1fa-cd5fa5297a24",
   "metadata": {},
   "source": [
    "\n",
    "46. Find the longest string in a tuple of strings.\n"
   ]
  },
  {
   "cell_type": "code",
   "execution_count": 95,
   "id": "e637ad83-92d4-438a-924b-be68deb5f334",
   "metadata": {},
   "outputs": [],
   "source": [
    "t = (\"strong\", \"heavy\",\"good\", \"popular\",\"sam\",\"hyperbola\")"
   ]
  },
  {
   "cell_type": "code",
   "execution_count": 98,
   "id": "0f953385-a871-4f37-a7f7-2a52f407927d",
   "metadata": {},
   "outputs": [
    {
     "name": "stdout",
     "output_type": "stream",
     "text": [
      "The Longest string in a tuple of strings is  hyperbola with a length of 9\n"
     ]
    }
   ],
   "source": [
    "longest_string = \"\"\n",
    "length = 0\n",
    "for ele in t:\n",
    "    if (len(ele)> length):\n",
    "        length = len(ele)\n",
    "        longest_string = ele\n",
    "print(\"The Longest string in a tuple of strings is \",longest_string,\"with a length of\", length)"
   ]
  },
  {
   "cell_type": "markdown",
   "id": "7811dab6-fca4-4c48-8886-27a5f7c78a37",
   "metadata": {},
   "source": [
    "47. Find the shortest string in a tuple of strings."
   ]
  },
  {
   "cell_type": "code",
   "execution_count": 99,
   "id": "21997880-63b4-42b5-9c02-a6b3a66d459a",
   "metadata": {},
   "outputs": [
    {
     "name": "stdout",
     "output_type": "stream",
     "text": [
      "The Shortest string in a tuple of strings is  sam with a length of 3\n"
     ]
    }
   ],
   "source": [
    "shortest_string = \"\"\n",
    "length = 100\n",
    "for ele in t:\n",
    "    if (len(ele)<length):\n",
    "        length = len(ele)\n",
    "        shortest_string = ele\n",
    "print(\"The Shortest string in a tuple of strings is \",shortest_string,\"with a length of\", length)"
   ]
  },
  {
   "cell_type": "markdown",
   "id": "85b890fd-127c-43f1-bf23-2bcf85659c04",
   "metadata": {},
   "source": [
    "48. Create a tuple of the first `n` triangular numbers.\n"
   ]
  },
  {
   "cell_type": "code",
   "execution_count": null,
   "id": "0c725f8f-74b5-42b6-a892-18dd97f2e769",
   "metadata": {},
   "outputs": [],
   "source": [
    "triangular_number = (1,3,10,15,21,28,36)"
   ]
  },
  {
   "cell_type": "code",
   "execution_count": 133,
   "id": "7ffd948c-4677-49f8-b27a-a86e41961f3b",
   "metadata": {},
   "outputs": [
    {
     "name": "stdout",
     "output_type": "stream",
     "text": [
      "Tuple with first 10 triangular numbers is: (1, 3, 6, 10, 15, 21, 28, 36, 45, 55)\n"
     ]
    }
   ],
   "source": [
    "def triangular_numbers(n):\n",
    "    tri_num = [0]\n",
    "    for i in range(1,n+1):\n",
    "        tri_num.append(int(tri_num[i-1])+int(i))\n",
    "    return(tuple(tri_num[1:]))\n",
    "n=10    \n",
    "print(\"Tuple with first\",n, \"triangular numbers is:\",triangular_numbers(n))\n",
    "  "
   ]
  },
  {
   "cell_type": "markdown",
   "id": "407a4ae3-fdfd-432d-b697-90d2e6f330e4",
   "metadata": {},
   "source": [
    "\n",
    "49. Check if a tuple contains another tuple as a subsequence.\n"
   ]
  },
  {
   "cell_type": "code",
   "execution_count": null,
   "id": "acf5465b-89c5-4d74-987c-e362212a396c",
   "metadata": {},
   "outputs": [],
   "source": []
  },
  {
   "cell_type": "code",
   "execution_count": null,
   "id": "abe2dcd3-b1a2-4ba7-841c-eac5a6ba48b1",
   "metadata": {},
   "outputs": [],
   "source": []
  },
  {
   "cell_type": "code",
   "execution_count": null,
   "id": "61de93aa-31a8-41cc-ac91-9e0cd556cb4a",
   "metadata": {},
   "outputs": [],
   "source": []
  },
  {
   "cell_type": "markdown",
   "id": "ed54f1fc-f242-4183-afcb-1ecf834b51b5",
   "metadata": {},
   "source": [
    "\n",
    "50. Create a tuple of alternating 1s and 0s of length `n`."
   ]
  },
  {
   "cell_type": "code",
   "execution_count": 138,
   "id": "56df16ba-956d-47b8-898a-6eca0f3f96bb",
   "metadata": {},
   "outputs": [
    {
     "data": {
      "text/plain": [
       "(1, 0, 1, 0, 1, 0, 1, 0, 1, 0)"
      ]
     },
     "execution_count": 138,
     "metadata": {},
     "output_type": "execute_result"
    }
   ],
   "source": [
    "def alt_tuple(n):\n",
    "    list4 =[]\n",
    "    for i in range(0,n):\n",
    "        if i%2 ==0:\n",
    "            list4.append(1)\n",
    "        else:\n",
    "            list4.append(0)\n",
    "    return tuple(list4)\n",
    "\n",
    "alt_tuple(10)\n",
    "        "
   ]
  },
  {
   "cell_type": "code",
   "execution_count": null,
   "id": "485b9a8f-fb69-4f41-86a1-105c4d77d996",
   "metadata": {},
   "outputs": [],
   "source": []
  },
  {
   "cell_type": "markdown",
   "id": "d53bb8b7-bd46-4b22-85d1-b4995acfdd28",
   "metadata": {},
   "source": [
    "1. Create a set with integers from 1 to 5.\n"
   ]
  },
  {
   "cell_type": "code",
   "execution_count": 1,
   "id": "c15f923d-3962-4492-88c7-29cdcf199b5a",
   "metadata": {},
   "outputs": [
    {
     "data": {
      "text/plain": [
       "{1, 2, 3, 4, 5}"
      ]
     },
     "execution_count": 1,
     "metadata": {},
     "output_type": "execute_result"
    }
   ],
   "source": [
    "set1 =set(range(1,6))\n",
    "set1"
   ]
  },
  {
   "cell_type": "markdown",
   "id": "5b7394ca-cd96-4cd6-ba74-6251f167791c",
   "metadata": {},
   "source": [
    "\n",
    "2. Add an element to a set.\n"
   ]
  },
  {
   "cell_type": "code",
   "execution_count": 2,
   "id": "cfa12ffa-7007-461d-858c-db204b656414",
   "metadata": {},
   "outputs": [],
   "source": [
    "set1.add(12)"
   ]
  },
  {
   "cell_type": "code",
   "execution_count": 3,
   "id": "ae55b71e-a1ed-4a10-a1f9-7990ea3d3ab2",
   "metadata": {},
   "outputs": [
    {
     "data": {
      "text/plain": [
       "{1, 2, 3, 4, 5, 12}"
      ]
     },
     "execution_count": 3,
     "metadata": {},
     "output_type": "execute_result"
    }
   ],
   "source": [
    "set1"
   ]
  },
  {
   "cell_type": "markdown",
   "id": "c06cd1bb-4ade-4cd8-9e72-9bd8e7fde022",
   "metadata": {},
   "source": [
    "\n",
    "3. Remove an element from a set.\n"
   ]
  },
  {
   "cell_type": "code",
   "execution_count": 4,
   "id": "77de43d0-594b-4c3b-9fbd-3387bd665d63",
   "metadata": {},
   "outputs": [
    {
     "data": {
      "text/plain": [
       "{1, 2, 3, 5, 12}"
      ]
     },
     "execution_count": 4,
     "metadata": {},
     "output_type": "execute_result"
    }
   ],
   "source": [
    "def remove_ele(n):\n",
    "    set1.remove(n)\n",
    "    return set1\n",
    "remove_ele(4)"
   ]
  },
  {
   "cell_type": "markdown",
   "id": "eef4b42b-c99c-4692-bd2b-b48980ba00c2",
   "metadata": {},
   "source": [
    "\n",
    "4. Check if an element exists in a set.\n"
   ]
  },
  {
   "cell_type": "code",
   "execution_count": 5,
   "id": "168d8201-a160-444b-b34e-091c77712c49",
   "metadata": {},
   "outputs": [],
   "source": [
    "def check_ele(element):\n",
    "    if element in set1:\n",
    "        print(\"Yes!!!\", element, \"exists in\", set1)\n",
    "    else:\n",
    "        print(\"No!!!\", element, \"doesnt exists in\", set1)"
   ]
  },
  {
   "cell_type": "code",
   "execution_count": 6,
   "id": "cbd071bb-1045-4190-b93a-67c97aa4ad88",
   "metadata": {},
   "outputs": [
    {
     "name": "stdout",
     "output_type": "stream",
     "text": [
      "Yes!!! 5 exists in {1, 2, 3, 5, 12}\n"
     ]
    }
   ],
   "source": [
    "check_ele(5)"
   ]
  },
  {
   "cell_type": "code",
   "execution_count": 7,
   "id": "970b5e67-a8e1-45c1-957d-7c3d04b2a0e6",
   "metadata": {},
   "outputs": [
    {
     "name": "stdout",
     "output_type": "stream",
     "text": [
      "No!!! 7 doesnt exists in {1, 2, 3, 5, 12}\n"
     ]
    }
   ],
   "source": [
    "check_ele(7)"
   ]
  },
  {
   "cell_type": "markdown",
   "id": "8d41cf61-90ab-42b3-8640-acd5f5dca513",
   "metadata": {},
   "source": [
    "\n",
    "5. Find the length of a set without using the `len()` function.\n"
   ]
  },
  {
   "cell_type": "code",
   "execution_count": 8,
   "id": "2a48992b-e492-4cf6-a4f8-18f807ff1847",
   "metadata": {},
   "outputs": [
    {
     "name": "stdout",
     "output_type": "stream",
     "text": [
      "length of set {1, 2, 3, 5, 12} is 5\n"
     ]
    }
   ],
   "source": [
    "count= 0\n",
    "for i in set1:\n",
    "    count = count+1\n",
    "print(\"length of set\",set1 , \"is\",count)"
   ]
  },
  {
   "cell_type": "markdown",
   "id": "ad0b6868-4fdc-4cfc-b4c5-a5a2c79dfb23",
   "metadata": {},
   "source": [
    "\n",
    "6. Clear all elements from a set.\n"
   ]
  },
  {
   "cell_type": "code",
   "execution_count": 9,
   "id": "af6f09e9-3aa5-4eaa-8052-1f9000fdbda4",
   "metadata": {},
   "outputs": [
    {
     "data": {
      "text/plain": [
       "set()"
      ]
     },
     "execution_count": 9,
     "metadata": {},
     "output_type": "execute_result"
    }
   ],
   "source": [
    "set1.clear()\n",
    "set1"
   ]
  },
  {
   "cell_type": "markdown",
   "id": "0109512b-8a8a-42cf-80dd-984f0a26f65f",
   "metadata": {},
   "source": [
    "\n",
    "7. Create a set of even numbers from 1 to 10.\n"
   ]
  },
  {
   "cell_type": "code",
   "execution_count": 16,
   "id": "58395300-3b99-4cd6-9516-85800a37c2d8",
   "metadata": {},
   "outputs": [
    {
     "data": {
      "text/plain": [
       "{2, 4, 6, 8, 10}"
      ]
     },
     "execution_count": 16,
     "metadata": {},
     "output_type": "execute_result"
    }
   ],
   "source": [
    "even_set={i  for i in range(1,11) if i%2==0}\n",
    "even_set"
   ]
  },
  {
   "cell_type": "code",
   "execution_count": 17,
   "id": "aadd728b-2e2e-4eee-9178-239674e9a20c",
   "metadata": {},
   "outputs": [
    {
     "data": {
      "text/plain": [
       "set"
      ]
     },
     "execution_count": 17,
     "metadata": {},
     "output_type": "execute_result"
    }
   ],
   "source": [
    "type(even_set)"
   ]
  },
  {
   "cell_type": "markdown",
   "id": "4b8838c7-3043-4704-925d-045ed73aeea9",
   "metadata": {},
   "source": [
    "\n",
    "8. Create a set of odd numbers from 1 to 10.\n"
   ]
  },
  {
   "cell_type": "code",
   "execution_count": 18,
   "id": "e3983ef1-1103-44fb-9321-eb1a23413812",
   "metadata": {},
   "outputs": [
    {
     "data": {
      "text/plain": [
       "{1, 3, 5, 7, 9}"
      ]
     },
     "execution_count": 18,
     "metadata": {},
     "output_type": "execute_result"
    }
   ],
   "source": [
    "odd_set ={i for i in range(1,11) if i%2 !=0}\n",
    "odd_set"
   ]
  },
  {
   "cell_type": "markdown",
   "id": "fc232ea4-60e8-40e6-8598-bd7f6b8b91c4",
   "metadata": {},
   "source": [
    "\n",
    "9. Find the union of two sets.\n",
    "\n"
   ]
  },
  {
   "cell_type": "code",
   "execution_count": 19,
   "id": "808ea80e-3cfb-4595-9718-ddcfc3f22bd2",
   "metadata": {},
   "outputs": [
    {
     "data": {
      "text/plain": [
       "{1, 2, 3, 4, 5, 6, 7, 8, 9, 10}"
      ]
     },
     "execution_count": 19,
     "metadata": {},
     "output_type": "execute_result"
    }
   ],
   "source": [
    "even_set.union(odd_set)"
   ]
  },
  {
   "cell_type": "markdown",
   "id": "836d9392-12a0-48fd-a27e-0c2b4cc6942e",
   "metadata": {},
   "source": [
    "\n",
    "10. Find the intersection of two sets.\n",
    "\n"
   ]
  },
  {
   "cell_type": "code",
   "execution_count": 20,
   "id": "697596a0-c7df-4782-acb6-a9ddba257b7b",
   "metadata": {},
   "outputs": [
    {
     "data": {
      "text/plain": [
       "{2, 4, 6, 8, 10}"
      ]
     },
     "execution_count": 20,
     "metadata": {},
     "output_type": "execute_result"
    }
   ],
   "source": [
    "even_set"
   ]
  },
  {
   "cell_type": "code",
   "execution_count": 24,
   "id": "d2fd2028-343d-4b6e-b16f-6f56227ccc29",
   "metadata": {},
   "outputs": [],
   "source": [
    "set2 ={2,3,4,5,6}"
   ]
  },
  {
   "cell_type": "code",
   "execution_count": 25,
   "id": "68c409a3-1c05-4435-a9c6-153cc27f8bdf",
   "metadata": {},
   "outputs": [
    {
     "data": {
      "text/plain": [
       "{2, 4, 6}"
      ]
     },
     "execution_count": 25,
     "metadata": {},
     "output_type": "execute_result"
    }
   ],
   "source": [
    "even_set.intersection(set2)"
   ]
  },
  {
   "cell_type": "markdown",
   "id": "d1941049-bd37-4d09-ad89-c96d982ca8cd",
   "metadata": {},
   "source": [
    "\n",
    "\n",
    "11. Find the difference between two sets."
   ]
  },
  {
   "cell_type": "code",
   "execution_count": 17,
   "id": "4abfd490-1b62-4941-a9f0-f49ada5e8f32",
   "metadata": {},
   "outputs": [
    {
     "data": {
      "text/plain": [
       "{8, 10}"
      ]
     },
     "execution_count": 17,
     "metadata": {},
     "output_type": "execute_result"
    }
   ],
   "source": [
    "even_set.difference(set2)"
   ]
  },
  {
   "cell_type": "markdown",
   "id": "f22d5bff-358d-485c-bfce-233ba426e7cd",
   "metadata": {},
   "source": [
    "12. Check if a set is a subset of another set.\n"
   ]
  },
  {
   "cell_type": "code",
   "execution_count": 18,
   "id": "706b24a8-7cc9-4b74-900a-2f1316ebf9a3",
   "metadata": {},
   "outputs": [],
   "source": [
    "set3 = {2,8}"
   ]
  },
  {
   "cell_type": "code",
   "execution_count": 19,
   "id": "af079f5e-95a8-47c1-8342-b028cd761b9a",
   "metadata": {},
   "outputs": [
    {
     "data": {
      "text/plain": [
       "True"
      ]
     },
     "execution_count": 19,
     "metadata": {},
     "output_type": "execute_result"
    }
   ],
   "source": [
    "set3.issubset(even_set)"
   ]
  },
  {
   "cell_type": "code",
   "execution_count": 20,
   "id": "478a85b2-3f26-4223-a0d8-7f28b08672e7",
   "metadata": {},
   "outputs": [
    {
     "data": {
      "text/plain": [
       "False"
      ]
     },
     "execution_count": 20,
     "metadata": {},
     "output_type": "execute_result"
    }
   ],
   "source": [
    "set2.issubset(even_set)"
   ]
  },
  {
   "cell_type": "markdown",
   "id": "15f305d7-dd65-41dd-a63a-2451fd408699",
   "metadata": {},
   "source": [
    "\n",
    "13. Check if a set is a superset of another set.\n"
   ]
  },
  {
   "cell_type": "code",
   "execution_count": 21,
   "id": "40688bcc-91ad-45fd-ae13-04e72b727239",
   "metadata": {},
   "outputs": [
    {
     "data": {
      "text/plain": [
       "True"
      ]
     },
     "execution_count": 21,
     "metadata": {},
     "output_type": "execute_result"
    }
   ],
   "source": [
    "even_set.issuperset(set3)"
   ]
  },
  {
   "cell_type": "code",
   "execution_count": 22,
   "id": "a9799c33-cf77-471d-bae9-3d08f27178df",
   "metadata": {},
   "outputs": [
    {
     "data": {
      "text/plain": [
       "False"
      ]
     },
     "execution_count": 22,
     "metadata": {},
     "output_type": "execute_result"
    }
   ],
   "source": [
    "even_set.issuperset(set2)"
   ]
  },
  {
   "cell_type": "markdown",
   "id": "d13405b6-40f2-4c56-9fc5-1679f06379ae",
   "metadata": {},
   "source": [
    "\n",
    "14. Create a set from a list.\n"
   ]
  },
  {
   "cell_type": "code",
   "execution_count": 27,
   "id": "fd5d94de-bd39-4349-93c3-f0baf2fbed5e",
   "metadata": {},
   "outputs": [],
   "source": [
    "list1 =[1,5,7,1,3,7,\"lion\",\"angry\", True,0,0,0,1,5,7,\"10\"]"
   ]
  },
  {
   "cell_type": "code",
   "execution_count": 28,
   "id": "85e2716f-7ed3-4d6d-b0f4-669a9b7e14a2",
   "metadata": {},
   "outputs": [
    {
     "data": {
      "text/plain": [
       "{0, 1, '10', 3, 5, 7, 'angry', 'lion'}"
      ]
     },
     "execution_count": 28,
     "metadata": {},
     "output_type": "execute_result"
    }
   ],
   "source": [
    "set4 = set(list1)\n",
    "set4"
   ]
  },
  {
   "cell_type": "markdown",
   "id": "a8d6fd3c-2464-4eb9-99a1-e8b6fc21a7a1",
   "metadata": {},
   "source": [
    "\n",
    "15. Convert a set to a list."
   ]
  },
  {
   "cell_type": "code",
   "execution_count": 7,
   "id": "af216504-6001-4b8f-9bc6-f9b172bcaf5f",
   "metadata": {},
   "outputs": [
    {
     "data": {
      "text/plain": [
       "[0, 1, 3, 5, 7, 'angry', '10', 'lion']"
      ]
     },
     "execution_count": 7,
     "metadata": {},
     "output_type": "execute_result"
    }
   ],
   "source": [
    "list(set4)"
   ]
  },
  {
   "cell_type": "code",
   "execution_count": 8,
   "id": "df2b5481-bf70-4730-8ea0-0ab0f74d3f86",
   "metadata": {},
   "outputs": [
    {
     "data": {
      "text/plain": [
       "[0, 1, 3, 5, 7, 'angry', '10', 'lion']"
      ]
     },
     "execution_count": 8,
     "metadata": {},
     "output_type": "execute_result"
    }
   ],
   "source": [
    "[i for i in set4]"
   ]
  },
  {
   "cell_type": "markdown",
   "id": "42171018-b622-498e-8471-1a018bdd002d",
   "metadata": {},
   "source": [
    "16. Remove a random element from a set.\n"
   ]
  },
  {
   "cell_type": "code",
   "execution_count": 9,
   "id": "af8bac49-3582-4a79-9f86-080f96405995",
   "metadata": {},
   "outputs": [
    {
     "data": {
      "text/plain": [
       "{0, 1, '10', 3, 5, 7, 'angry', 'lion'}"
      ]
     },
     "execution_count": 9,
     "metadata": {},
     "output_type": "execute_result"
    }
   ],
   "source": [
    "set4"
   ]
  },
  {
   "cell_type": "code",
   "execution_count": 10,
   "id": "55ab859a-5388-4a44-b5da-2feb8b398d55",
   "metadata": {},
   "outputs": [],
   "source": [
    "def remove_random(n):\n",
    "    set4.remove(n)\n",
    "    return set4"
   ]
  },
  {
   "cell_type": "code",
   "execution_count": 11,
   "id": "3b2fa999-9e85-4551-bb6d-7ec0fc3ca1fb",
   "metadata": {},
   "outputs": [
    {
     "data": {
      "text/plain": [
       "{0, 1, '10', 5, 7, 'angry', 'lion'}"
      ]
     },
     "execution_count": 11,
     "metadata": {},
     "output_type": "execute_result"
    }
   ],
   "source": [
    "remove_random(3)"
   ]
  },
  {
   "cell_type": "code",
   "execution_count": 12,
   "id": "c35cb4d4-b825-4312-b869-44eae73597ef",
   "metadata": {},
   "outputs": [
    {
     "data": {
      "text/plain": [
       "{0, 1, 5, 7, 'angry', 'lion'}"
      ]
     },
     "execution_count": 12,
     "metadata": {},
     "output_type": "execute_result"
    }
   ],
   "source": [
    "remove_random(\"10\")"
   ]
  },
  {
   "cell_type": "markdown",
   "id": "691e2c6d-caf0-4c6e-b425-ea71559d6ef9",
   "metadata": {},
   "source": [
    "\n",
    "17. Pop an element from a set.\n"
   ]
  },
  {
   "cell_type": "code",
   "execution_count": 13,
   "id": "0b7ed6c2-cf3a-44e4-aada-c8cb71bfcbfd",
   "metadata": {},
   "outputs": [],
   "source": [
    "list2 =[\"school\", 1,4,8,3,67,True,\"punishment\"]"
   ]
  },
  {
   "cell_type": "code",
   "execution_count": 14,
   "id": "34002783-2043-4a92-a9c7-b594f576679b",
   "metadata": {},
   "outputs": [
    {
     "data": {
      "text/plain": [
       "['school', 4, 8, 3, 67, True, 'punishment']"
      ]
     },
     "execution_count": 14,
     "metadata": {},
     "output_type": "execute_result"
    }
   ],
   "source": [
    "import random\n",
    "list2.pop(random.randrange(3))\n",
    "list2"
   ]
  },
  {
   "cell_type": "markdown",
   "id": "8014abdc-63e2-4b7b-8bd1-fee3d7fa85ad",
   "metadata": {},
   "source": [
    "\n",
    "18. Check if two sets have no elements in common.\n"
   ]
  },
  {
   "cell_type": "code",
   "execution_count": 21,
   "id": "485616a5-8390-4da0-811e-bc2523bcf5dd",
   "metadata": {},
   "outputs": [
    {
     "data": {
      "text/plain": [
       "{2, 4, 6, 8, 10}"
      ]
     },
     "execution_count": 21,
     "metadata": {},
     "output_type": "execute_result"
    }
   ],
   "source": [
    "even_set"
   ]
  },
  {
   "cell_type": "code",
   "execution_count": 22,
   "id": "c2f1db7c-236e-46cd-baf0-ac70b3ed0288",
   "metadata": {},
   "outputs": [
    {
     "data": {
      "text/plain": [
       "{3, 4, 5, 6, 7, 10}"
      ]
     },
     "execution_count": 22,
     "metadata": {},
     "output_type": "execute_result"
    }
   ],
   "source": [
    "set5= {4,6,7,10,5,3}\n",
    "set5"
   ]
  },
  {
   "cell_type": "code",
   "execution_count": 31,
   "id": "b1352ad6-e655-41ed-85a9-a296fb248771",
   "metadata": {},
   "outputs": [
    {
     "data": {
      "text/plain": [
       "{2, 3, 4, 5, 6}"
      ]
     },
     "execution_count": 31,
     "metadata": {},
     "output_type": "execute_result"
    }
   ],
   "source": [
    "set2"
   ]
  },
  {
   "cell_type": "code",
   "execution_count": 37,
   "id": "6f1663ce-ebee-4a94-834a-57fc040f7993",
   "metadata": {},
   "outputs": [
    {
     "name": "stdout",
     "output_type": "stream",
     "text": [
      "Check if  {2, 4, 6, 8, 10} and {0, 1, 3, 5, 7, 'angry', '10', 'lion'} have no element in commom: True\n",
      "The common elements are {2, 4, 6}\n"
     ]
    }
   ],
   "source": [
    "print(\"Check if \", even_set,\"and\",set4,\"have no element in commom:\" ,even_set.isdisjoint(set4))\n",
    "print(\"The common elements are\", even_set.intersection(set2))"
   ]
  },
  {
   "cell_type": "code",
   "execution_count": 38,
   "id": "ed4708fd-15ae-43ae-af0d-d1cfe672f509",
   "metadata": {},
   "outputs": [
    {
     "name": "stdout",
     "output_type": "stream",
     "text": [
      "Check if  {2, 4, 6, 8, 10} and {3, 4, 5, 6, 7, 10} have no element in commom: False\n",
      "The common elements are: {10, 4, 6}\n"
     ]
    }
   ],
   "source": [
    "print(\"Check if \", even_set,\"and\",set5,\"have no element in commom:\" ,even_set.isdisjoint(set5))\n",
    "print(\"The common elements are:\", even_set.intersection(set5))"
   ]
  },
  {
   "cell_type": "markdown",
   "id": "897b0f9c-6c59-4e0a-a59d-1e67ccb8616e",
   "metadata": {},
   "source": [
    "\n",
    "19. Find the symmetric difference between two sets.\n"
   ]
  },
  {
   "cell_type": "code",
   "execution_count": null,
   "id": "9a895cf9-e929-4062-b11d-904b17e29834",
   "metadata": {},
   "outputs": [],
   "source": [
    "#symmetric_difference- used to return a new set as the symmetric difference of two sets \n",
    "#symmetric_difference_update()- used to update a set with the symmetric difference of another set and itself"
   ]
  },
  {
   "cell_type": "code",
   "execution_count": 40,
   "id": "279c88ce-94eb-40be-b3ef-a9c94cda2944",
   "metadata": {},
   "outputs": [
    {
     "data": {
      "text/plain": [
       "{1, 3, 5, 7, 9}"
      ]
     },
     "execution_count": 40,
     "metadata": {},
     "output_type": "execute_result"
    }
   ],
   "source": [
    "odd_set"
   ]
  },
  {
   "cell_type": "code",
   "execution_count": 41,
   "id": "3419e50d-e58c-4cde-ba49-f1d2af507794",
   "metadata": {},
   "outputs": [
    {
     "data": {
      "text/plain": [
       "{3, 4, 5, 6, 7, 10}"
      ]
     },
     "execution_count": 41,
     "metadata": {},
     "output_type": "execute_result"
    }
   ],
   "source": [
    "set5"
   ]
  },
  {
   "cell_type": "code",
   "execution_count": 42,
   "id": "859ecc20-65a7-4429-b11f-b99e030c88a4",
   "metadata": {},
   "outputs": [
    {
     "data": {
      "text/plain": [
       "{1, 4, 6, 9, 10}"
      ]
     },
     "execution_count": 42,
     "metadata": {},
     "output_type": "execute_result"
    }
   ],
   "source": [
    "odd_set.symmetric_difference(set5)"
   ]
  },
  {
   "cell_type": "markdown",
   "id": "4f094d1b-d61a-4b3f-86a8-ed119b3b6d02",
   "metadata": {},
   "source": [
    "\n",
    "20. Update a set with elements from another set.\n"
   ]
  },
  {
   "cell_type": "code",
   "execution_count": 47,
   "id": "52ec2395-2490-44e3-a1bf-6eef4e445039",
   "metadata": {},
   "outputs": [
    {
     "data": {
      "text/plain": [
       "{1, 2}"
      ]
     },
     "execution_count": 47,
     "metadata": {},
     "output_type": "execute_result"
    }
   ],
   "source": [
    "new_set = set(range(1,3))\n",
    "new_set"
   ]
  },
  {
   "cell_type": "code",
   "execution_count": 48,
   "id": "4e29f47d-17c8-4033-947e-c0f19f696b4d",
   "metadata": {},
   "outputs": [
    {
     "data": {
      "text/plain": [
       "{3, 4, 5, 6, 7, 10}"
      ]
     },
     "execution_count": 48,
     "metadata": {},
     "output_type": "execute_result"
    }
   ],
   "source": [
    "set5"
   ]
  },
  {
   "cell_type": "code",
   "execution_count": 49,
   "id": "a076135c-2ded-405c-aa8e-8abc88ff4879",
   "metadata": {},
   "outputs": [
    {
     "name": "stdout",
     "output_type": "stream",
     "text": [
      "The updated set with elements from {3, 4, 5, 6, 7, 10} is: {1, 2, 3, 4, 5, 6, 7, 10}\n"
     ]
    }
   ],
   "source": [
    "#Update new_set with elements from set5\n",
    "for i in set5:\n",
    "    new_set.add(i)\n",
    "print(\"The updated set with elements from\",set5,\"is:\",new_set)"
   ]
  },
  {
   "cell_type": "code",
   "execution_count": 53,
   "id": "f27f1baf-4a3f-44ad-9cb3-255ad7f7a8da",
   "metadata": {},
   "outputs": [
    {
     "data": {
      "text/plain": [
       "{-90, 1, 3, 8, 'hope'}"
      ]
     },
     "execution_count": 53,
     "metadata": {},
     "output_type": "execute_result"
    }
   ],
   "source": [
    "set4 = {\"hope\", 8,1,3,-90}\n",
    "set4"
   ]
  },
  {
   "cell_type": "code",
   "execution_count": 54,
   "id": "9e5389d5-7375-4d13-9e6a-19bd1b949525",
   "metadata": {},
   "outputs": [
    {
     "data": {
      "text/plain": [
       "{-90, 1, 10, 3, 4, 5, 6, 7, 8, 'hope'}"
      ]
     },
     "execution_count": 54,
     "metadata": {},
     "output_type": "execute_result"
    }
   ],
   "source": [
    "set4.update(set5)\n",
    "set4"
   ]
  },
  {
   "cell_type": "markdown",
   "id": "4d0e3641-5a74-49c0-8f52-d640a8d90262",
   "metadata": {},
   "source": [
    "\n",
    "21. Create a set of the first 5 prime numbers.\n"
   ]
  },
  {
   "cell_type": "code",
   "execution_count": 55,
   "id": "bd936573-7c19-4317-940d-61b48448f978",
   "metadata": {},
   "outputs": [
    {
     "name": "stdout",
     "output_type": "stream",
     "text": [
      "Set of First 5 Prime numbers: {2, 3, 5}\n"
     ]
    }
   ],
   "source": [
    "prime_list= []\n",
    "for i in range(2,6):\n",
    "    for j in range(2,6):\n",
    "        if i%j == 0:\n",
    "            #print(i,j)\n",
    "            break\n",
    "    if i == j:\n",
    "        #print(\"i or j ==\",i)\n",
    "        prime_list.append(i)\n",
    "\n",
    "print(\"Set of First 5 Prime numbers:\",set(prime_list))\n",
    "    "
   ]
  },
  {
   "cell_type": "markdown",
   "id": "efce0bd4-4411-4dd6-a845-b728da9e0010",
   "metadata": {},
   "source": [
    "\n",
    "22. Check if two sets are identical.\n"
   ]
  },
  {
   "cell_type": "code",
   "execution_count": 56,
   "id": "437bb26b-e478-469b-b30d-06d6ddee908b",
   "metadata": {},
   "outputs": [],
   "source": [
    "#Two sets are identical if the symmetric difference is a null set\n",
    "\n",
    "A= {1,2,3,4}\n",
    "B = {3,4,5,6}\n",
    "C = {1,2,3,4}"
   ]
  },
  {
   "cell_type": "code",
   "execution_count": 57,
   "id": "90b3086e-623c-4903-9a41-7653adba129c",
   "metadata": {},
   "outputs": [],
   "source": [
    "def identical_set(X,Y):\n",
    "    if len(X.symmetric_difference(Y)) == 0:\n",
    "        print(\"SETS ARE IDENTICAL\")\n",
    "    else:\n",
    "        print(\"The different elements in the sets are\", X.symmetric_difference(Y))"
   ]
  },
  {
   "cell_type": "code",
   "execution_count": 58,
   "id": "2c200a6b-0ff4-4919-834e-fa5aa88c7fee",
   "metadata": {},
   "outputs": [
    {
     "name": "stdout",
     "output_type": "stream",
     "text": [
      "SETS ARE IDENTICAL\n",
      "The different elements in the sets are {1, 2, 5, 6}\n"
     ]
    }
   ],
   "source": [
    "identical_set(A,C) \n",
    "identical_set(B,C)"
   ]
  },
  {
   "cell_type": "code",
   "execution_count": 59,
   "id": "e3686629-3ff4-4b13-8663-719ad73ae049",
   "metadata": {},
   "outputs": [
    {
     "name": "stdout",
     "output_type": "stream",
     "text": [
      "The different elements in the sets are {1, 2, 5, 6}\n"
     ]
    }
   ],
   "source": [
    "identical_set(A,B)"
   ]
  },
  {
   "cell_type": "markdown",
   "id": "1ffa9cc3-a207-4773-8fca-650110f3783c",
   "metadata": {},
   "source": [
    "\n",
    "23. Create a frozen set.\n"
   ]
  },
  {
   "cell_type": "code",
   "execution_count": 62,
   "id": "a1e15a4c-fc58-43c0-a8b3-2b84a190738c",
   "metadata": {},
   "outputs": [],
   "source": [
    "list1 = [\"prime\",1,4,7,-56]"
   ]
  },
  {
   "cell_type": "code",
   "execution_count": 63,
   "id": "daff786c-e168-42a0-99b1-d43aa8f037f9",
   "metadata": {},
   "outputs": [
    {
     "data": {
      "text/plain": [
       "frozenset({-56, 1, 4, 7, 'prime'})"
      ]
     },
     "execution_count": 63,
     "metadata": {},
     "output_type": "execute_result"
    }
   ],
   "source": [
    "frozen_set = frozenset(list1)\n",
    "frozen_set"
   ]
  },
  {
   "cell_type": "code",
   "execution_count": 64,
   "id": "c70e9fe5-9a74-445d-9340-3113168b2abf",
   "metadata": {},
   "outputs": [
    {
     "data": {
      "text/plain": [
       "frozenset"
      ]
     },
     "execution_count": 64,
     "metadata": {},
     "output_type": "execute_result"
    }
   ],
   "source": [
    "type(frozen_set)"
   ]
  },
  {
   "cell_type": "markdown",
   "id": "0a1d3f5b-9131-42d9-9019-50bb04627144",
   "metadata": {},
   "source": [
    "\n",
    "24. Check if a set is disjoint with another set.\n"
   ]
  },
  {
   "cell_type": "code",
   "execution_count": 67,
   "id": "8f08d8ba-8397-4ccf-a683-97f2051d8bf3",
   "metadata": {},
   "outputs": [],
   "source": [
    "A= {1,2,3,4}\n",
    "B = {3,4,5,6}\n",
    "C = {1,2,3,4}\n",
    "D= {5,6,7,8}\n",
    "E = {7,8,9}"
   ]
  },
  {
   "cell_type": "code",
   "execution_count": 76,
   "id": "31c5c409-14b6-4105-85c4-709343daeb49",
   "metadata": {},
   "outputs": [],
   "source": [
    "#isdisjoint()- if the intersection of two sets is null, return true\n",
    "def disjoint_sets(x,y):\n",
    "    if x.isdisjoint(y) == True:\n",
    "        print(\"SETS\", x, y, \"are Disjoint\")\n",
    "    else:\n",
    "        print(\"SETS\",x, y,\" are NOT Disjoint.  The Common Elements are:\" ,x.intersection(y))"
   ]
  },
  {
   "cell_type": "code",
   "execution_count": 77,
   "id": "a6e3b3fe-1211-4f7b-8008-f7567c315118",
   "metadata": {},
   "outputs": [
    {
     "name": "stdout",
     "output_type": "stream",
     "text": [
      "SETS {1, 2, 3, 4} {3, 4, 5, 6}  are NOT Disjoint.  The Common Elements are: {3, 4}\n",
      "SETS {1, 2, 3, 4} {1, 2, 3, 4}  are NOT Disjoint.  The Common Elements are: {1, 2, 3, 4}\n",
      "SETS {1, 2, 3, 4} {3, 4, 5, 6}  are NOT Disjoint.  The Common Elements are: {3, 4}\n",
      "SETS {1, 2, 3, 4} {8, 5, 6, 7} are Disjoint\n",
      "SETS {3, 4, 5, 6} {8, 9, 7} are Disjoint\n"
     ]
    }
   ],
   "source": [
    "disjoint_sets(A,B)\n",
    "disjoint_sets(A,C)\n",
    "disjoint_sets(C,B)\n",
    "disjoint_sets(A,D)\n",
    "disjoint_sets(B,E)"
   ]
  },
  {
   "cell_type": "markdown",
   "id": "d319f5a4-947d-440d-b011-69c75a3839dc",
   "metadata": {},
   "source": [
    "25. Create a set of squares of numbers from 1 to 5.\n",
    "\n"
   ]
  },
  {
   "cell_type": "code",
   "execution_count": 78,
   "id": "f897f495-ed8c-4972-a32f-8d4001d7ca87",
   "metadata": {},
   "outputs": [
    {
     "data": {
      "text/plain": [
       "[1, 4, 9, 16, 25]"
      ]
     },
     "execution_count": 78,
     "metadata": {},
     "output_type": "execute_result"
    }
   ],
   "source": [
    "square_list = [i*i for i in range(1,6)]\n",
    "square_list"
   ]
  },
  {
   "cell_type": "code",
   "execution_count": 79,
   "id": "fab9dc6f-a628-4158-929c-7c8e1f5b39ef",
   "metadata": {},
   "outputs": [
    {
     "name": "stdout",
     "output_type": "stream",
     "text": [
      "set of squares of numbers from 1 to 5 are: {1, 4, 9, 16, 25}\n"
     ]
    }
   ],
   "source": [
    "square_set=set(square_list)\n",
    "print(\"set of squares of numbers from 1 to 5 are:\",square_set)"
   ]
  },
  {
   "cell_type": "markdown",
   "id": "927a0524-555b-4b50-bde2-bfe3aa0f9b34",
   "metadata": {},
   "source": [
    "\n",
    "26. Filter out all even numbers from a set.\n"
   ]
  },
  {
   "cell_type": "code",
   "execution_count": 80,
   "id": "a285fffa-f1a8-4fbc-a2b3-120d687f2412",
   "metadata": {},
   "outputs": [],
   "source": [
    "set7 = {3,4,7,8,0,10,100,-29,-49,-50,4,404}"
   ]
  },
  {
   "cell_type": "code",
   "execution_count": 81,
   "id": "5c65c0ce-5ffd-4a91-859a-543ac4d9f7fc",
   "metadata": {},
   "outputs": [
    {
     "name": "stdout",
     "output_type": "stream",
     "text": [
      "After Filtering out all even numbers from a set. The odd set is: {-49, 3, 7, -29}\n"
     ]
    }
   ],
   "source": [
    "odd_set = []\n",
    "for i in set7:\n",
    "    if i%2 != 0:\n",
    "        odd_set.append(i)\n",
    "odd_set = set(odd_set)\n",
    "print(\"After Filtering out all even numbers from a set. The odd set is:\",odd_set)"
   ]
  },
  {
   "cell_type": "markdown",
   "id": "e0c5b51e-b81a-41d9-9eb3-162d6e3704fd",
   "metadata": {},
   "source": [
    "\n",
    "27. Multiply all elements in a set by 2."
   ]
  },
  {
   "cell_type": "code",
   "execution_count": 82,
   "id": "d80ccb5c-1803-4383-9a5c-7ac37cfc014b",
   "metadata": {},
   "outputs": [
    {
     "data": {
      "text/plain": [
       "{-50, -49, -29, 0, 3, 4, 7, 8, 10, 100, 404}"
      ]
     },
     "execution_count": 82,
     "metadata": {},
     "output_type": "execute_result"
    }
   ],
   "source": [
    "set7"
   ]
  },
  {
   "cell_type": "code",
   "execution_count": 83,
   "id": "eecb93db-df18-4377-8b6c-9ae722e9edc9",
   "metadata": {},
   "outputs": [
    {
     "data": {
      "text/plain": [
       "[0, 6, 200, 8, -58, 14, 16, 20, -100, -98, 808]"
      ]
     },
     "execution_count": 83,
     "metadata": {},
     "output_type": "execute_result"
    }
   ],
   "source": [
    "list8 = [i*2 for i in set7]\n",
    "list8"
   ]
  },
  {
   "cell_type": "code",
   "execution_count": 84,
   "id": "3437e4b3-78e7-4ce2-91e0-7c6e2670048e",
   "metadata": {},
   "outputs": [
    {
     "data": {
      "text/plain": [
       "{-100, -98, -58, 0, 6, 8, 14, 16, 20, 200, 808}"
      ]
     },
     "execution_count": 84,
     "metadata": {},
     "output_type": "execute_result"
    }
   ],
   "source": [
    "set8= set(list8)\n",
    "set8"
   ]
  },
  {
   "cell_type": "code",
   "execution_count": 85,
   "id": "4842d343-1250-4196-87d1-475c7381cfff",
   "metadata": {},
   "outputs": [
    {
     "name": "stdout",
     "output_type": "stream",
     "text": [
      "After Multiplying all elements by 2 in a set  {0, 3, 100, 4, -29, 7, 8, 10, -50, -49, 404} . The output set is {0, -58, 6, 8, 200, 808, 14, 16, 20, -100, -98}\n"
     ]
    }
   ],
   "source": [
    "print(\"After Multiplying all elements by 2 in a set \",set7,\". The output set is\", set8)"
   ]
  },
  {
   "cell_type": "markdown",
   "id": "675ee8a9-f616-4bc5-8afa-d729d8935501",
   "metadata": {},
   "source": [
    "28. Create a set of random numbers.\n"
   ]
  },
  {
   "cell_type": "code",
   "execution_count": 88,
   "id": "3302d6a9-0b32-4893-b70e-0e9e021f498c",
   "metadata": {},
   "outputs": [
    {
     "name": "stdout",
     "output_type": "stream",
     "text": [
      "A set of random numbers: {3, 5, 7, 8, 9}\n"
     ]
    }
   ],
   "source": [
    "import random\n",
    "random_list = []\n",
    "for i in range(0,7):\n",
    "    random_list.append( random.randint(1,10))\n",
    "random_list\n",
    "random_set = set(random_list)\n",
    "print(\"A set of random numbers:\", random_set)"
   ]
  },
  {
   "cell_type": "markdown",
   "id": "d096341d-3f9f-4bf9-8455-7e0560aa4b00",
   "metadata": {},
   "source": [
    "\n",
    "29. Check if a set is empty.\n"
   ]
  },
  {
   "cell_type": "code",
   "execution_count": 89,
   "id": "631a3041-1d8e-4d08-b90c-c710ee14a2c8",
   "metadata": {},
   "outputs": [],
   "source": [
    "set5 ={}"
   ]
  },
  {
   "cell_type": "code",
   "execution_count": 94,
   "id": "bd04e7df-f1c8-40ce-bce8-18b0d65a5d36",
   "metadata": {},
   "outputs": [],
   "source": [
    "def is_set_empty(setA):\n",
    "    if len(setA) == 0:\n",
    "        print(\"Set is Empty\")\n",
    "    else:\n",
    "        print(\"Set is not empty. The Elements in the set are:\", setA)\n",
    "          "
   ]
  },
  {
   "cell_type": "code",
   "execution_count": 95,
   "id": "a53eea99-2e14-488d-96c9-1c313335d9ee",
   "metadata": {},
   "outputs": [
    {
     "name": "stdout",
     "output_type": "stream",
     "text": [
      "Set is Empty\n"
     ]
    }
   ],
   "source": [
    "is_set_empty(set5)"
   ]
  },
  {
   "cell_type": "code",
   "execution_count": 96,
   "id": "633e19df-1a5c-43a1-9e36-9c15f2d9f4f6",
   "metadata": {},
   "outputs": [
    {
     "name": "stdout",
     "output_type": "stream",
     "text": [
      "Set is not empty. The Elements in the set are: {3, 5, 7, 8, 9}\n"
     ]
    }
   ],
   "source": [
    "is_set_empty(random_set)"
   ]
  },
  {
   "cell_type": "markdown",
   "id": "0ba771a2-efaf-434d-8acb-d49ebe0a4724",
   "metadata": {},
   "source": [
    "\n",
    "30. Create a nested set (hint: use frozenset).\n"
   ]
  },
  {
   "cell_type": "code",
   "execution_count": 97,
   "id": "ebfed1db-1107-4341-920f-80746fe091e0",
   "metadata": {},
   "outputs": [
    {
     "data": {
      "text/plain": [
       "{frozenset({1, 3, 5}), frozenset({4, 6, 8, 90})}"
      ]
     },
     "execution_count": 97,
     "metadata": {},
     "output_type": "execute_result"
    }
   ],
   "source": [
    "nested_set= set([frozenset([4,6,8,90]),frozenset(range(1,6,2))])\n",
    "nested_set"
   ]
  },
  {
   "cell_type": "markdown",
   "id": "114b503b-a22f-49d6-9d85-93af1579e6fb",
   "metadata": {},
   "source": [
    "31. Remove an element from a set using the discard method."
   ]
  },
  {
   "cell_type": "code",
   "execution_count": 104,
   "id": "29bbc3a4-3e9f-4be7-88c5-63489e55d785",
   "metadata": {},
   "outputs": [
    {
     "data": {
      "text/plain": [
       "{3, 5, 7, 8, 9}"
      ]
     },
     "execution_count": 104,
     "metadata": {},
     "output_type": "execute_result"
    }
   ],
   "source": [
    "random_set"
   ]
  },
  {
   "cell_type": "code",
   "execution_count": 105,
   "id": "e442d914-1bb8-4b53-a656-5ded18b278ee",
   "metadata": {},
   "outputs": [],
   "source": [
    "random_set.discard(7)"
   ]
  },
  {
   "cell_type": "code",
   "execution_count": 106,
   "id": "94c1e54a-74fa-45ff-9aa4-63eae16e0531",
   "metadata": {},
   "outputs": [
    {
     "data": {
      "text/plain": [
       "{3, 5, 8, 9}"
      ]
     },
     "execution_count": 106,
     "metadata": {},
     "output_type": "execute_result"
    }
   ],
   "source": [
    "random_set"
   ]
  },
  {
   "cell_type": "markdown",
   "id": "c96dc506-73e4-4de3-8e4b-befca04e7983",
   "metadata": {},
   "source": [
    "32. Compare two sets.\n"
   ]
  },
  {
   "cell_type": "code",
   "execution_count": 107,
   "id": "968b653c-0448-401e-932a-b031b324f12a",
   "metadata": {},
   "outputs": [],
   "source": [
    "A= {1,2,3,4}\n",
    "B = {3,4,5,6}\n",
    "C = {1,2,3,4}\n",
    "D= {5,6,7,8}\n",
    "E = {7,8,9}\n",
    "F= {5,6,7,8}"
   ]
  },
  {
   "cell_type": "code",
   "execution_count": 108,
   "id": "f066b5e6-1195-4372-84f2-64bb67218e93",
   "metadata": {},
   "outputs": [],
   "source": [
    "#Equality of sets"
   ]
  },
  {
   "cell_type": "code",
   "execution_count": 109,
   "id": "d6632ac1-c503-4c44-9e5b-9de301dbd71b",
   "metadata": {},
   "outputs": [],
   "source": [
    "def equality_sets(x,y):\n",
    "    if x == y:\n",
    "        print(\"Sets\",x,y, \"are EQUAl\")\n",
    "    if len(x.symmetric_difference(y)) == 0:\n",
    "        print(\"Sets are Identical\")\n",
    "    else:\n",
    "        print(\"Sets\",x,y, \"are not EQUAL\")"
   ]
  },
  {
   "cell_type": "code",
   "execution_count": 110,
   "id": "e40e2021-ef71-4c6b-b94a-45a863cf402a",
   "metadata": {},
   "outputs": [
    {
     "name": "stdout",
     "output_type": "stream",
     "text": [
      "Sets {1, 2, 3, 4} {1, 2, 3, 4} are EQUAl\n",
      "Sets are Identical\n",
      "Sets {1, 2, 3, 4} {3, 4, 5, 6} are not EQUAL\n",
      "Sets {3, 4, 5, 6} {8, 5, 6, 7} are not EQUAL\n"
     ]
    }
   ],
   "source": [
    "equality_sets(A,C)\n",
    "equality_sets(A,B)\n",
    "equality_sets(B,D)"
   ]
  },
  {
   "cell_type": "code",
   "execution_count": 112,
   "id": "93317c6c-59bb-41f7-a023-ee61d6098c78",
   "metadata": {},
   "outputs": [],
   "source": [
    "def identical_set(X,Y):\n",
    "    if len(X.symmetric_difference(Y)) == 0:\n",
    "        print(\"SETS\",X, Y ,\"ARE IDENTICAL\")\n",
    "    else:\n",
    "        print(\"SETS\",X, Y ,\"ARE NOT IDENTICAL.The Non-Common elements in the sets are\", X.symmetric_difference(Y))"
   ]
  },
  {
   "cell_type": "code",
   "execution_count": 113,
   "id": "1b2aa221-1889-44f5-ab30-dbc7fd7f39a9",
   "metadata": {},
   "outputs": [
    {
     "name": "stdout",
     "output_type": "stream",
     "text": [
      "SETS {1, 2, 3, 4} {1, 2, 3, 4} ARE IDENTICAL\n",
      "SETS {1, 2, 3, 4} {3, 4, 5, 6} ARE NOT IDENTICAL.The Non-Common elements in the sets are {1, 2, 5, 6}\n",
      "SETS {1, 2, 3, 4} {8, 5, 6, 7} ARE NOT IDENTICAL.The Non-Common elements in the sets are {1, 2, 3, 4, 5, 6, 7, 8}\n",
      "SETS {8, 9, 7} {8, 5, 6, 7} ARE NOT IDENTICAL.The Non-Common elements in the sets are {5, 6, 9}\n",
      "SETS {8, 5, 6, 7} {8, 5, 6, 7} ARE IDENTICAL\n"
     ]
    }
   ],
   "source": [
    "identical_set(A,C)\n",
    "identical_set(A,B)\n",
    "identical_set(C,D)\n",
    "identical_set(E,F)\n",
    "identical_set(D,F)"
   ]
  },
  {
   "cell_type": "markdown",
   "id": "8fa9b18f-882a-4e88-93d5-9fb0b6d335bc",
   "metadata": {},
   "source": [
    "\n",
    "33. Create a set from a string.\n"
   ]
  },
  {
   "cell_type": "code",
   "execution_count": 114,
   "id": "ff00a04d-1e0c-49d8-bd7a-b9f1846cf966",
   "metadata": {},
   "outputs": [],
   "source": [
    "string1 = \"DataScience\""
   ]
  },
  {
   "cell_type": "code",
   "execution_count": 115,
   "id": "eb388a55-6c4e-459a-9155-49a1a889503b",
   "metadata": {},
   "outputs": [
    {
     "data": {
      "text/plain": [
       "{'D', 'S', 'a', 'c', 'e', 'i', 'n', 't'}"
      ]
     },
     "execution_count": 115,
     "metadata": {},
     "output_type": "execute_result"
    }
   ],
   "source": [
    "set(string1)"
   ]
  },
  {
   "cell_type": "markdown",
   "id": "b4949e6d-4a5d-49d6-9d92-049d277e06a1",
   "metadata": {},
   "source": [
    "\n",
    "34. Convert a set of strings to a set of integers.\n"
   ]
  },
  {
   "cell_type": "code",
   "execution_count": 116,
   "id": "65815a1d-893f-4bfe-bd73-d8422572912c",
   "metadata": {},
   "outputs": [],
   "source": [
    "set1 = {\"4\",\"5\",\"8\",\"100\",\"90\"}"
   ]
  },
  {
   "cell_type": "code",
   "execution_count": 117,
   "id": "c8a16af1-d6da-4f45-a688-f7183de8574e",
   "metadata": {},
   "outputs": [],
   "source": [
    "set_int ={int(i) for i in set1}"
   ]
  },
  {
   "cell_type": "code",
   "execution_count": 118,
   "id": "5d168c91-0ff1-4d2c-a579-53fa08878b36",
   "metadata": {},
   "outputs": [
    {
     "data": {
      "text/plain": [
       "{4, 5, 8, 90, 100}"
      ]
     },
     "execution_count": 118,
     "metadata": {},
     "output_type": "execute_result"
    }
   ],
   "source": [
    "set_int"
   ]
  },
  {
   "cell_type": "markdown",
   "id": "a8156912-d775-4090-a0db-3d1b47cde3ed",
   "metadata": {},
   "source": [
    "\n",
    "35. Convert a set of integers to a set of strings.\n"
   ]
  },
  {
   "cell_type": "code",
   "execution_count": 119,
   "id": "e2b21222-726a-44d4-bde1-9f4867b74410",
   "metadata": {},
   "outputs": [
    {
     "data": {
      "text/plain": [
       "{'100', '4', '5', '8', '90'}"
      ]
     },
     "execution_count": 119,
     "metadata": {},
     "output_type": "execute_result"
    }
   ],
   "source": [
    "set_string = {str(i) for i in set_int}\n",
    "set_string"
   ]
  },
  {
   "cell_type": "markdown",
   "id": "677721e1-5542-4270-b4e3-b1e4599ce40e",
   "metadata": {},
   "source": [
    "\n",
    "36. Create a set from a tuple.\n"
   ]
  },
  {
   "cell_type": "code",
   "execution_count": 122,
   "id": "b8c6dca3-e2ae-4819-bdc8-2b8a0d7a102b",
   "metadata": {},
   "outputs": [],
   "source": [
    "tuple1 = (45,6,\"90\", True, \"anything\")"
   ]
  },
  {
   "cell_type": "code",
   "execution_count": 123,
   "id": "811e3cdf-3504-4108-8d75-ea853db2fe31",
   "metadata": {},
   "outputs": [
    {
     "name": "stdout",
     "output_type": "stream",
     "text": [
      "After creating a set from tuple (45, 6, '90', True, 'anything') The converted set is: {True, 'anything', 6, 45, '90'}\n"
     ]
    }
   ],
   "source": [
    "set2= {i for i in tuple1}\n",
    "print(\"After creating a set from tuple\", tuple1, \"The converted set is:\", set2)"
   ]
  },
  {
   "cell_type": "markdown",
   "id": "efc92f35-a2ab-4a8d-8993-bfefaa5a55cf",
   "metadata": {},
   "source": [
    "\n",
    "37. Convert a set to a tuple.\n"
   ]
  },
  {
   "cell_type": "code",
   "execution_count": 125,
   "id": "6b0dfa15-0000-43d9-bf66-3f43ec0f4502",
   "metadata": {},
   "outputs": [
    {
     "data": {
      "text/plain": [
       "{'100', '4', '5', '8', '90'}"
      ]
     },
     "execution_count": 125,
     "metadata": {},
     "output_type": "execute_result"
    }
   ],
   "source": [
    "set_string"
   ]
  },
  {
   "cell_type": "code",
   "execution_count": 124,
   "id": "96e3c05d-0d68-4e09-9a3c-e4a4c188ef35",
   "metadata": {},
   "outputs": [
    {
     "data": {
      "text/plain": [
       "('4', '100', '5', '8', '90')"
      ]
     },
     "execution_count": 124,
     "metadata": {},
     "output_type": "execute_result"
    }
   ],
   "source": [
    "tuple2= tuple(set_string)\n",
    "tuple2"
   ]
  },
  {
   "cell_type": "code",
   "execution_count": 126,
   "id": "7262dfda-240d-4e93-9475-51fe1d213f79",
   "metadata": {},
   "outputs": [
    {
     "data": {
      "text/plain": [
       "{4, 5, 8, 90, 100}"
      ]
     },
     "execution_count": 126,
     "metadata": {},
     "output_type": "execute_result"
    }
   ],
   "source": [
    "set_int"
   ]
  },
  {
   "cell_type": "code",
   "execution_count": 127,
   "id": "76ae120f-af41-4de4-b539-ffd726ce4f3d",
   "metadata": {},
   "outputs": [
    {
     "data": {
      "text/plain": [
       "(100, 5, 4, 8, 90)"
      ]
     },
     "execution_count": 127,
     "metadata": {},
     "output_type": "execute_result"
    }
   ],
   "source": [
    "tuple3 = tuple(set_int)\n",
    "tuple3"
   ]
  },
  {
   "cell_type": "code",
   "execution_count": 128,
   "id": "290324d8-3c31-4b9f-a9c4-29bc8a49ee23",
   "metadata": {},
   "outputs": [
    {
     "data": {
      "text/plain": [
       "tuple"
      ]
     },
     "execution_count": 128,
     "metadata": {},
     "output_type": "execute_result"
    }
   ],
   "source": [
    "type(tuple2)"
   ]
  },
  {
   "cell_type": "code",
   "execution_count": 129,
   "id": "c6db81ea-df2c-4c7a-b521-45c062503d76",
   "metadata": {},
   "outputs": [
    {
     "data": {
      "text/plain": [
       "tuple"
      ]
     },
     "execution_count": 129,
     "metadata": {},
     "output_type": "execute_result"
    }
   ],
   "source": [
    "type(tuple3)"
   ]
  },
  {
   "cell_type": "markdown",
   "id": "5e9799e0-ebc6-450f-85e5-617b7edac735",
   "metadata": {},
   "source": [
    "\n",
    "38. Find the maximum value in a set.\n"
   ]
  },
  {
   "cell_type": "code",
   "execution_count": 130,
   "id": "352c061e-8269-4814-893a-d7acd9364e81",
   "metadata": {},
   "outputs": [
    {
     "data": {
      "text/plain": [
       "{4, 5, 8, 90, 100}"
      ]
     },
     "execution_count": 130,
     "metadata": {},
     "output_type": "execute_result"
    }
   ],
   "source": [
    "set_int"
   ]
  },
  {
   "cell_type": "code",
   "execution_count": 131,
   "id": "4d06e983-161a-4f0d-af16-0bb5bb984a21",
   "metadata": {},
   "outputs": [
    {
     "data": {
      "text/plain": [
       "100"
      ]
     },
     "execution_count": 131,
     "metadata": {},
     "output_type": "execute_result"
    }
   ],
   "source": [
    "max(set_int)"
   ]
  },
  {
   "cell_type": "markdown",
   "id": "7d1b7fd2-33e1-4202-895f-cbc24211a3a0",
   "metadata": {},
   "source": [
    "\n",
    "39. Find the minimum value in a set.\n"
   ]
  },
  {
   "cell_type": "code",
   "execution_count": 132,
   "id": "cfe396c2-ba93-41ed-8a04-5ef8d094c64e",
   "metadata": {},
   "outputs": [
    {
     "data": {
      "text/plain": [
       "4"
      ]
     },
     "execution_count": 132,
     "metadata": {},
     "output_type": "execute_result"
    }
   ],
   "source": [
    "min(set_int)"
   ]
  },
  {
   "cell_type": "markdown",
   "id": "627e14dc-9b77-41db-87fe-2e4bd9029125",
   "metadata": {},
   "source": [
    "\n",
    "40. Create a set from user input.\n"
   ]
  },
  {
   "cell_type": "code",
   "execution_count": 134,
   "id": "3582ff63-30ca-4321-8e26-b9a1854f1670",
   "metadata": {},
   "outputs": [
    {
     "name": "stdin",
     "output_type": "stream",
     "text": [
      " data123\n"
     ]
    }
   ],
   "source": [
    "user_input = input()"
   ]
  },
  {
   "cell_type": "code",
   "execution_count": 135,
   "id": "2ee9b001-fcfc-4fb7-91ae-ed7e762a22cc",
   "metadata": {},
   "outputs": [],
   "source": [
    "user_set = {i for i in user_input}"
   ]
  },
  {
   "cell_type": "code",
   "execution_count": 136,
   "id": "861315e6-0aff-48a0-8c53-e1cf61b51aa8",
   "metadata": {},
   "outputs": [
    {
     "data": {
      "text/plain": [
       "{'1', '2', '3', 'a', 'd', 't'}"
      ]
     },
     "execution_count": 136,
     "metadata": {},
     "output_type": "execute_result"
    }
   ],
   "source": [
    "user_set"
   ]
  },
  {
   "cell_type": "markdown",
   "id": "bebcb94e-80cf-4b89-9e09-6ca8b6a1eaf0",
   "metadata": {},
   "source": [
    "41. Check if the intersection of two sets is empty.\n"
   ]
  },
  {
   "cell_type": "code",
   "execution_count": 137,
   "id": "68b6c5f9-c939-4801-b6c9-76f44f8d4491",
   "metadata": {},
   "outputs": [],
   "source": [
    "A= {1,2,3,4}\n",
    "B = {3,4,5,6}\n",
    "C = {1,2,3,4}\n",
    "D= {5,6,7,8}\n",
    "E = {7,8,9}\n",
    "F= {5,6,7,8}"
   ]
  },
  {
   "cell_type": "code",
   "execution_count": 138,
   "id": "dbe3c94f-3247-4992-9819-2a876e6f66c6",
   "metadata": {},
   "outputs": [
    {
     "data": {
      "text/plain": [
       "set()"
      ]
     },
     "execution_count": 138,
     "metadata": {},
     "output_type": "execute_result"
    }
   ],
   "source": [
    "A.intersection(D)"
   ]
  },
  {
   "cell_type": "code",
   "execution_count": 139,
   "id": "0df1599a-c4e5-4288-a467-bf6da751b15a",
   "metadata": {},
   "outputs": [
    {
     "data": {
      "text/plain": [
       "{3, 4}"
      ]
     },
     "execution_count": 139,
     "metadata": {},
     "output_type": "execute_result"
    }
   ],
   "source": [
    "A.intersection(B)"
   ]
  },
  {
   "cell_type": "code",
   "execution_count": 143,
   "id": "aca5d88d-9e44-4457-9132-9c796d8d5976",
   "metadata": {},
   "outputs": [
    {
     "name": "stdout",
     "output_type": "stream",
     "text": [
      "yes\n"
     ]
    }
   ],
   "source": [
    "if len(B.intersection(E)) ==0:\n",
    "    print(\"yes\")\n",
    "else:\n",
    "    print(\"no\")"
   ]
  },
  {
   "cell_type": "code",
   "execution_count": 150,
   "id": "620a6059-9975-4a93-aff8-c657fc21cc37",
   "metadata": {},
   "outputs": [],
   "source": [
    "def is_intersection_empty(x,y):\n",
    "    if len(x.intersection(y)) ==0:\n",
    "        print(\"The intersection of two sets\", x, \"and\", y , \"is EMPTY\")\n",
    "    else:\n",
    "        print(\"The intersection of two sets ISNT empty. The Common elements are:\",x.intersection(y)) \n",
    "    "
   ]
  },
  {
   "cell_type": "code",
   "execution_count": 151,
   "id": "65438d47-1c5c-4cc7-9831-7385b57a0a5b",
   "metadata": {},
   "outputs": [
    {
     "name": "stdout",
     "output_type": "stream",
     "text": [
      "The intersection of two sets {1, 2, 3, 4} and {8, 5, 6, 7} is EMPTY\n",
      "The intersection of two sets ISNT empty. The Common elements are: {3, 4}\n",
      "The intersection of two sets ISNT empty. The Common elements are: {1, 2, 3, 4}\n",
      "The intersection of two sets {1, 2, 3, 4} and {8, 9, 7} is EMPTY\n"
     ]
    }
   ],
   "source": [
    "is_intersection_empty(A,F)\n",
    "is_intersection_empty(A,B)\n",
    "is_intersection_empty(A,C)\n",
    "is_intersection_empty(A,E)"
   ]
  },
  {
   "cell_type": "markdown",
   "id": "b12e9362-7b4c-447b-be0e-8419a3d70e7b",
   "metadata": {},
   "source": [
    "42. Create a set of the first 5 Fibonacci numbers.\n"
   ]
  },
  {
   "cell_type": "code",
   "execution_count": 1,
   "id": "7da160cf-3b5f-400d-95d4-63c907e2c87a",
   "metadata": {},
   "outputs": [
    {
     "data": {
      "text/plain": [
       "[0, 1, 2, 3, 4, 5, 6]"
      ]
     },
     "execution_count": 1,
     "metadata": {},
     "output_type": "execute_result"
    }
   ],
   "source": [
    "num =[i for i in range(0,7)]\n",
    "num"
   ]
  },
  {
   "cell_type": "code",
   "execution_count": 16,
   "id": "31721a87-b936-4c42-8c8c-4d4acdd36bdd",
   "metadata": {},
   "outputs": [
    {
     "data": {
      "text/plain": [
       "{3, 4}"
      ]
     },
     "execution_count": 16,
     "metadata": {},
     "output_type": "execute_result"
    }
   ],
   "source": []
  },
  {
   "cell_type": "markdown",
   "id": "a0d1397d-546e-4686-8171-6325735dadd5",
   "metadata": {},
   "source": [
    "43. Remove duplicates from a list using sets.\n"
   ]
  },
  {
   "cell_type": "code",
   "execution_count": 1,
   "id": "dfc347ed-5067-4bf8-9906-bbba2eac1bbd",
   "metadata": {},
   "outputs": [],
   "source": [
    "list1 =[1,5,7,\"things\",7, \"300\" \"pwskiils\",True,True,\"300\",7,1,5,7]"
   ]
  },
  {
   "cell_type": "code",
   "execution_count": 2,
   "id": "c1a1ab8d-da82-41ec-99b1-9d1b0d601b32",
   "metadata": {},
   "outputs": [
    {
     "data": {
      "text/plain": [
       "[1, 5, 7, 'things', 7, '300pwskiils', True, True, '300', 7, 1, 5, 7]"
      ]
     },
     "execution_count": 2,
     "metadata": {},
     "output_type": "execute_result"
    }
   ],
   "source": [
    "list1"
   ]
  },
  {
   "cell_type": "code",
   "execution_count": 3,
   "id": "c1a0e498-f032-4980-aaa7-36789667eaa5",
   "metadata": {},
   "outputs": [
    {
     "data": {
      "text/plain": [
       "{1, '300', '300pwskiils', 5, 7, 'things'}"
      ]
     },
     "execution_count": 3,
     "metadata": {},
     "output_type": "execute_result"
    }
   ],
   "source": [
    "set(list1)"
   ]
  },
  {
   "cell_type": "code",
   "execution_count": 4,
   "id": "6c7809ee-990f-4aaf-b8ce-897cde118a16",
   "metadata": {},
   "outputs": [
    {
     "name": "stdout",
     "output_type": "stream",
     "text": [
      "[1, 5, 7, 'things', '300pwskiils', '300']\n"
     ]
    }
   ],
   "source": [
    "list2 =[]\n",
    "for i in list1:\n",
    "    if i not in list2:\n",
    "        list2.append(i)\n",
    "\n",
    "print(list2)"
   ]
  },
  {
   "cell_type": "markdown",
   "id": "0f25de6d-06e4-46e8-9a01-4709bf5e747c",
   "metadata": {},
   "source": [
    "44. Check if two sets have the same elements, regardless of their count.\n"
   ]
  },
  {
   "cell_type": "code",
   "execution_count": 9,
   "id": "abbd94b4-56df-4643-bb40-f95f231d5f9f",
   "metadata": {},
   "outputs": [],
   "source": [
    "\n",
    "D= {5,6,7,8,9}\n",
    "E = {5,6,7,8,9,10,11}\n"
   ]
  },
  {
   "cell_type": "code",
   "execution_count": 10,
   "id": "14cf5d78-7e48-44df-9320-3c3ce4668cb1",
   "metadata": {},
   "outputs": [
    {
     "data": {
      "text/plain": [
       "{10, 11}"
      ]
     },
     "execution_count": 10,
     "metadata": {},
     "output_type": "execute_result"
    }
   ],
   "source": [
    "D.symmetric_difference(E)"
   ]
  },
  {
   "cell_type": "code",
   "execution_count": 11,
   "id": "07e02a3c-8874-4bcc-ad3f-aa3d246f4b5d",
   "metadata": {},
   "outputs": [
    {
     "data": {
      "text/plain": [
       "{5, 6, 7, 8, 9}"
      ]
     },
     "execution_count": 11,
     "metadata": {},
     "output_type": "execute_result"
    }
   ],
   "source": [
    "D.intersection(E)"
   ]
  },
  {
   "cell_type": "code",
   "execution_count": 13,
   "id": "973f4a2e-e40d-4e7c-85fc-8add6af1b256",
   "metadata": {},
   "outputs": [
    {
     "data": {
      "text/plain": [
       "{5, 6, 7, 8, 9}"
      ]
     },
     "execution_count": 13,
     "metadata": {},
     "output_type": "execute_result"
    }
   ],
   "source": [
    "E.intersection(D)"
   ]
  },
  {
   "cell_type": "markdown",
   "id": "ec5ea5bc-a1c8-4b8a-b0d0-e098311ae1ed",
   "metadata": {},
   "source": [
    "45. Create a set of the first `n` powers of 2.\n"
   ]
  },
  {
   "cell_type": "code",
   "execution_count": 25,
   "id": "d3791e5b-c0f9-4046-8d8a-65cb6adca150",
   "metadata": {},
   "outputs": [],
   "source": [
    "n=5\n",
    "list_npower = [i**2 for i in range(1,n+1)]"
   ]
  },
  {
   "cell_type": "code",
   "execution_count": 26,
   "id": "1a11074a-df84-40c4-935a-3125017867dd",
   "metadata": {},
   "outputs": [
    {
     "data": {
      "text/plain": [
       "[1, 4, 9, 16, 25]"
      ]
     },
     "execution_count": 26,
     "metadata": {},
     "output_type": "execute_result"
    }
   ],
   "source": [
    "list_npower"
   ]
  },
  {
   "cell_type": "code",
   "execution_count": 27,
   "id": "4b73a588-ddc2-4e96-b145-65aa9924473a",
   "metadata": {},
   "outputs": [
    {
     "data": {
      "text/plain": [
       "{1, 4, 9, 16, 25}"
      ]
     },
     "execution_count": 27,
     "metadata": {},
     "output_type": "execute_result"
    }
   ],
   "source": [
    "set_npower = set(list_npower)\n",
    "set_npower"
   ]
  },
  {
   "cell_type": "markdown",
   "id": "edda36ab-a32f-4cc4-892e-0de1e4e8e9c7",
   "metadata": {},
   "source": [
    "46. Find the common elements between a set and a list.\n"
   ]
  },
  {
   "cell_type": "code",
   "execution_count": 70,
   "id": "7affea00-d1ea-4e4a-bb92-f38903fdb486",
   "metadata": {},
   "outputs": [],
   "source": [
    "set1 = {3,6,7,10,39,60,499,\"element\", \"ruby\"}\n",
    "list1 =[1,6,5,7,3,400, \"ruby\", 78,90,100]  \n",
    "common = []"
   ]
  },
  {
   "cell_type": "code",
   "execution_count": 71,
   "id": "4b67edbe-1fae-47ec-af0d-5c110830e5c9",
   "metadata": {},
   "outputs": [],
   "source": [
    "list2 = [i for i in set1]"
   ]
  },
  {
   "cell_type": "code",
   "execution_count": 72,
   "id": "b344eccb-fbbb-4f44-b129-2ac452ed9dd8",
   "metadata": {},
   "outputs": [
    {
     "data": {
      "text/plain": [
       "[3, 6, 39, 'ruby', 7, 10, 'element', 499, 60]"
      ]
     },
     "execution_count": 72,
     "metadata": {},
     "output_type": "execute_result"
    }
   ],
   "source": [
    "list2"
   ]
  },
  {
   "cell_type": "code",
   "execution_count": 73,
   "id": "f7d1dc3c-77d5-4091-b06d-a8563106f262",
   "metadata": {},
   "outputs": [],
   "source": [
    "common = [i for i in list1 if i in list2]"
   ]
  },
  {
   "cell_type": "code",
   "execution_count": 76,
   "id": "5f55f884-9880-43c3-92fe-fe222d39c5ec",
   "metadata": {},
   "outputs": [
    {
     "name": "stdout",
     "output_type": "stream",
     "text": [
      "the common elelments between set {3, 6, 39, 'ruby', 7, 10, 'element', 499, 60} and list [1, 6, 5, 7, 3, 400, 'ruby', 78, 90, 100] are: [6, 7, 3, 'ruby']\n"
     ]
    }
   ],
   "source": [
    "print(\"the common elelments between set\", set1 ,\"and list\" ,list1, \"are:\",\n",
    "      common)"
   ]
  },
  {
   "cell_type": "markdown",
   "id": "872aaad9-80f2-4712-ab4f-85efe5792421",
   "metadata": {},
   "source": [
    "47. Create a set of the first `n` triangular numbers."
   ]
  },
  {
   "cell_type": "code",
   "execution_count": null,
   "id": "20b9eb0f-c0f7-49d7-8656-b558a0450bff",
   "metadata": {},
   "outputs": [],
   "source": [
    "triangular numbers = [1, 3, 6, 10, 15, 21, 28, 36, 45,]"
   ]
  },
  {
   "cell_type": "code",
   "execution_count": 13,
   "id": "22902676-067b-4502-8812-239906f3e60f",
   "metadata": {},
   "outputs": [
    {
     "name": "stdout",
     "output_type": "stream",
     "text": [
      "[1, 3, 6, 10, 15, 21, 28, 36, 45]\n"
     ]
    }
   ],
   "source": [
    "tri_num = []\n",
    "num = 0\n",
    "for i in range(1,10):\n",
    "    num =num +i\n",
    "    tri_num.append(num)\n",
    "    \n",
    "print(tri_num)\n",
    "\n"
   ]
  },
  {
   "cell_type": "code",
   "execution_count": 14,
   "id": "41f186cb-f9c5-4de8-b5b8-8a236ff7b581",
   "metadata": {},
   "outputs": [
    {
     "data": {
      "text/plain": [
       "{1, 3, 6, 10, 15, 21, 28, 36, 45}"
      ]
     },
     "execution_count": 14,
     "metadata": {},
     "output_type": "execute_result"
    }
   ],
   "source": [
    "{i for i in tri_num}"
   ]
  },
  {
   "cell_type": "markdown",
   "id": "016e6b0d-6d12-42d3-8fad-4f11c363600d",
   "metadata": {},
   "source": [
    "48. Check if a set contains another set as a subset."
   ]
  },
  {
   "cell_type": "code",
   "execution_count": 117,
   "id": "82190fd7-1011-432c-b84f-10856972ad17",
   "metadata": {},
   "outputs": [],
   "source": [
    "A= {1,2,3,4}\n",
    "B = {3,4,5,6}\n",
    "C = {1,2,3,4}\n",
    "D= {5,6,7,8}\n",
    "E = {7,8,9}\n",
    "F= {5,6,7,8,9}"
   ]
  },
  {
   "cell_type": "code",
   "execution_count": 132,
   "id": "79bdf52e-c461-429c-bb02-e4c2b8dd6b69",
   "metadata": {},
   "outputs": [],
   "source": [
    "def if_subset(x,y):\n",
    "    if x.issubset(y):\n",
    "        print(\"YES.\", x ,\"is a subset of\" ,y)\n",
    "    else:\n",
    "        print(\"NO.\", x ,\"is NOT a subset of\" ,y)"
   ]
  },
  {
   "cell_type": "code",
   "execution_count": 133,
   "id": "669330e2-835f-4102-9880-346434cf4d5d",
   "metadata": {},
   "outputs": [
    {
     "name": "stdout",
     "output_type": "stream",
     "text": [
      "YES. {8, 9, 7} is a subset of {5, 6, 7, 8, 9}\n"
     ]
    }
   ],
   "source": [
    "if_subset(E,F)"
   ]
  },
  {
   "cell_type": "code",
   "execution_count": 134,
   "id": "5109ac3f-d6a8-4f76-b430-be078667ef09",
   "metadata": {},
   "outputs": [
    {
     "name": "stdout",
     "output_type": "stream",
     "text": [
      "NO. {1, 2, 3, 4} is NOT a subset of {3, 4, 5, 6}\n"
     ]
    }
   ],
   "source": [
    "if_subset(A,B)"
   ]
  },
  {
   "cell_type": "markdown",
   "id": "ed8cdead-7c8a-4e9e-a8bf-71aba2d479d6",
   "metadata": {},
   "source": [
    "49. Create a set of alternating 1s and 0s of length `n`."
   ]
  },
  {
   "cell_type": "code",
   "execution_count": 111,
   "id": "ef80b172-7ee3-4779-9fe3-eb110a744527",
   "metadata": {},
   "outputs": [
    {
     "name": "stdout",
     "output_type": "stream",
     "text": [
      "[0, 1, 0, 1, 0, 1, 0, 1, 0, 1]\n"
     ]
    }
   ],
   "source": [
    "n= 10\n",
    "list3= []\n",
    "for i in range(1,n+1):\n",
    "    if i%2 == 0:\n",
    "        list3.append(1)\n",
    "    else:\n",
    "        list3.append(0)\n",
    "print(list3)"
   ]
  },
  {
   "cell_type": "code",
   "execution_count": 112,
   "id": "57b4db41-e95f-4a05-9cfa-7776c9478260",
   "metadata": {},
   "outputs": [
    {
     "data": {
      "text/plain": [
       "{0, 1}"
      ]
     },
     "execution_count": 112,
     "metadata": {},
     "output_type": "execute_result"
    }
   ],
   "source": [
    "set(list3)"
   ]
  },
  {
   "cell_type": "markdown",
   "id": "61a72a2f-7507-49d2-94f2-e3174cde9ac0",
   "metadata": {},
   "source": [
    "50. Merge multiple sets into one."
   ]
  },
  {
   "cell_type": "code",
   "execution_count": 101,
   "id": "7c19bc45-5923-4d2b-b695-d619c4a5d3cf",
   "metadata": {},
   "outputs": [],
   "source": [
    "#merge all sets into A set\n",
    "A= {1,2,3,4}\n",
    "B = {3,4,5,6}\n",
    "C = {1,2,3,4}\n",
    "D= {5,6,7,8}\n",
    "E = {7,8,9}\n",
    "F= {5,6,7,8}"
   ]
  },
  {
   "cell_type": "code",
   "execution_count": 102,
   "id": "a118758e-7d19-445f-9f7c-244048c1b9a5",
   "metadata": {},
   "outputs": [
    {
     "data": {
      "text/plain": [
       "{1, 2, 3, 4, 5, 6, 7, 8, 9}"
      ]
     },
     "execution_count": 102,
     "metadata": {},
     "output_type": "execute_result"
    }
   ],
   "source": [
    "A.update(A,B,C,D,E,F)\n",
    "A"
   ]
  }
 ],
 "metadata": {
  "kernelspec": {
   "display_name": "Python 3 (ipykernel)",
   "language": "python",
   "name": "python3"
  },
  "language_info": {
   "codemirror_mode": {
    "name": "ipython",
    "version": 3
   },
   "file_extension": ".py",
   "mimetype": "text/x-python",
   "name": "python",
   "nbconvert_exporter": "python",
   "pygments_lexer": "ipython3",
   "version": "3.10.8"
  }
 },
 "nbformat": 4,
 "nbformat_minor": 5
}
